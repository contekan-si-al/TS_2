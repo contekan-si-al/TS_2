{
  "nbformat": 4,
  "nbformat_minor": 0,
  "metadata": {
    "colab": {
      "name": "Cara1 - Demo Day.ipynb",
      "provenance": [],
      "collapsed_sections": []
    },
    "kernelspec": {
      "name": "python3",
      "display_name": "Python 3"
    },
    "language_info": {
      "name": "python"
    },
    "accelerator": "GPU",
    "gpuClass": "standard"
  },
  "cells": [
    {
      "cell_type": "code",
      "execution_count": 1,
      "metadata": {
        "id": "ubYqajpNDQWc"
      },
      "outputs": [],
      "source": [
        "# import library\n",
        "\n",
        "import pandas as pd\n",
        "import numpy as np\n",
        "import matplotlib.pyplot as plt\n",
        "import seaborn as sns\n",
        "import plotly.express as px\n",
        "import datetime\n",
        "import tensorflow as tf\n",
        "\n",
        "from sklearn.preprocessing import MinMaxScaler\n",
        "from keras.models import Sequential\n",
        "from keras.layers import Dense, LSTM, Dropout, GRU\n",
        "from keras.layers import *\n",
        "from sklearn.metrics import mean_squared_error, mean_absolute_error\n",
        "from sklearn.model_selection import train_test_split\n",
        "from keras.callbacks import EarlyStopping\n",
        "from tensorflow.keras.optimizers import Adam, SGD"
      ]
    },
    {
      "cell_type": "code",
      "source": [
        "# singkronisasi ke g-drive\n",
        "\n",
        "from google.colab import drive\n",
        "drive.mount('/content/drive')"
      ],
      "metadata": {
        "colab": {
          "base_uri": "https://localhost:8080/"
        },
        "id": "7DIwc--wDcUF",
        "outputId": "ccc6d5f1-c344-45a3-bbd9-8cfd1e970545"
      },
      "execution_count": 2,
      "outputs": [
        {
          "output_type": "stream",
          "name": "stdout",
          "text": [
            "Mounted at /content/drive\n"
          ]
        }
      ]
    },
    {
      "cell_type": "code",
      "source": [
        "# membaca dataset\n",
        "\n",
        "dataset = pd.read_csv('/content/drive/MyDrive/MLT2/covid_impact_on_airport_traffic.csv')"
      ],
      "metadata": {
        "id": "4lfmB8WRDwEA"
      },
      "execution_count": 3,
      "outputs": []
    },
    {
      "cell_type": "markdown",
      "source": [
        "## 1. Explorasi Data"
      ],
      "metadata": {
        "id": "6Rx2QeYEEOPy"
      }
    },
    {
      "cell_type": "code",
      "source": [
        "# melihat gambaran data\n",
        "\n",
        "data = dataset.copy()\n",
        "data.head()"
      ],
      "metadata": {
        "colab": {
          "base_uri": "https://localhost:8080/",
          "height": 444
        },
        "id": "ByzSEvSBD-OZ",
        "outputId": "4c916798-f346-44a8-cef1-0f4b2f9f19f2"
      },
      "execution_count": 4,
      "outputs": [
        {
          "output_type": "execute_result",
          "data": {
            "text/plain": [
              "  AggregationMethod        Date  Version      AirportName  PercentOfBaseline  \\\n",
              "0             Daily  2020-04-03      1.0  Kingsford Smith                 64   \n",
              "1             Daily  2020-04-13      1.0  Kingsford Smith                 29   \n",
              "2             Daily  2020-07-10      1.0  Kingsford Smith                 54   \n",
              "3             Daily  2020-09-02      1.0  Kingsford Smith                 18   \n",
              "4             Daily  2020-10-31      1.0  Kingsford Smith                 22   \n",
              "\n",
              "                                    Centroid    City            State  \\\n",
              "0  POINT(151.180087713813 -33.9459774986125)  Sydney  New South Wales   \n",
              "1  POINT(151.180087713813 -33.9459774986125)  Sydney  New South Wales   \n",
              "2  POINT(151.180087713813 -33.9459774986125)  Sydney  New South Wales   \n",
              "3  POINT(151.180087713813 -33.9459774986125)  Sydney  New South Wales   \n",
              "4  POINT(151.180087713813 -33.9459774986125)  Sydney  New South Wales   \n",
              "\n",
              "  ISO_3166_2    Country                                          Geography  \n",
              "0         AU  Australia  POLYGON((151.164354085922 -33.9301772341877, 1...  \n",
              "1         AU  Australia  POLYGON((151.164354085922 -33.9301772341877, 1...  \n",
              "2         AU  Australia  POLYGON((151.164354085922 -33.9301772341877, 1...  \n",
              "3         AU  Australia  POLYGON((151.164354085922 -33.9301772341877, 1...  \n",
              "4         AU  Australia  POLYGON((151.164354085922 -33.9301772341877, 1...  "
            ],
            "text/html": [
              "\n",
              "  <div id=\"df-ef9d3e9e-a9a5-4fdb-889d-65ac379e6eaf\">\n",
              "    <div class=\"colab-df-container\">\n",
              "      <div>\n",
              "<style scoped>\n",
              "    .dataframe tbody tr th:only-of-type {\n",
              "        vertical-align: middle;\n",
              "    }\n",
              "\n",
              "    .dataframe tbody tr th {\n",
              "        vertical-align: top;\n",
              "    }\n",
              "\n",
              "    .dataframe thead th {\n",
              "        text-align: right;\n",
              "    }\n",
              "</style>\n",
              "<table border=\"1\" class=\"dataframe\">\n",
              "  <thead>\n",
              "    <tr style=\"text-align: right;\">\n",
              "      <th></th>\n",
              "      <th>AggregationMethod</th>\n",
              "      <th>Date</th>\n",
              "      <th>Version</th>\n",
              "      <th>AirportName</th>\n",
              "      <th>PercentOfBaseline</th>\n",
              "      <th>Centroid</th>\n",
              "      <th>City</th>\n",
              "      <th>State</th>\n",
              "      <th>ISO_3166_2</th>\n",
              "      <th>Country</th>\n",
              "      <th>Geography</th>\n",
              "    </tr>\n",
              "  </thead>\n",
              "  <tbody>\n",
              "    <tr>\n",
              "      <th>0</th>\n",
              "      <td>Daily</td>\n",
              "      <td>2020-04-03</td>\n",
              "      <td>1.0</td>\n",
              "      <td>Kingsford Smith</td>\n",
              "      <td>64</td>\n",
              "      <td>POINT(151.180087713813 -33.9459774986125)</td>\n",
              "      <td>Sydney</td>\n",
              "      <td>New South Wales</td>\n",
              "      <td>AU</td>\n",
              "      <td>Australia</td>\n",
              "      <td>POLYGON((151.164354085922 -33.9301772341877, 1...</td>\n",
              "    </tr>\n",
              "    <tr>\n",
              "      <th>1</th>\n",
              "      <td>Daily</td>\n",
              "      <td>2020-04-13</td>\n",
              "      <td>1.0</td>\n",
              "      <td>Kingsford Smith</td>\n",
              "      <td>29</td>\n",
              "      <td>POINT(151.180087713813 -33.9459774986125)</td>\n",
              "      <td>Sydney</td>\n",
              "      <td>New South Wales</td>\n",
              "      <td>AU</td>\n",
              "      <td>Australia</td>\n",
              "      <td>POLYGON((151.164354085922 -33.9301772341877, 1...</td>\n",
              "    </tr>\n",
              "    <tr>\n",
              "      <th>2</th>\n",
              "      <td>Daily</td>\n",
              "      <td>2020-07-10</td>\n",
              "      <td>1.0</td>\n",
              "      <td>Kingsford Smith</td>\n",
              "      <td>54</td>\n",
              "      <td>POINT(151.180087713813 -33.9459774986125)</td>\n",
              "      <td>Sydney</td>\n",
              "      <td>New South Wales</td>\n",
              "      <td>AU</td>\n",
              "      <td>Australia</td>\n",
              "      <td>POLYGON((151.164354085922 -33.9301772341877, 1...</td>\n",
              "    </tr>\n",
              "    <tr>\n",
              "      <th>3</th>\n",
              "      <td>Daily</td>\n",
              "      <td>2020-09-02</td>\n",
              "      <td>1.0</td>\n",
              "      <td>Kingsford Smith</td>\n",
              "      <td>18</td>\n",
              "      <td>POINT(151.180087713813 -33.9459774986125)</td>\n",
              "      <td>Sydney</td>\n",
              "      <td>New South Wales</td>\n",
              "      <td>AU</td>\n",
              "      <td>Australia</td>\n",
              "      <td>POLYGON((151.164354085922 -33.9301772341877, 1...</td>\n",
              "    </tr>\n",
              "    <tr>\n",
              "      <th>4</th>\n",
              "      <td>Daily</td>\n",
              "      <td>2020-10-31</td>\n",
              "      <td>1.0</td>\n",
              "      <td>Kingsford Smith</td>\n",
              "      <td>22</td>\n",
              "      <td>POINT(151.180087713813 -33.9459774986125)</td>\n",
              "      <td>Sydney</td>\n",
              "      <td>New South Wales</td>\n",
              "      <td>AU</td>\n",
              "      <td>Australia</td>\n",
              "      <td>POLYGON((151.164354085922 -33.9301772341877, 1...</td>\n",
              "    </tr>\n",
              "  </tbody>\n",
              "</table>\n",
              "</div>\n",
              "      <button class=\"colab-df-convert\" onclick=\"convertToInteractive('df-ef9d3e9e-a9a5-4fdb-889d-65ac379e6eaf')\"\n",
              "              title=\"Convert this dataframe to an interactive table.\"\n",
              "              style=\"display:none;\">\n",
              "        \n",
              "  <svg xmlns=\"http://www.w3.org/2000/svg\" height=\"24px\"viewBox=\"0 0 24 24\"\n",
              "       width=\"24px\">\n",
              "    <path d=\"M0 0h24v24H0V0z\" fill=\"none\"/>\n",
              "    <path d=\"M18.56 5.44l.94 2.06.94-2.06 2.06-.94-2.06-.94-.94-2.06-.94 2.06-2.06.94zm-11 1L8.5 8.5l.94-2.06 2.06-.94-2.06-.94L8.5 2.5l-.94 2.06-2.06.94zm10 10l.94 2.06.94-2.06 2.06-.94-2.06-.94-.94-2.06-.94 2.06-2.06.94z\"/><path d=\"M17.41 7.96l-1.37-1.37c-.4-.4-.92-.59-1.43-.59-.52 0-1.04.2-1.43.59L10.3 9.45l-7.72 7.72c-.78.78-.78 2.05 0 2.83L4 21.41c.39.39.9.59 1.41.59.51 0 1.02-.2 1.41-.59l7.78-7.78 2.81-2.81c.8-.78.8-2.07 0-2.86zM5.41 20L4 18.59l7.72-7.72 1.47 1.35L5.41 20z\"/>\n",
              "  </svg>\n",
              "      </button>\n",
              "      \n",
              "  <style>\n",
              "    .colab-df-container {\n",
              "      display:flex;\n",
              "      flex-wrap:wrap;\n",
              "      gap: 12px;\n",
              "    }\n",
              "\n",
              "    .colab-df-convert {\n",
              "      background-color: #E8F0FE;\n",
              "      border: none;\n",
              "      border-radius: 50%;\n",
              "      cursor: pointer;\n",
              "      display: none;\n",
              "      fill: #1967D2;\n",
              "      height: 32px;\n",
              "      padding: 0 0 0 0;\n",
              "      width: 32px;\n",
              "    }\n",
              "\n",
              "    .colab-df-convert:hover {\n",
              "      background-color: #E2EBFA;\n",
              "      box-shadow: 0px 1px 2px rgba(60, 64, 67, 0.3), 0px 1px 3px 1px rgba(60, 64, 67, 0.15);\n",
              "      fill: #174EA6;\n",
              "    }\n",
              "\n",
              "    [theme=dark] .colab-df-convert {\n",
              "      background-color: #3B4455;\n",
              "      fill: #D2E3FC;\n",
              "    }\n",
              "\n",
              "    [theme=dark] .colab-df-convert:hover {\n",
              "      background-color: #434B5C;\n",
              "      box-shadow: 0px 1px 3px 1px rgba(0, 0, 0, 0.15);\n",
              "      filter: drop-shadow(0px 1px 2px rgba(0, 0, 0, 0.3));\n",
              "      fill: #FFFFFF;\n",
              "    }\n",
              "  </style>\n",
              "\n",
              "      <script>\n",
              "        const buttonEl =\n",
              "          document.querySelector('#df-ef9d3e9e-a9a5-4fdb-889d-65ac379e6eaf button.colab-df-convert');\n",
              "        buttonEl.style.display =\n",
              "          google.colab.kernel.accessAllowed ? 'block' : 'none';\n",
              "\n",
              "        async function convertToInteractive(key) {\n",
              "          const element = document.querySelector('#df-ef9d3e9e-a9a5-4fdb-889d-65ac379e6eaf');\n",
              "          const dataTable =\n",
              "            await google.colab.kernel.invokeFunction('convertToInteractive',\n",
              "                                                     [key], {});\n",
              "          if (!dataTable) return;\n",
              "\n",
              "          const docLinkHtml = 'Like what you see? Visit the ' +\n",
              "            '<a target=\"_blank\" href=https://colab.research.google.com/notebooks/data_table.ipynb>data table notebook</a>'\n",
              "            + ' to learn more about interactive tables.';\n",
              "          element.innerHTML = '';\n",
              "          dataTable['output_type'] = 'display_data';\n",
              "          await google.colab.output.renderOutput(dataTable, element);\n",
              "          const docLink = document.createElement('div');\n",
              "          docLink.innerHTML = docLinkHtml;\n",
              "          element.appendChild(docLink);\n",
              "        }\n",
              "      </script>\n",
              "    </div>\n",
              "  </div>\n",
              "  "
            ]
          },
          "metadata": {},
          "execution_count": 4
        }
      ]
    },
    {
      "cell_type": "code",
      "source": [
        "# melihat info data\n",
        "\n",
        "data.info()"
      ],
      "metadata": {
        "colab": {
          "base_uri": "https://localhost:8080/"
        },
        "id": "muJ1YoRQEHmF",
        "outputId": "2f0678bc-c8bc-42dd-9122-c4ee6d37ccd7"
      },
      "execution_count": 5,
      "outputs": [
        {
          "output_type": "stream",
          "name": "stdout",
          "text": [
            "<class 'pandas.core.frame.DataFrame'>\n",
            "RangeIndex: 7247 entries, 0 to 7246\n",
            "Data columns (total 11 columns):\n",
            " #   Column             Non-Null Count  Dtype  \n",
            "---  ------             --------------  -----  \n",
            " 0   AggregationMethod  7247 non-null   object \n",
            " 1   Date               7247 non-null   object \n",
            " 2   Version            7247 non-null   float64\n",
            " 3   AirportName        7247 non-null   object \n",
            " 4   PercentOfBaseline  7247 non-null   int64  \n",
            " 5   Centroid           7247 non-null   object \n",
            " 6   City               7247 non-null   object \n",
            " 7   State              7247 non-null   object \n",
            " 8   ISO_3166_2         7247 non-null   object \n",
            " 9   Country            7247 non-null   object \n",
            " 10  Geography          7247 non-null   object \n",
            "dtypes: float64(1), int64(1), object(9)\n",
            "memory usage: 622.9+ KB\n"
          ]
        }
      ]
    },
    {
      "cell_type": "code",
      "source": [
        "# melihat pengelompokan 1\n",
        "\n",
        "groupby_df = data.groupby(['Country', 'AirportName']).agg({\n",
        "   'Date'  : 'nunique', \n",
        "   'City'  : 'unique',\n",
        "   'State' : 'unique',\n",
        "   'PercentOfBaseline' : 'nunique'\n",
        "})\n",
        "\n",
        "groupby_df"
      ],
      "metadata": {
        "colab": {
          "base_uri": "https://localhost:8080/",
          "height": 1000
        },
        "id": "lUTSIpqngumQ",
        "outputId": "4c6238b0-f911-4c34-ee10-6060d4269d44"
      },
      "execution_count": 6,
      "outputs": [
        {
          "output_type": "execute_result",
          "data": {
            "text/plain": [
              "                                                                          Date  \\\n",
              "Country                        AirportName                                       \n",
              "Australia                      Kingsford Smith                             257   \n",
              "Canada                         Calgary International                       261   \n",
              "                               Edmonton International                      236   \n",
              "                               Halifax International                       252   \n",
              "                               Hamilton International                      260   \n",
              "                               Montreal Mirabel                            257   \n",
              "                               Montreal Trudeau                            262   \n",
              "                               Toronto Pearson                             261   \n",
              "                               Vancouver International                     261   \n",
              "                               Winnipeg International                      261   \n",
              "Chile                          Santiago International Airport              238   \n",
              "United States of America (the) Boston Logan International                  261   \n",
              "                               Charlotte Douglas International             261   \n",
              "                               Chicago OHare International                 261   \n",
              "                               Dallas/Fort Worth International             262   \n",
              "                               Daniel K. Inouye International              261   \n",
              "                               Denver International                        261   \n",
              "                               Detroit Metropolitan Wayne County           261   \n",
              "                               Hartsfield-Jackson Atlanta International    262   \n",
              "                               John F. Kennedy International               262   \n",
              "                               LaGuardia                                   261   \n",
              "                               Los Angeles International                   262   \n",
              "                               McCarran International                      261   \n",
              "                               Miami International                         261   \n",
              "                               Newark Liberty International                261   \n",
              "                               San Francisco International                 261   \n",
              "                               Seattle-Tacoma International                261   \n",
              "                               Washington Dulles International             261   \n",
              "\n",
              "                                                                                           City  \\\n",
              "Country                        AirportName                                                        \n",
              "Australia                      Kingsford Smith                                         [Sydney]   \n",
              "Canada                         Calgary International                                  [Calgary]   \n",
              "                               Edmonton International                            [Leduc County]   \n",
              "                               Halifax International                                  [Halifax]   \n",
              "                               Hamilton International                                [Hamilton]   \n",
              "                               Montreal Mirabel                                       [Mirabel]   \n",
              "                               Montreal Trudeau                                        [Dorval]   \n",
              "                               Toronto Pearson                                    [Mississauga]   \n",
              "                               Vancouver International                               [Richmond]   \n",
              "                               Winnipeg International                                [Winnipeg]   \n",
              "Chile                          Santiago International Airport                        [Santiago]   \n",
              "United States of America (the) Boston Logan International                              [Boston]   \n",
              "                               Charlotte Douglas International                      [Charlotte]   \n",
              "                               Chicago OHare International                            [Chicago]   \n",
              "                               Dallas/Fort Worth International                      [Grapevine]   \n",
              "                               Daniel K. Inouye International                  [Urban Honolulu]   \n",
              "                               Denver International                                    [Denver]   \n",
              "                               Detroit Metropolitan Wayne County                      [Romulus]   \n",
              "                               Hartsfield-Jackson Atlanta International          [College Park]   \n",
              "                               John F. Kennedy International                         [New York]   \n",
              "                               LaGuardia                                             [New York]   \n",
              "                               Los Angeles International                          [Los Angeles]   \n",
              "                               McCarran International                                [Paradise]   \n",
              "                               Miami International                              [Miami Springs]   \n",
              "                               Newark Liberty International                            [Newark]   \n",
              "                               San Francisco International                [South San Francisco]   \n",
              "                               Seattle-Tacoma International                            [SeaTac]   \n",
              "                               Washington Dulles International                         [Floris]   \n",
              "\n",
              "                                                                                        State  \\\n",
              "Country                        AirportName                                                      \n",
              "Australia                      Kingsford Smith                              [New South Wales]   \n",
              "Canada                         Calgary International                                [Alberta]   \n",
              "                               Edmonton International                               [Alberta]   \n",
              "                               Halifax International                            [Nova Scotia]   \n",
              "                               Hamilton International                               [Ontario]   \n",
              "                               Montreal Mirabel                                      [Quebec]   \n",
              "                               Montreal Trudeau                                      [Quebec]   \n",
              "                               Toronto Pearson                                      [Ontario]   \n",
              "                               Vancouver International                     [British Columbia]   \n",
              "                               Winnipeg International                              [Manitoba]   \n",
              "Chile                          Santiago International Airport             [Santiago Province]   \n",
              "United States of America (the) Boston Logan International                     [Massachusetts]   \n",
              "                               Charlotte Douglas International               [North Carolina]   \n",
              "                               Chicago OHare International                         [Illinois]   \n",
              "                               Dallas/Fort Worth International                        [Texas]   \n",
              "                               Daniel K. Inouye International                        [Hawaii]   \n",
              "                               Denver International                                [Colorado]   \n",
              "                               Detroit Metropolitan Wayne County                   [Michigan]   \n",
              "                               Hartsfield-Jackson Atlanta International             [Georgia]   \n",
              "                               John F. Kennedy International                       [New York]   \n",
              "                               LaGuardia                                           [New York]   \n",
              "                               Los Angeles International                         [California]   \n",
              "                               McCarran International                                [Nevada]   \n",
              "                               Miami International                                  [Florida]   \n",
              "                               Newark Liberty International                      [New Jersey]   \n",
              "                               San Francisco International                       [California]   \n",
              "                               Seattle-Tacoma International                      [Washington]   \n",
              "                               Washington Dulles International                     [Virginia]   \n",
              "\n",
              "                                                                          PercentOfBaseline  \n",
              "Country                        AirportName                                                   \n",
              "Australia                      Kingsford Smith                                           65  \n",
              "Canada                         Calgary International                                     45  \n",
              "                               Edmonton International                                    67  \n",
              "                               Halifax International                                     79  \n",
              "                               Hamilton International                                    42  \n",
              "                               Montreal Mirabel                                          51  \n",
              "                               Montreal Trudeau                                          68  \n",
              "                               Toronto Pearson                                           65  \n",
              "                               Vancouver International                                   60  \n",
              "                               Winnipeg International                                    44  \n",
              "Chile                          Santiago International Airport                            61  \n",
              "United States of America (the) Boston Logan International                                45  \n",
              "                               Charlotte Douglas International                           66  \n",
              "                               Chicago OHare International                               48  \n",
              "                               Dallas/Fort Worth International                           67  \n",
              "                               Daniel K. Inouye International                            47  \n",
              "                               Denver International                                      64  \n",
              "                               Detroit Metropolitan Wayne County                         39  \n",
              "                               Hartsfield-Jackson Atlanta International                  48  \n",
              "                               John F. Kennedy International                             59  \n",
              "                               LaGuardia                                                 53  \n",
              "                               Los Angeles International                                 52  \n",
              "                               McCarran International                                    57  \n",
              "                               Miami International                                       54  \n",
              "                               Newark Liberty International                              40  \n",
              "                               San Francisco International                               55  \n",
              "                               Seattle-Tacoma International                              56  \n",
              "                               Washington Dulles International                           55  "
            ],
            "text/html": [
              "\n",
              "  <div id=\"df-a3f7da85-35ce-42db-8d2b-303db7aeee51\">\n",
              "    <div class=\"colab-df-container\">\n",
              "      <div>\n",
              "<style scoped>\n",
              "    .dataframe tbody tr th:only-of-type {\n",
              "        vertical-align: middle;\n",
              "    }\n",
              "\n",
              "    .dataframe tbody tr th {\n",
              "        vertical-align: top;\n",
              "    }\n",
              "\n",
              "    .dataframe thead th {\n",
              "        text-align: right;\n",
              "    }\n",
              "</style>\n",
              "<table border=\"1\" class=\"dataframe\">\n",
              "  <thead>\n",
              "    <tr style=\"text-align: right;\">\n",
              "      <th></th>\n",
              "      <th></th>\n",
              "      <th>Date</th>\n",
              "      <th>City</th>\n",
              "      <th>State</th>\n",
              "      <th>PercentOfBaseline</th>\n",
              "    </tr>\n",
              "    <tr>\n",
              "      <th>Country</th>\n",
              "      <th>AirportName</th>\n",
              "      <th></th>\n",
              "      <th></th>\n",
              "      <th></th>\n",
              "      <th></th>\n",
              "    </tr>\n",
              "  </thead>\n",
              "  <tbody>\n",
              "    <tr>\n",
              "      <th>Australia</th>\n",
              "      <th>Kingsford Smith</th>\n",
              "      <td>257</td>\n",
              "      <td>[Sydney]</td>\n",
              "      <td>[New South Wales]</td>\n",
              "      <td>65</td>\n",
              "    </tr>\n",
              "    <tr>\n",
              "      <th rowspan=\"9\" valign=\"top\">Canada</th>\n",
              "      <th>Calgary International</th>\n",
              "      <td>261</td>\n",
              "      <td>[Calgary]</td>\n",
              "      <td>[Alberta]</td>\n",
              "      <td>45</td>\n",
              "    </tr>\n",
              "    <tr>\n",
              "      <th>Edmonton International</th>\n",
              "      <td>236</td>\n",
              "      <td>[Leduc County]</td>\n",
              "      <td>[Alberta]</td>\n",
              "      <td>67</td>\n",
              "    </tr>\n",
              "    <tr>\n",
              "      <th>Halifax International</th>\n",
              "      <td>252</td>\n",
              "      <td>[Halifax]</td>\n",
              "      <td>[Nova Scotia]</td>\n",
              "      <td>79</td>\n",
              "    </tr>\n",
              "    <tr>\n",
              "      <th>Hamilton International</th>\n",
              "      <td>260</td>\n",
              "      <td>[Hamilton]</td>\n",
              "      <td>[Ontario]</td>\n",
              "      <td>42</td>\n",
              "    </tr>\n",
              "    <tr>\n",
              "      <th>Montreal Mirabel</th>\n",
              "      <td>257</td>\n",
              "      <td>[Mirabel]</td>\n",
              "      <td>[Quebec]</td>\n",
              "      <td>51</td>\n",
              "    </tr>\n",
              "    <tr>\n",
              "      <th>Montreal Trudeau</th>\n",
              "      <td>262</td>\n",
              "      <td>[Dorval]</td>\n",
              "      <td>[Quebec]</td>\n",
              "      <td>68</td>\n",
              "    </tr>\n",
              "    <tr>\n",
              "      <th>Toronto Pearson</th>\n",
              "      <td>261</td>\n",
              "      <td>[Mississauga]</td>\n",
              "      <td>[Ontario]</td>\n",
              "      <td>65</td>\n",
              "    </tr>\n",
              "    <tr>\n",
              "      <th>Vancouver International</th>\n",
              "      <td>261</td>\n",
              "      <td>[Richmond]</td>\n",
              "      <td>[British Columbia]</td>\n",
              "      <td>60</td>\n",
              "    </tr>\n",
              "    <tr>\n",
              "      <th>Winnipeg International</th>\n",
              "      <td>261</td>\n",
              "      <td>[Winnipeg]</td>\n",
              "      <td>[Manitoba]</td>\n",
              "      <td>44</td>\n",
              "    </tr>\n",
              "    <tr>\n",
              "      <th>Chile</th>\n",
              "      <th>Santiago International Airport</th>\n",
              "      <td>238</td>\n",
              "      <td>[Santiago]</td>\n",
              "      <td>[Santiago Province]</td>\n",
              "      <td>61</td>\n",
              "    </tr>\n",
              "    <tr>\n",
              "      <th rowspan=\"17\" valign=\"top\">United States of America (the)</th>\n",
              "      <th>Boston Logan International</th>\n",
              "      <td>261</td>\n",
              "      <td>[Boston]</td>\n",
              "      <td>[Massachusetts]</td>\n",
              "      <td>45</td>\n",
              "    </tr>\n",
              "    <tr>\n",
              "      <th>Charlotte Douglas International</th>\n",
              "      <td>261</td>\n",
              "      <td>[Charlotte]</td>\n",
              "      <td>[North Carolina]</td>\n",
              "      <td>66</td>\n",
              "    </tr>\n",
              "    <tr>\n",
              "      <th>Chicago OHare International</th>\n",
              "      <td>261</td>\n",
              "      <td>[Chicago]</td>\n",
              "      <td>[Illinois]</td>\n",
              "      <td>48</td>\n",
              "    </tr>\n",
              "    <tr>\n",
              "      <th>Dallas/Fort Worth International</th>\n",
              "      <td>262</td>\n",
              "      <td>[Grapevine]</td>\n",
              "      <td>[Texas]</td>\n",
              "      <td>67</td>\n",
              "    </tr>\n",
              "    <tr>\n",
              "      <th>Daniel K. Inouye International</th>\n",
              "      <td>261</td>\n",
              "      <td>[Urban Honolulu]</td>\n",
              "      <td>[Hawaii]</td>\n",
              "      <td>47</td>\n",
              "    </tr>\n",
              "    <tr>\n",
              "      <th>Denver International</th>\n",
              "      <td>261</td>\n",
              "      <td>[Denver]</td>\n",
              "      <td>[Colorado]</td>\n",
              "      <td>64</td>\n",
              "    </tr>\n",
              "    <tr>\n",
              "      <th>Detroit Metropolitan Wayne County</th>\n",
              "      <td>261</td>\n",
              "      <td>[Romulus]</td>\n",
              "      <td>[Michigan]</td>\n",
              "      <td>39</td>\n",
              "    </tr>\n",
              "    <tr>\n",
              "      <th>Hartsfield-Jackson Atlanta International</th>\n",
              "      <td>262</td>\n",
              "      <td>[College Park]</td>\n",
              "      <td>[Georgia]</td>\n",
              "      <td>48</td>\n",
              "    </tr>\n",
              "    <tr>\n",
              "      <th>John F. Kennedy International</th>\n",
              "      <td>262</td>\n",
              "      <td>[New York]</td>\n",
              "      <td>[New York]</td>\n",
              "      <td>59</td>\n",
              "    </tr>\n",
              "    <tr>\n",
              "      <th>LaGuardia</th>\n",
              "      <td>261</td>\n",
              "      <td>[New York]</td>\n",
              "      <td>[New York]</td>\n",
              "      <td>53</td>\n",
              "    </tr>\n",
              "    <tr>\n",
              "      <th>Los Angeles International</th>\n",
              "      <td>262</td>\n",
              "      <td>[Los Angeles]</td>\n",
              "      <td>[California]</td>\n",
              "      <td>52</td>\n",
              "    </tr>\n",
              "    <tr>\n",
              "      <th>McCarran International</th>\n",
              "      <td>261</td>\n",
              "      <td>[Paradise]</td>\n",
              "      <td>[Nevada]</td>\n",
              "      <td>57</td>\n",
              "    </tr>\n",
              "    <tr>\n",
              "      <th>Miami International</th>\n",
              "      <td>261</td>\n",
              "      <td>[Miami Springs]</td>\n",
              "      <td>[Florida]</td>\n",
              "      <td>54</td>\n",
              "    </tr>\n",
              "    <tr>\n",
              "      <th>Newark Liberty International</th>\n",
              "      <td>261</td>\n",
              "      <td>[Newark]</td>\n",
              "      <td>[New Jersey]</td>\n",
              "      <td>40</td>\n",
              "    </tr>\n",
              "    <tr>\n",
              "      <th>San Francisco International</th>\n",
              "      <td>261</td>\n",
              "      <td>[South San Francisco]</td>\n",
              "      <td>[California]</td>\n",
              "      <td>55</td>\n",
              "    </tr>\n",
              "    <tr>\n",
              "      <th>Seattle-Tacoma International</th>\n",
              "      <td>261</td>\n",
              "      <td>[SeaTac]</td>\n",
              "      <td>[Washington]</td>\n",
              "      <td>56</td>\n",
              "    </tr>\n",
              "    <tr>\n",
              "      <th>Washington Dulles International</th>\n",
              "      <td>261</td>\n",
              "      <td>[Floris]</td>\n",
              "      <td>[Virginia]</td>\n",
              "      <td>55</td>\n",
              "    </tr>\n",
              "  </tbody>\n",
              "</table>\n",
              "</div>\n",
              "      <button class=\"colab-df-convert\" onclick=\"convertToInteractive('df-a3f7da85-35ce-42db-8d2b-303db7aeee51')\"\n",
              "              title=\"Convert this dataframe to an interactive table.\"\n",
              "              style=\"display:none;\">\n",
              "        \n",
              "  <svg xmlns=\"http://www.w3.org/2000/svg\" height=\"24px\"viewBox=\"0 0 24 24\"\n",
              "       width=\"24px\">\n",
              "    <path d=\"M0 0h24v24H0V0z\" fill=\"none\"/>\n",
              "    <path d=\"M18.56 5.44l.94 2.06.94-2.06 2.06-.94-2.06-.94-.94-2.06-.94 2.06-2.06.94zm-11 1L8.5 8.5l.94-2.06 2.06-.94-2.06-.94L8.5 2.5l-.94 2.06-2.06.94zm10 10l.94 2.06.94-2.06 2.06-.94-2.06-.94-.94-2.06-.94 2.06-2.06.94z\"/><path d=\"M17.41 7.96l-1.37-1.37c-.4-.4-.92-.59-1.43-.59-.52 0-1.04.2-1.43.59L10.3 9.45l-7.72 7.72c-.78.78-.78 2.05 0 2.83L4 21.41c.39.39.9.59 1.41.59.51 0 1.02-.2 1.41-.59l7.78-7.78 2.81-2.81c.8-.78.8-2.07 0-2.86zM5.41 20L4 18.59l7.72-7.72 1.47 1.35L5.41 20z\"/>\n",
              "  </svg>\n",
              "      </button>\n",
              "      \n",
              "  <style>\n",
              "    .colab-df-container {\n",
              "      display:flex;\n",
              "      flex-wrap:wrap;\n",
              "      gap: 12px;\n",
              "    }\n",
              "\n",
              "    .colab-df-convert {\n",
              "      background-color: #E8F0FE;\n",
              "      border: none;\n",
              "      border-radius: 50%;\n",
              "      cursor: pointer;\n",
              "      display: none;\n",
              "      fill: #1967D2;\n",
              "      height: 32px;\n",
              "      padding: 0 0 0 0;\n",
              "      width: 32px;\n",
              "    }\n",
              "\n",
              "    .colab-df-convert:hover {\n",
              "      background-color: #E2EBFA;\n",
              "      box-shadow: 0px 1px 2px rgba(60, 64, 67, 0.3), 0px 1px 3px 1px rgba(60, 64, 67, 0.15);\n",
              "      fill: #174EA6;\n",
              "    }\n",
              "\n",
              "    [theme=dark] .colab-df-convert {\n",
              "      background-color: #3B4455;\n",
              "      fill: #D2E3FC;\n",
              "    }\n",
              "\n",
              "    [theme=dark] .colab-df-convert:hover {\n",
              "      background-color: #434B5C;\n",
              "      box-shadow: 0px 1px 3px 1px rgba(0, 0, 0, 0.15);\n",
              "      filter: drop-shadow(0px 1px 2px rgba(0, 0, 0, 0.3));\n",
              "      fill: #FFFFFF;\n",
              "    }\n",
              "  </style>\n",
              "\n",
              "      <script>\n",
              "        const buttonEl =\n",
              "          document.querySelector('#df-a3f7da85-35ce-42db-8d2b-303db7aeee51 button.colab-df-convert');\n",
              "        buttonEl.style.display =\n",
              "          google.colab.kernel.accessAllowed ? 'block' : 'none';\n",
              "\n",
              "        async function convertToInteractive(key) {\n",
              "          const element = document.querySelector('#df-a3f7da85-35ce-42db-8d2b-303db7aeee51');\n",
              "          const dataTable =\n",
              "            await google.colab.kernel.invokeFunction('convertToInteractive',\n",
              "                                                     [key], {});\n",
              "          if (!dataTable) return;\n",
              "\n",
              "          const docLinkHtml = 'Like what you see? Visit the ' +\n",
              "            '<a target=\"_blank\" href=https://colab.research.google.com/notebooks/data_table.ipynb>data table notebook</a>'\n",
              "            + ' to learn more about interactive tables.';\n",
              "          element.innerHTML = '';\n",
              "          dataTable['output_type'] = 'display_data';\n",
              "          await google.colab.output.renderOutput(dataTable, element);\n",
              "          const docLink = document.createElement('div');\n",
              "          docLink.innerHTML = docLinkHtml;\n",
              "          element.appendChild(docLink);\n",
              "        }\n",
              "      </script>\n",
              "    </div>\n",
              "  </div>\n",
              "  "
            ]
          },
          "metadata": {},
          "execution_count": 6
        }
      ]
    },
    {
      "cell_type": "code",
      "source": [
        "# melihat pengelompokan 2\n",
        "\n",
        "kelompok = data.groupby(\"Country\")[['State','City','AirportName']].nunique()\n",
        "\n",
        "kelompok"
      ],
      "metadata": {
        "id": "w-8OnI5lsdD5",
        "colab": {
          "base_uri": "https://localhost:8080/",
          "height": 206
        },
        "outputId": "f2b99f93-e540-44e4-dfe9-be00ca2249d8"
      },
      "execution_count": 7,
      "outputs": [
        {
          "output_type": "execute_result",
          "data": {
            "text/plain": [
              "                                State  City  AirportName\n",
              "Country                                                 \n",
              "Australia                           1     1            1\n",
              "Canada                              6     9            9\n",
              "Chile                               1     1            1\n",
              "United States of America (the)     15    16           17"
            ],
            "text/html": [
              "\n",
              "  <div id=\"df-35700d06-350e-48bc-902e-f8e884f54112\">\n",
              "    <div class=\"colab-df-container\">\n",
              "      <div>\n",
              "<style scoped>\n",
              "    .dataframe tbody tr th:only-of-type {\n",
              "        vertical-align: middle;\n",
              "    }\n",
              "\n",
              "    .dataframe tbody tr th {\n",
              "        vertical-align: top;\n",
              "    }\n",
              "\n",
              "    .dataframe thead th {\n",
              "        text-align: right;\n",
              "    }\n",
              "</style>\n",
              "<table border=\"1\" class=\"dataframe\">\n",
              "  <thead>\n",
              "    <tr style=\"text-align: right;\">\n",
              "      <th></th>\n",
              "      <th>State</th>\n",
              "      <th>City</th>\n",
              "      <th>AirportName</th>\n",
              "    </tr>\n",
              "    <tr>\n",
              "      <th>Country</th>\n",
              "      <th></th>\n",
              "      <th></th>\n",
              "      <th></th>\n",
              "    </tr>\n",
              "  </thead>\n",
              "  <tbody>\n",
              "    <tr>\n",
              "      <th>Australia</th>\n",
              "      <td>1</td>\n",
              "      <td>1</td>\n",
              "      <td>1</td>\n",
              "    </tr>\n",
              "    <tr>\n",
              "      <th>Canada</th>\n",
              "      <td>6</td>\n",
              "      <td>9</td>\n",
              "      <td>9</td>\n",
              "    </tr>\n",
              "    <tr>\n",
              "      <th>Chile</th>\n",
              "      <td>1</td>\n",
              "      <td>1</td>\n",
              "      <td>1</td>\n",
              "    </tr>\n",
              "    <tr>\n",
              "      <th>United States of America (the)</th>\n",
              "      <td>15</td>\n",
              "      <td>16</td>\n",
              "      <td>17</td>\n",
              "    </tr>\n",
              "  </tbody>\n",
              "</table>\n",
              "</div>\n",
              "      <button class=\"colab-df-convert\" onclick=\"convertToInteractive('df-35700d06-350e-48bc-902e-f8e884f54112')\"\n",
              "              title=\"Convert this dataframe to an interactive table.\"\n",
              "              style=\"display:none;\">\n",
              "        \n",
              "  <svg xmlns=\"http://www.w3.org/2000/svg\" height=\"24px\"viewBox=\"0 0 24 24\"\n",
              "       width=\"24px\">\n",
              "    <path d=\"M0 0h24v24H0V0z\" fill=\"none\"/>\n",
              "    <path d=\"M18.56 5.44l.94 2.06.94-2.06 2.06-.94-2.06-.94-.94-2.06-.94 2.06-2.06.94zm-11 1L8.5 8.5l.94-2.06 2.06-.94-2.06-.94L8.5 2.5l-.94 2.06-2.06.94zm10 10l.94 2.06.94-2.06 2.06-.94-2.06-.94-.94-2.06-.94 2.06-2.06.94z\"/><path d=\"M17.41 7.96l-1.37-1.37c-.4-.4-.92-.59-1.43-.59-.52 0-1.04.2-1.43.59L10.3 9.45l-7.72 7.72c-.78.78-.78 2.05 0 2.83L4 21.41c.39.39.9.59 1.41.59.51 0 1.02-.2 1.41-.59l7.78-7.78 2.81-2.81c.8-.78.8-2.07 0-2.86zM5.41 20L4 18.59l7.72-7.72 1.47 1.35L5.41 20z\"/>\n",
              "  </svg>\n",
              "      </button>\n",
              "      \n",
              "  <style>\n",
              "    .colab-df-container {\n",
              "      display:flex;\n",
              "      flex-wrap:wrap;\n",
              "      gap: 12px;\n",
              "    }\n",
              "\n",
              "    .colab-df-convert {\n",
              "      background-color: #E8F0FE;\n",
              "      border: none;\n",
              "      border-radius: 50%;\n",
              "      cursor: pointer;\n",
              "      display: none;\n",
              "      fill: #1967D2;\n",
              "      height: 32px;\n",
              "      padding: 0 0 0 0;\n",
              "      width: 32px;\n",
              "    }\n",
              "\n",
              "    .colab-df-convert:hover {\n",
              "      background-color: #E2EBFA;\n",
              "      box-shadow: 0px 1px 2px rgba(60, 64, 67, 0.3), 0px 1px 3px 1px rgba(60, 64, 67, 0.15);\n",
              "      fill: #174EA6;\n",
              "    }\n",
              "\n",
              "    [theme=dark] .colab-df-convert {\n",
              "      background-color: #3B4455;\n",
              "      fill: #D2E3FC;\n",
              "    }\n",
              "\n",
              "    [theme=dark] .colab-df-convert:hover {\n",
              "      background-color: #434B5C;\n",
              "      box-shadow: 0px 1px 3px 1px rgba(0, 0, 0, 0.15);\n",
              "      filter: drop-shadow(0px 1px 2px rgba(0, 0, 0, 0.3));\n",
              "      fill: #FFFFFF;\n",
              "    }\n",
              "  </style>\n",
              "\n",
              "      <script>\n",
              "        const buttonEl =\n",
              "          document.querySelector('#df-35700d06-350e-48bc-902e-f8e884f54112 button.colab-df-convert');\n",
              "        buttonEl.style.display =\n",
              "          google.colab.kernel.accessAllowed ? 'block' : 'none';\n",
              "\n",
              "        async function convertToInteractive(key) {\n",
              "          const element = document.querySelector('#df-35700d06-350e-48bc-902e-f8e884f54112');\n",
              "          const dataTable =\n",
              "            await google.colab.kernel.invokeFunction('convertToInteractive',\n",
              "                                                     [key], {});\n",
              "          if (!dataTable) return;\n",
              "\n",
              "          const docLinkHtml = 'Like what you see? Visit the ' +\n",
              "            '<a target=\"_blank\" href=https://colab.research.google.com/notebooks/data_table.ipynb>data table notebook</a>'\n",
              "            + ' to learn more about interactive tables.';\n",
              "          element.innerHTML = '';\n",
              "          dataTable['output_type'] = 'display_data';\n",
              "          await google.colab.output.renderOutput(dataTable, element);\n",
              "          const docLink = document.createElement('div');\n",
              "          docLink.innerHTML = docLinkHtml;\n",
              "          element.appendChild(docLink);\n",
              "        }\n",
              "      </script>\n",
              "    </div>\n",
              "  </div>\n",
              "  "
            ]
          },
          "metadata": {},
          "execution_count": 7
        }
      ]
    },
    {
      "cell_type": "code",
      "source": [
        "# visualisasi grafik\n",
        "\n",
        "df1 = data.groupby(\"Country\")['PercentOfBaseline'].count().sort_values(ascending = False).reset_index()\n",
        "sns.set(font_scale = 1.3)\n",
        "plt.figure(figsize = [13,9])\n",
        "sns.barplot(data = df1, x=  'Country', y = 'PercentOfBaseline',palette = 'husl')\n",
        "plt.ylabel('Percent of baseline')"
      ],
      "metadata": {
        "colab": {
          "base_uri": "https://localhost:8080/",
          "height": 580
        },
        "id": "GtEvwbq3bw87",
        "outputId": "437ca8f1-d05e-4d33-f481-6960555f2721"
      },
      "execution_count": 8,
      "outputs": [
        {
          "output_type": "execute_result",
          "data": {
            "text/plain": [
              "Text(0, 0.5, 'Percent of baseline')"
            ]
          },
          "metadata": {},
          "execution_count": 8
        },
        {
          "output_type": "display_data",
          "data": {
            "text/plain": [
              "<Figure size 936x648 with 1 Axes>"
            ],
            "image/png": "[encoded data removed]"
          },
          "metadata": {}
        }
      ]
    },
    {
      "cell_type": "code",
      "source": [
        "# melihat tabel\n",
        "\n",
        "df1"
      ],
      "metadata": {
        "colab": {
          "base_uri": "https://localhost:8080/",
          "height": 175
        },
        "id": "eNxCanJskitC",
        "outputId": "7a2a3627-6edd-4899-a060-4cb3b41a638c"
      },
      "execution_count": 9,
      "outputs": [
        {
          "output_type": "execute_result",
          "data": {
            "text/plain": [
              "                          Country  PercentOfBaseline\n",
              "0  United States of America (the)               4441\n",
              "1                          Canada               2311\n",
              "2                       Australia                257\n",
              "3                           Chile                238"
            ],
            "text/html": [
              "\n",
              "  <div id=\"df-d55ff10a-b483-4006-b386-46c566b9036e\">\n",
              "    <div class=\"colab-df-container\">\n",
              "      <div>\n",
              "<style scoped>\n",
              "    .dataframe tbody tr th:only-of-type {\n",
              "        vertical-align: middle;\n",
              "    }\n",
              "\n",
              "    .dataframe tbody tr th {\n",
              "        vertical-align: top;\n",
              "    }\n",
              "\n",
              "    .dataframe thead th {\n",
              "        text-align: right;\n",
              "    }\n",
              "</style>\n",
              "<table border=\"1\" class=\"dataframe\">\n",
              "  <thead>\n",
              "    <tr style=\"text-align: right;\">\n",
              "      <th></th>\n",
              "      <th>Country</th>\n",
              "      <th>PercentOfBaseline</th>\n",
              "    </tr>\n",
              "  </thead>\n",
              "  <tbody>\n",
              "    <tr>\n",
              "      <th>0</th>\n",
              "      <td>United States of America (the)</td>\n",
              "      <td>4441</td>\n",
              "    </tr>\n",
              "    <tr>\n",
              "      <th>1</th>\n",
              "      <td>Canada</td>\n",
              "      <td>2311</td>\n",
              "    </tr>\n",
              "    <tr>\n",
              "      <th>2</th>\n",
              "      <td>Australia</td>\n",
              "      <td>257</td>\n",
              "    </tr>\n",
              "    <tr>\n",
              "      <th>3</th>\n",
              "      <td>Chile</td>\n",
              "      <td>238</td>\n",
              "    </tr>\n",
              "  </tbody>\n",
              "</table>\n",
              "</div>\n",
              "      <button class=\"colab-df-convert\" onclick=\"convertToInteractive('df-d55ff10a-b483-4006-b386-46c566b9036e')\"\n",
              "              title=\"Convert this dataframe to an interactive table.\"\n",
              "              style=\"display:none;\">\n",
              "        \n",
              "  <svg xmlns=\"http://www.w3.org/2000/svg\" height=\"24px\"viewBox=\"0 0 24 24\"\n",
              "       width=\"24px\">\n",
              "    <path d=\"M0 0h24v24H0V0z\" fill=\"none\"/>\n",
              "    <path d=\"M18.56 5.44l.94 2.06.94-2.06 2.06-.94-2.06-.94-.94-2.06-.94 2.06-2.06.94zm-11 1L8.5 8.5l.94-2.06 2.06-.94-2.06-.94L8.5 2.5l-.94 2.06-2.06.94zm10 10l.94 2.06.94-2.06 2.06-.94-2.06-.94-.94-2.06-.94 2.06-2.06.94z\"/><path d=\"M17.41 7.96l-1.37-1.37c-.4-.4-.92-.59-1.43-.59-.52 0-1.04.2-1.43.59L10.3 9.45l-7.72 7.72c-.78.78-.78 2.05 0 2.83L4 21.41c.39.39.9.59 1.41.59.51 0 1.02-.2 1.41-.59l7.78-7.78 2.81-2.81c.8-.78.8-2.07 0-2.86zM5.41 20L4 18.59l7.72-7.72 1.47 1.35L5.41 20z\"/>\n",
              "  </svg>\n",
              "      </button>\n",
              "      \n",
              "  <style>\n",
              "    .colab-df-container {\n",
              "      display:flex;\n",
              "      flex-wrap:wrap;\n",
              "      gap: 12px;\n",
              "    }\n",
              "\n",
              "    .colab-df-convert {\n",
              "      background-color: #E8F0FE;\n",
              "      border: none;\n",
              "      border-radius: 50%;\n",
              "      cursor: pointer;\n",
              "      display: none;\n",
              "      fill: #1967D2;\n",
              "      height: 32px;\n",
              "      padding: 0 0 0 0;\n",
              "      width: 32px;\n",
              "    }\n",
              "\n",
              "    .colab-df-convert:hover {\n",
              "      background-color: #E2EBFA;\n",
              "      box-shadow: 0px 1px 2px rgba(60, 64, 67, 0.3), 0px 1px 3px 1px rgba(60, 64, 67, 0.15);\n",
              "      fill: #174EA6;\n",
              "    }\n",
              "\n",
              "    [theme=dark] .colab-df-convert {\n",
              "      background-color: #3B4455;\n",
              "      fill: #D2E3FC;\n",
              "    }\n",
              "\n",
              "    [theme=dark] .colab-df-convert:hover {\n",
              "      background-color: #434B5C;\n",
              "      box-shadow: 0px 1px 3px 1px rgba(0, 0, 0, 0.15);\n",
              "      filter: drop-shadow(0px 1px 2px rgba(0, 0, 0, 0.3));\n",
              "      fill: #FFFFFF;\n",
              "    }\n",
              "  </style>\n",
              "\n",
              "      <script>\n",
              "        const buttonEl =\n",
              "          document.querySelector('#df-d55ff10a-b483-4006-b386-46c566b9036e button.colab-df-convert');\n",
              "        buttonEl.style.display =\n",
              "          google.colab.kernel.accessAllowed ? 'block' : 'none';\n",
              "\n",
              "        async function convertToInteractive(key) {\n",
              "          const element = document.querySelector('#df-d55ff10a-b483-4006-b386-46c566b9036e');\n",
              "          const dataTable =\n",
              "            await google.colab.kernel.invokeFunction('convertToInteractive',\n",
              "                                                     [key], {});\n",
              "          if (!dataTable) return;\n",
              "\n",
              "          const docLinkHtml = 'Like what you see? Visit the ' +\n",
              "            '<a target=\"_blank\" href=https://colab.research.google.com/notebooks/data_table.ipynb>data table notebook</a>'\n",
              "            + ' to learn more about interactive tables.';\n",
              "          element.innerHTML = '';\n",
              "          dataTable['output_type'] = 'display_data';\n",
              "          await google.colab.output.renderOutput(dataTable, element);\n",
              "          const docLink = document.createElement('div');\n",
              "          docLink.innerHTML = docLinkHtml;\n",
              "          element.appendChild(docLink);\n",
              "        }\n",
              "      </script>\n",
              "    </div>\n",
              "  </div>\n",
              "  "
            ]
          },
          "metadata": {},
          "execution_count": 9
        }
      ]
    },
    {
      "cell_type": "markdown",
      "source": [
        "## 2. Data Pre-processing"
      ],
      "metadata": {
        "id": "HdLR1lz2neGT"
      }
    },
    {
      "cell_type": "code",
      "source": [
        "# mengubah tipe data\n",
        "\n",
        "data['Date'] = pd.to_datetime(data['Date'])"
      ],
      "metadata": {
        "id": "XjP5ZVPeNa1i"
      },
      "execution_count": 10,
      "outputs": []
    },
    {
      "cell_type": "code",
      "source": [
        "# cek nilai yang hilang (kosong)\n",
        "\n",
        "round(100*(data.isnull().sum()/len(data.index)), 2).sort_values(ascending=False)"
      ],
      "metadata": {
        "colab": {
          "base_uri": "https://localhost:8080/"
        },
        "id": "-ANu6cLRa51O",
        "outputId": "bed06610-d9a7-449b-87ee-db5a51d2dfb1"
      },
      "execution_count": 11,
      "outputs": [
        {
          "output_type": "execute_result",
          "data": {
            "text/plain": [
              "AggregationMethod    0.0\n",
              "Date                 0.0\n",
              "Version              0.0\n",
              "AirportName          0.0\n",
              "PercentOfBaseline    0.0\n",
              "Centroid             0.0\n",
              "City                 0.0\n",
              "State                0.0\n",
              "ISO_3166_2           0.0\n",
              "Country              0.0\n",
              "Geography            0.0\n",
              "dtype: float64"
            ]
          },
          "metadata": {},
          "execution_count": 11
        }
      ]
    },
    {
      "cell_type": "code",
      "source": [
        "# cek data duplikat dan menghapus semua duplikat jika ada\n",
        "\n",
        "data.drop_duplicates(subset=None, inplace=True)\n",
        "\n",
        "\n",
        "# melihat hasil\n",
        "\n",
        "data.shape"
      ],
      "metadata": {
        "colab": {
          "base_uri": "https://localhost:8080/"
        },
        "id": "0tY-1WOia6tY",
        "outputId": "5da45b51-c2e0-431e-f6f8-8eddeb3857f8"
      },
      "execution_count": 12,
      "outputs": [
        {
          "output_type": "execute_result",
          "data": {
            "text/plain": [
              "(7247, 11)"
            ]
          },
          "metadata": {},
          "execution_count": 12
        }
      ]
    },
    {
      "cell_type": "code",
      "source": [
        "# menghilangkan data yang tidak digunakan\n",
        "\n",
        "df = data.drop(columns=['AggregationMethod', 'Version', 'Centroid', 'ISO_3166_2', 'Geography'])"
      ],
      "metadata": {
        "id": "NfgJWOHFgNxd"
      },
      "execution_count": 13,
      "outputs": []
    },
    {
      "cell_type": "code",
      "source": [
        "# melihat df\n",
        "\n",
        "df.info()"
      ],
      "metadata": {
        "colab": {
          "base_uri": "https://localhost:8080/"
        },
        "id": "EsjsLRC2rZMU",
        "outputId": "2e27fc95-7391-4ec9-88da-a4740ed7a738"
      },
      "execution_count": 14,
      "outputs": [
        {
          "output_type": "stream",
          "name": "stdout",
          "text": [
            "<class 'pandas.core.frame.DataFrame'>\n",
            "Int64Index: 7247 entries, 0 to 7246\n",
            "Data columns (total 6 columns):\n",
            " #   Column             Non-Null Count  Dtype         \n",
            "---  ------             --------------  -----         \n",
            " 0   Date               7247 non-null   datetime64[ns]\n",
            " 1   AirportName        7247 non-null   object        \n",
            " 2   PercentOfBaseline  7247 non-null   int64         \n",
            " 3   City               7247 non-null   object        \n",
            " 4   State              7247 non-null   object        \n",
            " 5   Country            7247 non-null   object        \n",
            "dtypes: datetime64[ns](1), int64(1), object(4)\n",
            "memory usage: 396.3+ KB\n"
          ]
        }
      ]
    },
    {
      "cell_type": "markdown",
      "source": [
        "## 3. Analisis Negara"
      ],
      "metadata": {
        "id": "VBahujW9tPg6"
      }
    },
    {
      "cell_type": "code",
      "source": [
        "# 4 negara : pilih data\n",
        "\n",
        "df_usa = df[df['Country']=='United States of America (the)']\n",
        "df_usa = pd.DataFrame(df_usa.groupby('Date',as_index=False)['PercentOfBaseline'].mean())\n",
        "print('Data USA :\\n', df_usa.head())\n",
        "\n",
        "df_canada = df[df['Country']=='Canada']\n",
        "df_canada = pd.DataFrame(df_canada.groupby('Date',as_index=False)['PercentOfBaseline'].mean())\n",
        "print('Data Canda :\\n', df_canada.head())\n",
        "\n",
        "df_chile = df[df['Country']=='Chile']\n",
        "df_chile = df_chile.drop(columns=['AirportName','City','State','Country']).sort_values(by=\"Date\")\n",
        "print('Data Chile :\\n', df_chile.head())\n",
        "\n",
        "df_australia = df[df['Country']=='Australia']\n",
        "df_australia = df_australia.drop(columns=['AirportName','City','State','Country']).sort_values(by=\"Date\")\n",
        "print('Data Australia :\\n', df_australia.head())"
      ],
      "metadata": {
        "colab": {
          "base_uri": "https://localhost:8080/"
        },
        "id": "oWBp8rwHtSqA",
        "outputId": "fef8bb74-0c06-4189-adac-4e7ba6b8c51a"
      },
      "execution_count": 15,
      "outputs": [
        {
          "output_type": "stream",
          "name": "stdout",
          "text": [
            "Data USA :\n",
            "         Date  PercentOfBaseline\n",
            "0 2020-03-16          88.058824\n",
            "1 2020-03-17          87.823529\n",
            "2 2020-03-18          81.705882\n",
            "3 2020-03-19          73.764706\n",
            "4 2020-03-20          73.058824\n",
            "Data Canda :\n",
            "         Date  PercentOfBaseline\n",
            "0 2020-03-16          92.333333\n",
            "1 2020-03-17          87.888889\n",
            "2 2020-03-18          88.000000\n",
            "3 2020-03-19          84.777778\n",
            "4 2020-03-20          86.666667\n",
            "Data Chile :\n",
            "           Date  PercentOfBaseline\n",
            "302 2020-03-16                 96\n",
            "257 2020-03-17                 72\n",
            "393 2020-03-18                 56\n",
            "473 2020-03-19                 52\n",
            "414 2020-03-20                 53\n",
            "Data Australia :\n",
            "           Date  PercentOfBaseline\n",
            "171 2020-03-16                 92\n",
            "31  2020-03-17                 90\n",
            "129 2020-03-18                 97\n",
            "84  2020-03-19                 89\n",
            "65  2020-03-20                 85\n"
          ]
        }
      ]
    },
    {
      "cell_type": "code",
      "source": [
        "# melihat rentang tanggal dataset masing-masing negara\n",
        "\n",
        "print('Tanggal USA Awal :\\n', df_usa['Date'].head())\n",
        "print('Tanggal USA Akhir :\\n', df_usa['Date'].tail())\n",
        "\n",
        "print('Tanggal Canada Awal :\\n', df_canada['Date'].head())\n",
        "print('Tanggal Canada Akhir :\\n', df_canada['Date'].tail())\n",
        "\n",
        "print('Tanggal Chile Awal :\\n', df_chile['Date'].head())\n",
        "print('Tanggal Chile Akhir :\\n', df_chile['Date'].tail())\n",
        "\n",
        "print('Tanggal Australia Awal :\\n', df_australia['Date'].head())\n",
        "print('Tanggal Australia Akhir :\\n', df_australia['Date'].tail())\n"
      ],
      "metadata": {
        "colab": {
          "base_uri": "https://localhost:8080/"
        },
        "id": "N7xqZeQkSLTf",
        "outputId": "e8d61cc3-c5de-45da-d5cb-1d66a407d305"
      },
      "execution_count": 16,
      "outputs": [
        {
          "output_type": "stream",
          "name": "stdout",
          "text": [
            "Tanggal USA Awal :\n",
            " 0   2020-03-16\n",
            "1   2020-03-17\n",
            "2   2020-03-18\n",
            "3   2020-03-19\n",
            "4   2020-03-20\n",
            "Name: Date, dtype: datetime64[ns]\n",
            "Tanggal USA Akhir :\n",
            " 257   2020-11-28\n",
            "258   2020-11-29\n",
            "259   2020-11-30\n",
            "260   2020-12-01\n",
            "261   2020-12-02\n",
            "Name: Date, dtype: datetime64[ns]\n",
            "Tanggal Canada Awal :\n",
            " 0   2020-03-16\n",
            "1   2020-03-17\n",
            "2   2020-03-18\n",
            "3   2020-03-19\n",
            "4   2020-03-20\n",
            "Name: Date, dtype: datetime64[ns]\n",
            "Tanggal Canada Akhir :\n",
            " 257   2020-11-28\n",
            "258   2020-11-29\n",
            "259   2020-11-30\n",
            "260   2020-12-01\n",
            "261   2020-12-02\n",
            "Name: Date, dtype: datetime64[ns]\n",
            "Tanggal Chile Awal :\n",
            " 302   2020-03-16\n",
            "257   2020-03-17\n",
            "393   2020-03-18\n",
            "473   2020-03-19\n",
            "414   2020-03-20\n",
            "Name: Date, dtype: datetime64[ns]\n",
            "Tanggal Chile Akhir :\n",
            " 369   2020-11-27\n",
            "292   2020-11-28\n",
            "337   2020-11-30\n",
            "469   2020-12-01\n",
            "338   2020-12-02\n",
            "Name: Date, dtype: datetime64[ns]\n",
            "Tanggal Australia Awal :\n",
            " 171   2020-03-16\n",
            "31    2020-03-17\n",
            "129   2020-03-18\n",
            "84    2020-03-19\n",
            "65    2020-03-20\n",
            "Name: Date, dtype: datetime64[ns]\n",
            "Tanggal Australia Akhir :\n",
            " 17    2020-11-28\n",
            "55    2020-11-29\n",
            "48    2020-11-30\n",
            "165   2020-12-01\n",
            "198   2020-12-02\n",
            "Name: Date, dtype: datetime64[ns]\n"
          ]
        }
      ]
    },
    {
      "cell_type": "code",
      "source": [
        "# info 4 negara\n",
        "\n",
        "df_usa.info()"
      ],
      "metadata": {
        "colab": {
          "base_uri": "https://localhost:8080/"
        },
        "id": "wNH8hY1BgWAH",
        "outputId": "992784b8-aad4-43aa-f8bd-294d45e12af7"
      },
      "execution_count": 17,
      "outputs": [
        {
          "output_type": "stream",
          "name": "stdout",
          "text": [
            "<class 'pandas.core.frame.DataFrame'>\n",
            "RangeIndex: 262 entries, 0 to 261\n",
            "Data columns (total 2 columns):\n",
            " #   Column             Non-Null Count  Dtype         \n",
            "---  ------             --------------  -----         \n",
            " 0   Date               262 non-null    datetime64[ns]\n",
            " 1   PercentOfBaseline  262 non-null    float64       \n",
            "dtypes: datetime64[ns](1), float64(1)\n",
            "memory usage: 4.2 KB\n"
          ]
        }
      ]
    },
    {
      "cell_type": "code",
      "source": [
        "df_canada.info()"
      ],
      "metadata": {
        "colab": {
          "base_uri": "https://localhost:8080/"
        },
        "id": "d_WKkMP4VE5X",
        "outputId": "d7fba8cf-5cc7-459b-80b1-b2876e07acfb"
      },
      "execution_count": 18,
      "outputs": [
        {
          "output_type": "stream",
          "name": "stdout",
          "text": [
            "<class 'pandas.core.frame.DataFrame'>\n",
            "RangeIndex: 262 entries, 0 to 261\n",
            "Data columns (total 2 columns):\n",
            " #   Column             Non-Null Count  Dtype         \n",
            "---  ------             --------------  -----         \n",
            " 0   Date               262 non-null    datetime64[ns]\n",
            " 1   PercentOfBaseline  262 non-null    float64       \n",
            "dtypes: datetime64[ns](1), float64(1)\n",
            "memory usage: 4.2 KB\n"
          ]
        }
      ]
    },
    {
      "cell_type": "code",
      "source": [
        "df_chile.info()"
      ],
      "metadata": {
        "colab": {
          "base_uri": "https://localhost:8080/"
        },
        "id": "d229Riy_VEsW",
        "outputId": "e1d4f406-9c4b-4145-ff33-4959638c4af3"
      },
      "execution_count": 19,
      "outputs": [
        {
          "output_type": "stream",
          "name": "stdout",
          "text": [
            "<class 'pandas.core.frame.DataFrame'>\n",
            "Int64Index: 238 entries, 302 to 338\n",
            "Data columns (total 2 columns):\n",
            " #   Column             Non-Null Count  Dtype         \n",
            "---  ------             --------------  -----         \n",
            " 0   Date               238 non-null    datetime64[ns]\n",
            " 1   PercentOfBaseline  238 non-null    int64         \n",
            "dtypes: datetime64[ns](1), int64(1)\n",
            "memory usage: 5.6 KB\n"
          ]
        }
      ]
    },
    {
      "cell_type": "code",
      "source": [
        "df_australia.info()"
      ],
      "metadata": {
        "colab": {
          "base_uri": "https://localhost:8080/"
        },
        "id": "nMOmqgVCVEjw",
        "outputId": "7d2c67ee-e001-407c-b69d-bbdb5d1590c2"
      },
      "execution_count": 20,
      "outputs": [
        {
          "output_type": "stream",
          "name": "stdout",
          "text": [
            "<class 'pandas.core.frame.DataFrame'>\n",
            "Int64Index: 257 entries, 171 to 198\n",
            "Data columns (total 2 columns):\n",
            " #   Column             Non-Null Count  Dtype         \n",
            "---  ------             --------------  -----         \n",
            " 0   Date               257 non-null    datetime64[ns]\n",
            " 1   PercentOfBaseline  257 non-null    int64         \n",
            "dtypes: datetime64[ns](1), int64(1)\n",
            "memory usage: 6.0 KB\n"
          ]
        }
      ]
    },
    {
      "cell_type": "code",
      "source": [
        "# membuat grafik usa\n",
        "\n",
        "plt.figure(figsize=(22,9))\n",
        "plt.plot(df_usa['Date'].values, df_usa['PercentOfBaseline'].values, label = 'PercentOfBaseline USA', color = 'blue')\n",
        "plt.xticks(np.arange(100,df_usa.shape[0],200))\n",
        "plt.xlabel('Date')\n",
        "plt.ylabel('PercentOfBaseline')\n",
        "plt.legend()\n",
        "plt.show()"
      ],
      "metadata": {
        "colab": {
          "base_uri": "https://localhost:8080/",
          "height": 356
        },
        "id": "ro9jXYHJgtik",
        "outputId": "48e4eaff-b7fd-45fb-fcd9-85efd4644241"
      },
      "execution_count": 21,
      "outputs": [
        {
          "output_type": "display_data",
          "data": {
            "text/plain": [
              "<Figure size 1584x648 with 1 Axes>"
            ],
            "image/png": "[encoded data removed]"
          },
          "metadata": {}
        }
      ]
    },
    {
      "cell_type": "code",
      "source": [
        "# membuat grafik canada\n",
        "\n",
        "plt.figure(figsize=(22,9))\n",
        "plt.plot(df_canada['Date'].values, df_canada['PercentOfBaseline'].values, label = 'PercentOfBaseline Canada', color = 'blue')\n",
        "plt.xticks(np.arange(100,df_usa.shape[0],200))\n",
        "plt.xlabel('Date')\n",
        "plt.ylabel('PercentOfBaseline')\n",
        "plt.legend()\n",
        "plt.show()"
      ],
      "metadata": {
        "colab": {
          "base_uri": "https://localhost:8080/",
          "height": 353
        },
        "id": "NYfcSlIWVwoo",
        "outputId": "26e96116-d12c-4c64-85ef-324782973c98"
      },
      "execution_count": 22,
      "outputs": [
        {
          "output_type": "display_data",
          "data": {
            "text/plain": [
              "<Figure size 1584x648 with 1 Axes>"
            ],
            "image/png": "[encoded data removed]"
          },
          "metadata": {}
        }
      ]
    },
    {
      "cell_type": "code",
      "source": [
        "# membuat grafik chile\n",
        "\n",
        "plt.figure(figsize=(22,9))\n",
        "plt.plot(df_chile['Date'].values, df_chile['PercentOfBaseline'].values, label = 'PercentOfBaseline Chile', color = 'blue')\n",
        "plt.xticks(np.arange(100,df_usa.shape[0],200))\n",
        "plt.xlabel('Date')\n",
        "plt.ylabel('PercentOfBaseline')\n",
        "plt.legend()\n",
        "plt.show()"
      ],
      "metadata": {
        "colab": {
          "base_uri": "https://localhost:8080/",
          "height": 355
        },
        "id": "qqR4hMNDVwh2",
        "outputId": "0afec4f5-20d1-4958-f6d9-de82628b09b2"
      },
      "execution_count": 23,
      "outputs": [
        {
          "output_type": "display_data",
          "data": {
            "text/plain": [
              "<Figure size 1584x648 with 1 Axes>"
            ],
            "image/png": "[encoded data removed]"
          },
          "metadata": {}
        }
      ]
    },
    {
      "cell_type": "code",
      "source": [
        "# membuat grafik australia\n",
        "\n",
        "plt.figure(figsize=(22,9))\n",
        "plt.plot(df_australia['Date'].values, df_australia['PercentOfBaseline'].values, label = 'PercentOfBaseline Australia', color = 'blue')\n",
        "plt.xticks(np.arange(100,df_usa.shape[0],200))\n",
        "plt.xlabel('Date')\n",
        "plt.ylabel('PercentOfBaseline')\n",
        "plt.legend()\n",
        "plt.show()"
      ],
      "metadata": {
        "colab": {
          "base_uri": "https://localhost:8080/",
          "height": 353
        },
        "id": "Fmp1N9kVVwaT",
        "outputId": "3796d426-5ec1-4f41-c3c0-0252081551e1"
      },
      "execution_count": 24,
      "outputs": [
        {
          "output_type": "display_data",
          "data": {
            "text/plain": [
              "<Figure size 1584x648 with 1 Axes>"
            ],
            "image/png": "[encoded data removed]"
          },
          "metadata": {}
        }
      ]
    },
    {
      "cell_type": "markdown",
      "source": [
        "## 4. Machine Learning"
      ],
      "metadata": {
        "id": "46ksnsYDYv3-"
      }
    },
    {
      "cell_type": "markdown",
      "source": [
        "#### 4.1 Negara USA"
      ],
      "metadata": {
        "id": "LVWkoDC_T_yb"
      }
    },
    {
      "cell_type": "code",
      "source": [
        "# dataset USA\n",
        "\n",
        "df_usa.head()"
      ],
      "metadata": {
        "colab": {
          "base_uri": "https://localhost:8080/",
          "height": 206
        },
        "id": "7NfVoCmbY7zA",
        "outputId": "a3e8f39f-62f4-40cc-ab80-d64457033c7e"
      },
      "execution_count": 25,
      "outputs": [
        {
          "output_type": "execute_result",
          "data": {
            "text/plain": [
              "        Date  PercentOfBaseline\n",
              "0 2020-03-16          88.058824\n",
              "1 2020-03-17          87.823529\n",
              "2 2020-03-18          81.705882\n",
              "3 2020-03-19          73.764706\n",
              "4 2020-03-20          73.058824"
            ],
            "text/html": [
              "\n",
              "  <div id=\"df-c606e73a-78d2-4c2e-a226-0653f58a94c5\">\n",
              "    <div class=\"colab-df-container\">\n",
              "      <div>\n",
              "<style scoped>\n",
              "    .dataframe tbody tr th:only-of-type {\n",
              "        vertical-align: middle;\n",
              "    }\n",
              "\n",
              "    .dataframe tbody tr th {\n",
              "        vertical-align: top;\n",
              "    }\n",
              "\n",
              "    .dataframe thead th {\n",
              "        text-align: right;\n",
              "    }\n",
              "</style>\n",
              "<table border=\"1\" class=\"dataframe\">\n",
              "  <thead>\n",
              "    <tr style=\"text-align: right;\">\n",
              "      <th></th>\n",
              "      <th>Date</th>\n",
              "      <th>PercentOfBaseline</th>\n",
              "    </tr>\n",
              "  </thead>\n",
              "  <tbody>\n",
              "    <tr>\n",
              "      <th>0</th>\n",
              "      <td>2020-03-16</td>\n",
              "      <td>88.058824</td>\n",
              "    </tr>\n",
              "    <tr>\n",
              "      <th>1</th>\n",
              "      <td>2020-03-17</td>\n",
              "      <td>87.823529</td>\n",
              "    </tr>\n",
              "    <tr>\n",
              "      <th>2</th>\n",
              "      <td>2020-03-18</td>\n",
              "      <td>81.705882</td>\n",
              "    </tr>\n",
              "    <tr>\n",
              "      <th>3</th>\n",
              "      <td>2020-03-19</td>\n",
              "      <td>73.764706</td>\n",
              "    </tr>\n",
              "    <tr>\n",
              "      <th>4</th>\n",
              "      <td>2020-03-20</td>\n",
              "      <td>73.058824</td>\n",
              "    </tr>\n",
              "  </tbody>\n",
              "</table>\n",
              "</div>\n",
              "      <button class=\"colab-df-convert\" onclick=\"convertToInteractive('df-c606e73a-78d2-4c2e-a226-0653f58a94c5')\"\n",
              "              title=\"Convert this dataframe to an interactive table.\"\n",
              "              style=\"display:none;\">\n",
              "        \n",
              "  <svg xmlns=\"http://www.w3.org/2000/svg\" height=\"24px\"viewBox=\"0 0 24 24\"\n",
              "       width=\"24px\">\n",
              "    <path d=\"M0 0h24v24H0V0z\" fill=\"none\"/>\n",
              "    <path d=\"M18.56 5.44l.94 2.06.94-2.06 2.06-.94-2.06-.94-.94-2.06-.94 2.06-2.06.94zm-11 1L8.5 8.5l.94-2.06 2.06-.94-2.06-.94L8.5 2.5l-.94 2.06-2.06.94zm10 10l.94 2.06.94-2.06 2.06-.94-2.06-.94-.94-2.06-.94 2.06-2.06.94z\"/><path d=\"M17.41 7.96l-1.37-1.37c-.4-.4-.92-.59-1.43-.59-.52 0-1.04.2-1.43.59L10.3 9.45l-7.72 7.72c-.78.78-.78 2.05 0 2.83L4 21.41c.39.39.9.59 1.41.59.51 0 1.02-.2 1.41-.59l7.78-7.78 2.81-2.81c.8-.78.8-2.07 0-2.86zM5.41 20L4 18.59l7.72-7.72 1.47 1.35L5.41 20z\"/>\n",
              "  </svg>\n",
              "      </button>\n",
              "      \n",
              "  <style>\n",
              "    .colab-df-container {\n",
              "      display:flex;\n",
              "      flex-wrap:wrap;\n",
              "      gap: 12px;\n",
              "    }\n",
              "\n",
              "    .colab-df-convert {\n",
              "      background-color: #E8F0FE;\n",
              "      border: none;\n",
              "      border-radius: 50%;\n",
              "      cursor: pointer;\n",
              "      display: none;\n",
              "      fill: #1967D2;\n",
              "      height: 32px;\n",
              "      padding: 0 0 0 0;\n",
              "      width: 32px;\n",
              "    }\n",
              "\n",
              "    .colab-df-convert:hover {\n",
              "      background-color: #E2EBFA;\n",
              "      box-shadow: 0px 1px 2px rgba(60, 64, 67, 0.3), 0px 1px 3px 1px rgba(60, 64, 67, 0.15);\n",
              "      fill: #174EA6;\n",
              "    }\n",
              "\n",
              "    [theme=dark] .colab-df-convert {\n",
              "      background-color: #3B4455;\n",
              "      fill: #D2E3FC;\n",
              "    }\n",
              "\n",
              "    [theme=dark] .colab-df-convert:hover {\n",
              "      background-color: #434B5C;\n",
              "      box-shadow: 0px 1px 3px 1px rgba(0, 0, 0, 0.15);\n",
              "      filter: drop-shadow(0px 1px 2px rgba(0, 0, 0, 0.3));\n",
              "      fill: #FFFFFF;\n",
              "    }\n",
              "  </style>\n",
              "\n",
              "      <script>\n",
              "        const buttonEl =\n",
              "          document.querySelector('#df-c606e73a-78d2-4c2e-a226-0653f58a94c5 button.colab-df-convert');\n",
              "        buttonEl.style.display =\n",
              "          google.colab.kernel.accessAllowed ? 'block' : 'none';\n",
              "\n",
              "        async function convertToInteractive(key) {\n",
              "          const element = document.querySelector('#df-c606e73a-78d2-4c2e-a226-0653f58a94c5');\n",
              "          const dataTable =\n",
              "            await google.colab.kernel.invokeFunction('convertToInteractive',\n",
              "                                                     [key], {});\n",
              "          if (!dataTable) return;\n",
              "\n",
              "          const docLinkHtml = 'Like what you see? Visit the ' +\n",
              "            '<a target=\"_blank\" href=https://colab.research.google.com/notebooks/data_table.ipynb>data table notebook</a>'\n",
              "            + ' to learn more about interactive tables.';\n",
              "          element.innerHTML = '';\n",
              "          dataTable['output_type'] = 'display_data';\n",
              "          await google.colab.output.renderOutput(dataTable, element);\n",
              "          const docLink = document.createElement('div');\n",
              "          docLink.innerHTML = docLinkHtml;\n",
              "          element.appendChild(docLink);\n",
              "        }\n",
              "      </script>\n",
              "    </div>\n",
              "  </div>\n",
              "  "
            ]
          },
          "metadata": {},
          "execution_count": 25
        }
      ]
    },
    {
      "cell_type": "code",
      "source": [
        "# membuat data train\n",
        "\n",
        "df_train_usa = df_usa[:235]"
      ],
      "metadata": {
        "id": "ryOq8NJ2dXMY"
      },
      "execution_count": 26,
      "outputs": []
    },
    {
      "cell_type": "code",
      "source": [
        "# melihat info\n",
        "\n",
        "df_train_usa.info()"
      ],
      "metadata": {
        "colab": {
          "base_uri": "https://localhost:8080/"
        },
        "id": "auaN6L4cdeQL",
        "outputId": "4c51a0a6-82a5-453c-8382-600c66eba40b"
      },
      "execution_count": 27,
      "outputs": [
        {
          "output_type": "stream",
          "name": "stdout",
          "text": [
            "<class 'pandas.core.frame.DataFrame'>\n",
            "RangeIndex: 235 entries, 0 to 234\n",
            "Data columns (total 2 columns):\n",
            " #   Column             Non-Null Count  Dtype         \n",
            "---  ------             --------------  -----         \n",
            " 0   Date               235 non-null    datetime64[ns]\n",
            " 1   PercentOfBaseline  235 non-null    float64       \n",
            "dtypes: datetime64[ns](1), float64(1)\n",
            "memory usage: 3.8 KB\n"
          ]
        }
      ]
    },
    {
      "cell_type": "code",
      "source": [
        "# memilih kolom yang digunakan\n",
        "\n",
        "training_set_usa = df_train_usa['PercentOfBaseline']"
      ],
      "metadata": {
        "id": "gv5CruitZfu-"
      },
      "execution_count": 28,
      "outputs": []
    },
    {
      "cell_type": "code",
      "source": [
        "# membuat dataframe train\n",
        "\n",
        "training_set_usa = pd.DataFrame(training_set_usa)"
      ],
      "metadata": {
        "id": "QWBAAp5uZmLC"
      },
      "execution_count": 29,
      "outputs": []
    },
    {
      "cell_type": "code",
      "source": [
        "# standarisasi nilai\n",
        "\n",
        "scale_usa = MinMaxScaler(feature_range = (0, 1))\n",
        "\n",
        "training_set_scaled_usa = scale_usa.fit_transform(training_set_usa)"
      ],
      "metadata": {
        "id": "7TV9syiJZo3h"
      },
      "execution_count": 30,
      "outputs": []
    },
    {
      "cell_type": "code",
      "source": [
        "# membuat struktur data dengan 30 timesteps dan 1 output\n",
        "\n",
        "X_train = []\n",
        "y_train = []\n",
        "\n",
        "for i in range(30, 235):\n",
        "    X_train.append(training_set_scaled_usa[i-30:i, 0])\n",
        "    y_train.append(training_set_scaled_usa[i, 0])\n",
        "\n",
        "X_train, y_train = np.array(X_train), np.array(y_train)"
      ],
      "metadata": {
        "id": "pSS9cyg_Zvle"
      },
      "execution_count": 31,
      "outputs": []
    },
    {
      "cell_type": "code",
      "source": [
        "# Reshaping\n",
        "\n",
        "X_train = np.reshape(X_train, (X_train.shape[0], X_train.shape[1], 1))"
      ],
      "metadata": {
        "id": "hC45V_lxZ8NV"
      },
      "execution_count": 32,
      "outputs": []
    },
    {
      "cell_type": "code",
      "source": [
        "# Inisialisasi RNN\n",
        "\n",
        "model_usa = Sequential()"
      ],
      "metadata": {
        "id": "w7lmrFFYaCx5"
      },
      "execution_count": 33,
      "outputs": []
    },
    {
      "cell_type": "code",
      "source": [
        "# menambahkan layer LSTM pertama dan mengatur Dropout\n",
        "model_usa.add(LSTM(\n",
        "    units = 60,\n",
        "    activation = 'tanh',\n",
        "    return_sequences = True,\n",
        "    input_shape = (X_train.shape[1], 1)\n",
        "))\n",
        "model_usa.add(Dropout(0.2))\n",
        "\n",
        "# menambahkan layer LSTM kedua dan mengatur Dropout\n",
        "model_usa.add(LSTM(\n",
        "    units = 80,\n",
        "    activation = 'relu',\n",
        "    return_sequences = True\n",
        "))\n",
        "model_usa.add(Dropout(0.2))\n",
        "\n",
        "# menambahkan layer LSTM ketiga dan mengatur Dropout\n",
        "model_usa.add(LSTM(\n",
        "    units = 100,\n",
        "    activation = 'tanh',\n",
        "    return_sequences = True\n",
        "))\n",
        "model_usa.add(Dropout(0.2))\n",
        "\n",
        "# menambahkan layer LSTM keempat dan mengatur Dropout\n",
        "model_usa.add(LSTM(\n",
        "    units = 120\n",
        "))\n",
        "model_usa.add(Dropout(0.2))\n",
        "\n",
        "# menambahkan layer output\n",
        "model_usa.add(Dense(\n",
        "    units = 1\n",
        "))\n",
        "\n",
        "# rangkuman\n",
        "model_usa.summary()"
      ],
      "metadata": {
        "colab": {
          "base_uri": "https://localhost:8080/"
        },
        "id": "D18NfRJVaHe5",
        "outputId": "ebada577-5a11-4d7f-bde2-87813efca215"
      },
      "execution_count": 34,
      "outputs": [
        {
          "output_type": "stream",
          "name": "stderr",
          "text": [
            "WARNING:tensorflow:Layer lstm_1 will not use cuDNN kernels since it doesn't meet the criteria. It will use a generic GPU kernel as fallback when running on GPU.\n"
          ]
        },
        {
          "output_type": "stream",
          "name": "stdout",
          "text": [
            "Model: \"sequential\"\n",
            "_________________________________________________________________\n",
            " Layer (type)                Output Shape              Param #   \n",
            "=================================================================\n",
            " lstm (LSTM)                 (None, 30, 60)            14880     \n",
            "                                                                 \n",
            " dropout (Dropout)           (None, 30, 60)            0         \n",
            "                                                                 \n",
            " lstm_1 (LSTM)               (None, 30, 80)            45120     \n",
            "                                                                 \n",
            " dropout_1 (Dropout)         (None, 30, 80)            0         \n",
            "                                                                 \n",
            " lstm_2 (LSTM)               (None, 30, 100)           72400     \n",
            "                                                                 \n",
            " dropout_2 (Dropout)         (None, 30, 100)           0         \n",
            "                                                                 \n",
            " lstm_3 (LSTM)               (None, 120)               106080    \n",
            "                                                                 \n",
            " dropout_3 (Dropout)         (None, 120)               0         \n",
            "                                                                 \n",
            " dense (Dense)               (None, 1)                 121       \n",
            "                                                                 \n",
            "=================================================================\n",
            "Total params: 238,601\n",
            "Trainable params: 238,601\n",
            "Non-trainable params: 0\n",
            "_________________________________________________________________\n"
          ]
        }
      ]
    },
    {
      "cell_type": "code",
      "source": [
        "# Compile RNN\n",
        "\n",
        "model_usa.compile(optimizer = 'adam', loss = 'mean_squared_error')"
      ],
      "metadata": {
        "id": "zqcWbpzxaURS"
      },
      "execution_count": 35,
      "outputs": []
    },
    {
      "cell_type": "code",
      "source": [
        "# menerapkan RNN ke dalam train set\n",
        "\n",
        "epoch = 100 \n",
        "batch_size = 32\n",
        "\n",
        "model_usa.fit(X_train, y_train, epochs = epoch, batch_size = batch_size)"
      ],
      "metadata": {
        "colab": {
          "base_uri": "https://localhost:8080/"
        },
        "id": "uwI5leuGaZFx",
        "outputId": "03dfd550-55c6-4aa4-ee17-ed7f931c1d74"
      },
      "execution_count": 36,
      "outputs": [
        {
          "output_type": "stream",
          "name": "stdout",
          "text": [
            "Epoch 1/100\n",
            "7/7 [==============================] - 11s 71ms/step - loss: 0.2659\n",
            "Epoch 2/100\n",
            "7/7 [==============================] - 0s 72ms/step - loss: 0.0548\n",
            "Epoch 3/100\n",
            "7/7 [==============================] - 0s 71ms/step - loss: 0.0249\n",
            "Epoch 4/100\n",
            "7/7 [==============================] - 0s 71ms/step - loss: 0.0156\n",
            "Epoch 5/100\n",
            "7/7 [==============================] - 0s 68ms/step - loss: 0.0167\n",
            "Epoch 6/100\n",
            "7/7 [==============================] - 0s 63ms/step - loss: 0.0143\n",
            "Epoch 7/100\n",
            "7/7 [==============================] - 0s 60ms/step - loss: 0.0132\n",
            "Epoch 8/100\n",
            "7/7 [==============================] - 0s 66ms/step - loss: 0.0121\n",
            "Epoch 9/100\n",
            "7/7 [==============================] - 0s 66ms/step - loss: 0.0127\n",
            "Epoch 10/100\n",
            "7/7 [==============================] - 0s 68ms/step - loss: 0.0118\n",
            "Epoch 11/100\n",
            "7/7 [==============================] - 0s 67ms/step - loss: 0.0125\n",
            "Epoch 12/100\n",
            "7/7 [==============================] - 0s 69ms/step - loss: 0.0132\n",
            "Epoch 13/100\n",
            "7/7 [==============================] - 0s 69ms/step - loss: 0.0104\n",
            "Epoch 14/100\n",
            "7/7 [==============================] - 0s 63ms/step - loss: 0.0108\n",
            "Epoch 15/100\n",
            "7/7 [==============================] - 0s 64ms/step - loss: 0.0118\n",
            "Epoch 16/100\n",
            "7/7 [==============================] - 0s 67ms/step - loss: 0.0123\n",
            "Epoch 17/100\n",
            "7/7 [==============================] - 0s 66ms/step - loss: 0.0120\n",
            "Epoch 18/100\n",
            "7/7 [==============================] - 0s 66ms/step - loss: 0.0138\n",
            "Epoch 19/100\n",
            "7/7 [==============================] - 0s 59ms/step - loss: 0.0114\n",
            "Epoch 20/100\n",
            "7/7 [==============================] - 0s 61ms/step - loss: 0.0119\n",
            "Epoch 21/100\n",
            "7/7 [==============================] - 1s 75ms/step - loss: 0.0131\n",
            "Epoch 22/100\n",
            "7/7 [==============================] - 0s 65ms/step - loss: 0.0114\n",
            "Epoch 23/100\n",
            "7/7 [==============================] - 0s 66ms/step - loss: 0.0116\n",
            "Epoch 24/100\n",
            "7/7 [==============================] - 0s 61ms/step - loss: 0.0124\n",
            "Epoch 25/100\n",
            "7/7 [==============================] - 0s 66ms/step - loss: 0.0120\n",
            "Epoch 26/100\n",
            "7/7 [==============================] - 0s 61ms/step - loss: 0.0124\n",
            "Epoch 27/100\n",
            "7/7 [==============================] - 1s 74ms/step - loss: 0.0120\n",
            "Epoch 28/100\n",
            "7/7 [==============================] - 1s 121ms/step - loss: 0.0124\n",
            "Epoch 29/100\n",
            "7/7 [==============================] - 1s 107ms/step - loss: 0.0120\n",
            "Epoch 30/100\n",
            "7/7 [==============================] - 1s 124ms/step - loss: 0.0116\n",
            "Epoch 31/100\n",
            "7/7 [==============================] - 1s 138ms/step - loss: 0.0117\n",
            "Epoch 32/100\n",
            "7/7 [==============================] - 1s 68ms/step - loss: 0.0110\n",
            "Epoch 33/100\n",
            "7/7 [==============================] - 0s 61ms/step - loss: 0.0105\n",
            "Epoch 34/100\n",
            "7/7 [==============================] - 1s 147ms/step - loss: 0.0129\n",
            "Epoch 35/100\n",
            "7/7 [==============================] - 1s 64ms/step - loss: 0.0110\n",
            "Epoch 36/100\n",
            "7/7 [==============================] - 1s 138ms/step - loss: 0.0120\n",
            "Epoch 37/100\n",
            "7/7 [==============================] - 0s 66ms/step - loss: 0.0133\n",
            "Epoch 38/100\n",
            "7/7 [==============================] - 0s 65ms/step - loss: 0.0138\n",
            "Epoch 39/100\n",
            "7/7 [==============================] - 0s 68ms/step - loss: 0.0111\n",
            "Epoch 40/100\n",
            "7/7 [==============================] - 0s 69ms/step - loss: 0.0119\n",
            "Epoch 41/100\n",
            "7/7 [==============================] - 0s 70ms/step - loss: 0.0108\n",
            "Epoch 42/100\n",
            "7/7 [==============================] - 0s 60ms/step - loss: 0.0109\n",
            "Epoch 43/100\n",
            "7/7 [==============================] - 0s 61ms/step - loss: 0.0113\n",
            "Epoch 44/100\n",
            "7/7 [==============================] - 0s 64ms/step - loss: 0.0125\n",
            "Epoch 45/100\n",
            "7/7 [==============================] - 0s 70ms/step - loss: 0.0110\n",
            "Epoch 46/100\n",
            "7/7 [==============================] - 0s 67ms/step - loss: 0.0110\n",
            "Epoch 47/100\n",
            "7/7 [==============================] - 0s 64ms/step - loss: 0.0112\n",
            "Epoch 48/100\n",
            "7/7 [==============================] - 0s 67ms/step - loss: 0.0109\n",
            "Epoch 49/100\n",
            "7/7 [==============================] - 0s 63ms/step - loss: 0.0116\n",
            "Epoch 50/100\n",
            "7/7 [==============================] - 0s 64ms/step - loss: 0.0113\n",
            "Epoch 51/100\n",
            "7/7 [==============================] - 0s 63ms/step - loss: 0.0121\n",
            "Epoch 52/100\n",
            "7/7 [==============================] - 0s 64ms/step - loss: 0.0105\n",
            "Epoch 53/100\n",
            "7/7 [==============================] - 0s 60ms/step - loss: 0.0106\n",
            "Epoch 54/100\n",
            "7/7 [==============================] - 0s 61ms/step - loss: 0.0119\n",
            "Epoch 55/100\n",
            "7/7 [==============================] - 0s 63ms/step - loss: 0.0122\n",
            "Epoch 56/100\n",
            "7/7 [==============================] - 0s 61ms/step - loss: 0.0142\n",
            "Epoch 57/100\n",
            "7/7 [==============================] - 0s 64ms/step - loss: 0.0130\n",
            "Epoch 58/100\n",
            "7/7 [==============================] - 0s 70ms/step - loss: 0.0122\n",
            "Epoch 59/100\n",
            "7/7 [==============================] - 1s 73ms/step - loss: 0.0146\n",
            "Epoch 60/100\n",
            "7/7 [==============================] - 0s 65ms/step - loss: 0.0116\n",
            "Epoch 61/100\n",
            "7/7 [==============================] - 0s 61ms/step - loss: 0.0121\n",
            "Epoch 62/100\n",
            "7/7 [==============================] - 0s 63ms/step - loss: 0.0114\n",
            "Epoch 63/100\n",
            "7/7 [==============================] - 0s 65ms/step - loss: 0.0114\n",
            "Epoch 64/100\n",
            "7/7 [==============================] - 1s 71ms/step - loss: 0.0116\n",
            "Epoch 65/100\n",
            "7/7 [==============================] - 0s 67ms/step - loss: 0.0112\n",
            "Epoch 66/100\n",
            "7/7 [==============================] - 0s 66ms/step - loss: 0.0109\n",
            "Epoch 67/100\n",
            "7/7 [==============================] - 0s 67ms/step - loss: 0.0107\n",
            "Epoch 68/100\n",
            "7/7 [==============================] - 0s 70ms/step - loss: 0.0115\n",
            "Epoch 69/100\n",
            "7/7 [==============================] - 0s 60ms/step - loss: 0.0134\n",
            "Epoch 70/100\n",
            "7/7 [==============================] - 0s 65ms/step - loss: 0.0131\n",
            "Epoch 71/100\n",
            "7/7 [==============================] - 0s 62ms/step - loss: 0.0127\n",
            "Epoch 72/100\n",
            "7/7 [==============================] - 0s 65ms/step - loss: 0.0134\n",
            "Epoch 73/100\n",
            "7/7 [==============================] - 0s 65ms/step - loss: 0.0121\n",
            "Epoch 74/100\n",
            "7/7 [==============================] - 0s 64ms/step - loss: 0.0128\n",
            "Epoch 75/100\n",
            "7/7 [==============================] - 0s 61ms/step - loss: 0.0112\n",
            "Epoch 76/100\n",
            "7/7 [==============================] - 0s 62ms/step - loss: 0.0122\n",
            "Epoch 77/100\n",
            "7/7 [==============================] - 0s 66ms/step - loss: 0.0103\n",
            "Epoch 78/100\n",
            "7/7 [==============================] - 0s 68ms/step - loss: 0.0108\n",
            "Epoch 79/100\n",
            "7/7 [==============================] - 0s 69ms/step - loss: 0.0105\n",
            "Epoch 80/100\n",
            "7/7 [==============================] - 0s 65ms/step - loss: 0.0108\n",
            "Epoch 81/100\n",
            "7/7 [==============================] - 0s 69ms/step - loss: 0.0117\n",
            "Epoch 82/100\n",
            "7/7 [==============================] - 0s 66ms/step - loss: 0.0112\n",
            "Epoch 83/100\n",
            "7/7 [==============================] - 0s 67ms/step - loss: 0.0126\n",
            "Epoch 84/100\n",
            "7/7 [==============================] - 1s 71ms/step - loss: 0.0112\n",
            "Epoch 85/100\n",
            "7/7 [==============================] - 0s 63ms/step - loss: 0.0123\n",
            "Epoch 86/100\n",
            "7/7 [==============================] - 0s 66ms/step - loss: 0.0096\n",
            "Epoch 87/100\n",
            "7/7 [==============================] - 0s 67ms/step - loss: 0.0112\n",
            "Epoch 88/100\n",
            "7/7 [==============================] - 0s 66ms/step - loss: 0.0117\n",
            "Epoch 89/100\n",
            "7/7 [==============================] - 0s 68ms/step - loss: 0.0107\n",
            "Epoch 90/100\n",
            "7/7 [==============================] - 0s 64ms/step - loss: 0.0113\n",
            "Epoch 91/100\n",
            "7/7 [==============================] - 0s 68ms/step - loss: 0.0127\n",
            "Epoch 92/100\n",
            "7/7 [==============================] - 0s 65ms/step - loss: 0.0148\n",
            "Epoch 93/100\n",
            "7/7 [==============================] - 0s 67ms/step - loss: 0.0130\n",
            "Epoch 94/100\n",
            "7/7 [==============================] - 0s 68ms/step - loss: 0.0155\n",
            "Epoch 95/100\n",
            "7/7 [==============================] - 0s 68ms/step - loss: 0.0116\n",
            "Epoch 96/100\n",
            "7/7 [==============================] - 0s 61ms/step - loss: 0.0113\n",
            "Epoch 97/100\n",
            "7/7 [==============================] - 0s 67ms/step - loss: 0.0108\n",
            "Epoch 98/100\n",
            "7/7 [==============================] - 0s 63ms/step - loss: 0.0115\n",
            "Epoch 99/100\n",
            "7/7 [==============================] - 0s 67ms/step - loss: 0.0111\n",
            "Epoch 100/100\n",
            "7/7 [==============================] - 0s 62ms/step - loss: 0.0106\n"
          ]
        },
        {
          "output_type": "execute_result",
          "data": {
            "text/plain": [
              "<keras.callbacks.History at 0x7feb30591990>"
            ]
          },
          "metadata": {},
          "execution_count": 36
        }
      ]
    },
    {
      "cell_type": "code",
      "source": [
        "# membuat data test\n",
        "\n",
        "df_test_usa = df_usa[235:]"
      ],
      "metadata": {
        "id": "5xnRV8QFa5oB"
      },
      "execution_count": 37,
      "outputs": []
    },
    {
      "cell_type": "code",
      "source": [
        "# melihat info\n",
        "\n",
        "df_test_usa.info()"
      ],
      "metadata": {
        "colab": {
          "base_uri": "https://localhost:8080/"
        },
        "id": "9IU3JqmWbi0G",
        "outputId": "2ebf199f-577c-49a7-cc39-71d7b0826579"
      },
      "execution_count": 38,
      "outputs": [
        {
          "output_type": "stream",
          "name": "stdout",
          "text": [
            "<class 'pandas.core.frame.DataFrame'>\n",
            "RangeIndex: 27 entries, 235 to 261\n",
            "Data columns (total 2 columns):\n",
            " #   Column             Non-Null Count  Dtype         \n",
            "---  ------             --------------  -----         \n",
            " 0   Date               27 non-null     datetime64[ns]\n",
            " 1   PercentOfBaseline  27 non-null     float64       \n",
            "dtypes: datetime64[ns](1), float64(1)\n",
            "memory usage: 564.0 bytes\n"
          ]
        }
      ]
    },
    {
      "cell_type": "code",
      "source": [
        "# memilih kolom yang digunakan\n",
        "\n",
        "testing_set_usa = df_test_usa['PercentOfBaseline']"
      ],
      "metadata": {
        "id": "DnbkVXUXeaNs"
      },
      "execution_count": 39,
      "outputs": []
    },
    {
      "cell_type": "code",
      "source": [
        "# membuat dataframe test\n",
        "\n",
        "testing_set_usa = pd.DataFrame(testing_set_usa)"
      ],
      "metadata": {
        "id": "HZ0VUBgGefex"
      },
      "execution_count": 40,
      "outputs": []
    },
    {
      "cell_type": "code",
      "source": [
        "# melihat info\n",
        "\n",
        "testing_set_usa.info()"
      ],
      "metadata": {
        "colab": {
          "base_uri": "https://localhost:8080/"
        },
        "id": "AYul8gdKfPls",
        "outputId": "7da9a002-5c25-44b3-9db5-87b4548313c7"
      },
      "execution_count": 41,
      "outputs": [
        {
          "output_type": "stream",
          "name": "stdout",
          "text": [
            "<class 'pandas.core.frame.DataFrame'>\n",
            "RangeIndex: 27 entries, 235 to 261\n",
            "Data columns (total 1 columns):\n",
            " #   Column             Non-Null Count  Dtype  \n",
            "---  ------             --------------  -----  \n",
            " 0   PercentOfBaseline  27 non-null     float64\n",
            "dtypes: float64(1)\n",
            "memory usage: 348.0 bytes\n"
          ]
        }
      ]
    },
    {
      "cell_type": "code",
      "source": [
        "# melihat data asli\n",
        "\n",
        "real_percentofbaseline_usa = testing_set_usa.values\n",
        "\n",
        "real_percentofbaseline_usa"
      ],
      "metadata": {
        "colab": {
          "base_uri": "https://localhost:8080/"
        },
        "id": "Zf12dgW4cIKm",
        "outputId": "9eda2fbf-fb51-4216-dcb0-283c609b4dca"
      },
      "execution_count": 42,
      "outputs": [
        {
          "output_type": "execute_result",
          "data": {
            "text/plain": [
              "array([[71.17647059],\n",
              "       [66.05882353],\n",
              "       [62.29411765],\n",
              "       [70.76470588],\n",
              "       [73.94117647],\n",
              "       [63.05882353],\n",
              "       [69.        ],\n",
              "       [73.58823529],\n",
              "       [63.64705882],\n",
              "       [61.47058824],\n",
              "       [72.41176471],\n",
              "       [75.82352941],\n",
              "       [73.70588235],\n",
              "       [71.58823529],\n",
              "       [73.        ],\n",
              "       [67.82352941],\n",
              "       [65.23529412],\n",
              "       [74.88235294],\n",
              "       [73.05882353],\n",
              "       [69.47058824],\n",
              "       [29.47058824],\n",
              "       [36.58823529],\n",
              "       [58.23529412],\n",
              "       [64.        ],\n",
              "       [69.29411765],\n",
              "       [75.        ],\n",
              "       [75.05882353]])"
            ]
          },
          "metadata": {},
          "execution_count": 42
        }
      ]
    },
    {
      "cell_type": "code",
      "source": [
        "# mendapatkan data prediksi\n",
        "\n",
        "dataset_total_usa = pd.concat((df_train_usa['PercentOfBaseline'], df_test_usa['PercentOfBaseline']), axis = 0)\n",
        "\n",
        "inputs_usa = dataset_total_usa[len(dataset_total_usa) - len(df_test_usa) - 30:].values\n",
        "inputs_usa = inputs_usa.reshape(-1, 1)\n",
        "inputs_usa = scale_usa.transform(inputs_usa)\n",
        "\n",
        "X_test = []\n",
        "\n",
        "for i in range(30, 57):\n",
        "    X_test.append(inputs_usa[i-30:i, 0])\n",
        "    \n",
        "X_test = np.array(X_test)\n",
        "X_test = np.reshape(X_test, (X_test.shape[0], X_test.shape[1], 1))\n",
        "\n",
        "predicted_percentofbaseline_usa = model_usa.predict(X_test)\n",
        "predicted_percentofbaseline_usa = scale_usa.inverse_transform(predicted_percentofbaseline_usa)"
      ],
      "metadata": {
        "colab": {
          "base_uri": "https://localhost:8080/"
        },
        "id": "-7x-lTU_fJkB",
        "outputId": "0a6ffd43-8748-49dd-f584-ac227feac41d"
      },
      "execution_count": 43,
      "outputs": [
        {
          "output_type": "stream",
          "name": "stderr",
          "text": [
            "/usr/local/lib/python3.7/dist-packages/sklearn/base.py:451: UserWarning: X does not have valid feature names, but MinMaxScaler was fitted with feature names\n",
            "  \"X does not have valid feature names, but\"\n"
          ]
        }
      ]
    },
    {
      "cell_type": "code",
      "source": [
        "# melihat X_test\n",
        "\n",
        "X_test.shape"
      ],
      "metadata": {
        "colab": {
          "base_uri": "https://localhost:8080/"
        },
        "id": "BH0O6dqwtgCH",
        "outputId": "4407f2da-d95b-4a76-c642-9fbe3524528e"
      },
      "execution_count": 56,
      "outputs": [
        {
          "output_type": "execute_result",
          "data": {
            "text/plain": [
              "(27, 30, 1)"
            ]
          },
          "metadata": {},
          "execution_count": 56
        }
      ]
    },
    {
      "cell_type": "code",
      "source": [
        "# membuat dataframe prediksi\n",
        "\n",
        "predicted_percentofbaseline_usa = pd.DataFrame(predicted_percentofbaseline_usa)"
      ],
      "metadata": {
        "id": "162xyoyKiIcc"
      },
      "execution_count": 57,
      "outputs": []
    },
    {
      "cell_type": "code",
      "source": [
        "# melihat info\n",
        "\n",
        "predicted_percentofbaseline_usa.info()"
      ],
      "metadata": {
        "colab": {
          "base_uri": "https://localhost:8080/"
        },
        "id": "Ie_NJPkXidzQ",
        "outputId": "b4c0fbd2-511e-42fb-ed1a-57aed79d1f4f"
      },
      "execution_count": 58,
      "outputs": [
        {
          "output_type": "stream",
          "name": "stdout",
          "text": [
            "<class 'pandas.core.frame.DataFrame'>\n",
            "RangeIndex: 27 entries, 0 to 26\n",
            "Data columns (total 1 columns):\n",
            " #   Column  Non-Null Count  Dtype  \n",
            "---  ------  --------------  -----  \n",
            " 0   0       27 non-null     float32\n",
            "dtypes: float32(1)\n",
            "memory usage: 236.0 bytes\n"
          ]
        }
      ]
    },
    {
      "cell_type": "code",
      "source": [
        "# Visualisasi hasil\n",
        "\n",
        "plt.figure(figsize=(22,9))\n",
        "plt.plot(real_percentofbaseline_usa, color = 'blue', label = 'PercentOfBaseline Asli')\n",
        "plt.plot(predicted_percentofbaseline_usa, color = 'green', label = 'PercentOfBaseline Prediksi')\n",
        "plt.title('Prediksi PercentOfBaseline USA')\n",
        "plt.xlabel('Date')\n",
        "plt.ylabel('PercentOfBaseline')\n",
        "plt.legend(loc=\"lower left\")\n",
        "plt.show()"
      ],
      "metadata": {
        "colab": {
          "base_uri": "https://localhost:8080/",
          "height": 383
        },
        "id": "3iE51RFHju2o",
        "outputId": "37da85e3-4326-4556-f6d3-73b2e5a7a15a"
      },
      "execution_count": 59,
      "outputs": [
        {
          "output_type": "display_data",
          "data": {
            "text/plain": [
              "<Figure size 1584x648 with 1 Axes>"
            ],
            "image/png": "[encoded data removed]"
          },
          "metadata": {}
        }
      ]
    },
    {
      "cell_type": "markdown",
      "source": [
        "#### 4.2 Negara Canada"
      ],
      "metadata": {
        "id": "IkGP8qwLUIhB"
      }
    },
    {
      "cell_type": "code",
      "source": [
        "# dataset Canada\n",
        "\n",
        "df_canada.head()"
      ],
      "metadata": {
        "colab": {
          "base_uri": "https://localhost:8080/",
          "height": 206
        },
        "id": "aTEvfRAlUVnK",
        "outputId": "f157adbf-4751-464f-c2f5-d24266deedc4"
      },
      "execution_count": 60,
      "outputs": [
        {
          "output_type": "execute_result",
          "data": {
            "text/plain": [
              "        Date  PercentOfBaseline\n",
              "0 2020-03-16          92.333333\n",
              "1 2020-03-17          87.888889\n",
              "2 2020-03-18          88.000000\n",
              "3 2020-03-19          84.777778\n",
              "4 2020-03-20          86.666667"
            ],
            "text/html": [
              "\n",
              "  <div id=\"df-6d1b3e2a-6a5f-47c9-8224-1ff2fce8585d\">\n",
              "    <div class=\"colab-df-container\">\n",
              "      <div>\n",
              "<style scoped>\n",
              "    .dataframe tbody tr th:only-of-type {\n",
              "        vertical-align: middle;\n",
              "    }\n",
              "\n",
              "    .dataframe tbody tr th {\n",
              "        vertical-align: top;\n",
              "    }\n",
              "\n",
              "    .dataframe thead th {\n",
              "        text-align: right;\n",
              "    }\n",
              "</style>\n",
              "<table border=\"1\" class=\"dataframe\">\n",
              "  <thead>\n",
              "    <tr style=\"text-align: right;\">\n",
              "      <th></th>\n",
              "      <th>Date</th>\n",
              "      <th>PercentOfBaseline</th>\n",
              "    </tr>\n",
              "  </thead>\n",
              "  <tbody>\n",
              "    <tr>\n",
              "      <th>0</th>\n",
              "      <td>2020-03-16</td>\n",
              "      <td>92.333333</td>\n",
              "    </tr>\n",
              "    <tr>\n",
              "      <th>1</th>\n",
              "      <td>2020-03-17</td>\n",
              "      <td>87.888889</td>\n",
              "    </tr>\n",
              "    <tr>\n",
              "      <th>2</th>\n",
              "      <td>2020-03-18</td>\n",
              "      <td>88.000000</td>\n",
              "    </tr>\n",
              "    <tr>\n",
              "      <th>3</th>\n",
              "      <td>2020-03-19</td>\n",
              "      <td>84.777778</td>\n",
              "    </tr>\n",
              "    <tr>\n",
              "      <th>4</th>\n",
              "      <td>2020-03-20</td>\n",
              "      <td>86.666667</td>\n",
              "    </tr>\n",
              "  </tbody>\n",
              "</table>\n",
              "</div>\n",
              "      <button class=\"colab-df-convert\" onclick=\"convertToInteractive('df-6d1b3e2a-6a5f-47c9-8224-1ff2fce8585d')\"\n",
              "              title=\"Convert this dataframe to an interactive table.\"\n",
              "              style=\"display:none;\">\n",
              "        \n",
              "  <svg xmlns=\"http://www.w3.org/2000/svg\" height=\"24px\"viewBox=\"0 0 24 24\"\n",
              "       width=\"24px\">\n",
              "    <path d=\"M0 0h24v24H0V0z\" fill=\"none\"/>\n",
              "    <path d=\"M18.56 5.44l.94 2.06.94-2.06 2.06-.94-2.06-.94-.94-2.06-.94 2.06-2.06.94zm-11 1L8.5 8.5l.94-2.06 2.06-.94-2.06-.94L8.5 2.5l-.94 2.06-2.06.94zm10 10l.94 2.06.94-2.06 2.06-.94-2.06-.94-.94-2.06-.94 2.06-2.06.94z\"/><path d=\"M17.41 7.96l-1.37-1.37c-.4-.4-.92-.59-1.43-.59-.52 0-1.04.2-1.43.59L10.3 9.45l-7.72 7.72c-.78.78-.78 2.05 0 2.83L4 21.41c.39.39.9.59 1.41.59.51 0 1.02-.2 1.41-.59l7.78-7.78 2.81-2.81c.8-.78.8-2.07 0-2.86zM5.41 20L4 18.59l7.72-7.72 1.47 1.35L5.41 20z\"/>\n",
              "  </svg>\n",
              "      </button>\n",
              "      \n",
              "  <style>\n",
              "    .colab-df-container {\n",
              "      display:flex;\n",
              "      flex-wrap:wrap;\n",
              "      gap: 12px;\n",
              "    }\n",
              "\n",
              "    .colab-df-convert {\n",
              "      background-color: #E8F0FE;\n",
              "      border: none;\n",
              "      border-radius: 50%;\n",
              "      cursor: pointer;\n",
              "      display: none;\n",
              "      fill: #1967D2;\n",
              "      height: 32px;\n",
              "      padding: 0 0 0 0;\n",
              "      width: 32px;\n",
              "    }\n",
              "\n",
              "    .colab-df-convert:hover {\n",
              "      background-color: #E2EBFA;\n",
              "      box-shadow: 0px 1px 2px rgba(60, 64, 67, 0.3), 0px 1px 3px 1px rgba(60, 64, 67, 0.15);\n",
              "      fill: #174EA6;\n",
              "    }\n",
              "\n",
              "    [theme=dark] .colab-df-convert {\n",
              "      background-color: #3B4455;\n",
              "      fill: #D2E3FC;\n",
              "    }\n",
              "\n",
              "    [theme=dark] .colab-df-convert:hover {\n",
              "      background-color: #434B5C;\n",
              "      box-shadow: 0px 1px 3px 1px rgba(0, 0, 0, 0.15);\n",
              "      filter: drop-shadow(0px 1px 2px rgba(0, 0, 0, 0.3));\n",
              "      fill: #FFFFFF;\n",
              "    }\n",
              "  </style>\n",
              "\n",
              "      <script>\n",
              "        const buttonEl =\n",
              "          document.querySelector('#df-6d1b3e2a-6a5f-47c9-8224-1ff2fce8585d button.colab-df-convert');\n",
              "        buttonEl.style.display =\n",
              "          google.colab.kernel.accessAllowed ? 'block' : 'none';\n",
              "\n",
              "        async function convertToInteractive(key) {\n",
              "          const element = document.querySelector('#df-6d1b3e2a-6a5f-47c9-8224-1ff2fce8585d');\n",
              "          const dataTable =\n",
              "            await google.colab.kernel.invokeFunction('convertToInteractive',\n",
              "                                                     [key], {});\n",
              "          if (!dataTable) return;\n",
              "\n",
              "          const docLinkHtml = 'Like what you see? Visit the ' +\n",
              "            '<a target=\"_blank\" href=https://colab.research.google.com/notebooks/data_table.ipynb>data table notebook</a>'\n",
              "            + ' to learn more about interactive tables.';\n",
              "          element.innerHTML = '';\n",
              "          dataTable['output_type'] = 'display_data';\n",
              "          await google.colab.output.renderOutput(dataTable, element);\n",
              "          const docLink = document.createElement('div');\n",
              "          docLink.innerHTML = docLinkHtml;\n",
              "          element.appendChild(docLink);\n",
              "        }\n",
              "      </script>\n",
              "    </div>\n",
              "  </div>\n",
              "  "
            ]
          },
          "metadata": {},
          "execution_count": 60
        }
      ]
    },
    {
      "cell_type": "code",
      "source": [
        "# membuat data train \n",
        "\n",
        "df_train_canada = df_canada[:235]"
      ],
      "metadata": {
        "id": "bnSe6a8WUVcq"
      },
      "execution_count": 61,
      "outputs": []
    },
    {
      "cell_type": "code",
      "source": [
        "# melihat info\n",
        "\n",
        "df_train_canada.info()"
      ],
      "metadata": {
        "colab": {
          "base_uri": "https://localhost:8080/"
        },
        "id": "VfKN9qjqUVVu",
        "outputId": "b1e1c62c-2ade-439a-bf0a-db85a02274a3"
      },
      "execution_count": 62,
      "outputs": [
        {
          "output_type": "stream",
          "name": "stdout",
          "text": [
            "<class 'pandas.core.frame.DataFrame'>\n",
            "RangeIndex: 235 entries, 0 to 234\n",
            "Data columns (total 2 columns):\n",
            " #   Column             Non-Null Count  Dtype         \n",
            "---  ------             --------------  -----         \n",
            " 0   Date               235 non-null    datetime64[ns]\n",
            " 1   PercentOfBaseline  235 non-null    float64       \n",
            "dtypes: datetime64[ns](1), float64(1)\n",
            "memory usage: 3.8 KB\n"
          ]
        }
      ]
    },
    {
      "cell_type": "code",
      "source": [
        "# memilih kolom yang digunakan\n",
        "\n",
        "training_set_canada = df_train_canada['PercentOfBaseline']"
      ],
      "metadata": {
        "id": "j80EcyRhUVPL"
      },
      "execution_count": 63,
      "outputs": []
    },
    {
      "cell_type": "code",
      "source": [
        "# membuat dataframe train\n",
        "\n",
        "training_set_canada = pd.DataFrame(training_set_canada)"
      ],
      "metadata": {
        "id": "UfZEXzwdaZm-"
      },
      "execution_count": 64,
      "outputs": []
    },
    {
      "cell_type": "code",
      "source": [
        "# standarisasi nilai\n",
        "\n",
        "scale_canada = MinMaxScaler(feature_range = (0, 1))\n",
        "\n",
        "training_set_scaled_canada = scale_canada.fit_transform(training_set_canada)"
      ],
      "metadata": {
        "id": "m67ppX1NUVJW"
      },
      "execution_count": 65,
      "outputs": []
    },
    {
      "cell_type": "code",
      "source": [
        "# membuat struktur data dengan 30 timesteps dan 1 output\n",
        "\n",
        "X_train = []\n",
        "y_train = []\n",
        "\n",
        "for i in range(30, 235):\n",
        "    X_train.append(training_set_scaled_canada[i-30:i, 0])\n",
        "    y_train.append(training_set_scaled_canada[i, 0])\n",
        "    \n",
        "X_train, y_train = np.array(X_train), np.array(y_train)"
      ],
      "metadata": {
        "id": "QQJCq6d4UU_i"
      },
      "execution_count": 66,
      "outputs": []
    },
    {
      "cell_type": "code",
      "source": [
        "# Reshaping\n",
        "\n",
        "X_train = np.reshape(X_train, (X_train.shape[0], X_train.shape[1], 1))"
      ],
      "metadata": {
        "id": "CEGXg2E9UU6j"
      },
      "execution_count": 67,
      "outputs": []
    },
    {
      "cell_type": "code",
      "source": [
        "# Inisialisasi RNN\n",
        "\n",
        "model_canada = Sequential()"
      ],
      "metadata": {
        "id": "LiW63XOjUU1x"
      },
      "execution_count": 68,
      "outputs": []
    },
    {
      "cell_type": "code",
      "source": [
        "# menambahkan layer LSTM pertama dan mengatur Dropout\n",
        "model_canada.add(LSTM(\n",
        "    units = 60,\n",
        "    activation = 'tanh',\n",
        "    return_sequences = True,\n",
        "    input_shape = (X_train.shape[1], 1)\n",
        "))\n",
        "model_canada.add(Dropout(0.2))\n",
        "\n",
        "# menambahkan layer LSTM kedua dan mengatur Dropout\n",
        "model_canada.add(LSTM(\n",
        "    units = 80,\n",
        "    activation = 'relu',\n",
        "    return_sequences = True\n",
        "))\n",
        "model_canada.add(Dropout(0.2))\n",
        "\n",
        "# menambahkan layer LSTM ketiga dan mengatur Dropout\n",
        "model_canada.add(LSTM(\n",
        "    units = 100,\n",
        "    activation = 'tanh',\n",
        "    return_sequences = True\n",
        "))\n",
        "model_canada.add(Dropout(0.2))\n",
        "\n",
        "# menambahkan layer LSTM keempat dan mengatur Dropout\n",
        "model_canada.add(LSTM(\n",
        "    units = 120\n",
        "))\n",
        "model_canada.add(Dropout(0.2))\n",
        "\n",
        "# menambahkan layer output\n",
        "model_canada.add(Dense(\n",
        "    units = 1\n",
        "))\n",
        "\n",
        "# rangkuman\n",
        "model_canada.summary()"
      ],
      "metadata": {
        "colab": {
          "base_uri": "https://localhost:8080/"
        },
        "id": "7TqS8XJcUUw1",
        "outputId": "d66ba28e-4e93-4739-fcd4-a98fcf02fd3a"
      },
      "execution_count": 69,
      "outputs": [
        {
          "output_type": "stream",
          "name": "stderr",
          "text": [
            "WARNING:tensorflow:Layer lstm_5 will not use cuDNN kernels since it doesn't meet the criteria. It will use a generic GPU kernel as fallback when running on GPU.\n"
          ]
        },
        {
          "output_type": "stream",
          "name": "stdout",
          "text": [
            "Model: \"sequential_1\"\n",
            "_________________________________________________________________\n",
            " Layer (type)                Output Shape              Param #   \n",
            "=================================================================\n",
            " lstm_4 (LSTM)               (None, 30, 60)            14880     \n",
            "                                                                 \n",
            " dropout_4 (Dropout)         (None, 30, 60)            0         \n",
            "                                                                 \n",
            " lstm_5 (LSTM)               (None, 30, 80)            45120     \n",
            "                                                                 \n",
            " dropout_5 (Dropout)         (None, 30, 80)            0         \n",
            "                                                                 \n",
            " lstm_6 (LSTM)               (None, 30, 100)           72400     \n",
            "                                                                 \n",
            " dropout_6 (Dropout)         (None, 30, 100)           0         \n",
            "                                                                 \n",
            " lstm_7 (LSTM)               (None, 120)               106080    \n",
            "                                                                 \n",
            " dropout_7 (Dropout)         (None, 120)               0         \n",
            "                                                                 \n",
            " dense_1 (Dense)             (None, 1)                 121       \n",
            "                                                                 \n",
            "=================================================================\n",
            "Total params: 238,601\n",
            "Trainable params: 238,601\n",
            "Non-trainable params: 0\n",
            "_________________________________________________________________\n"
          ]
        }
      ]
    },
    {
      "cell_type": "code",
      "source": [
        "# Compile RNN\n",
        "\n",
        "model_canada.compile(optimizer = 'adam', loss = 'mean_squared_error')"
      ],
      "metadata": {
        "id": "7YxWvHDqUUsA"
      },
      "execution_count": 70,
      "outputs": []
    },
    {
      "cell_type": "code",
      "source": [
        "# menerapkan RNN ke dalam train set\n",
        "\n",
        "epoch = 100 \n",
        "batch_size = 32\n",
        "\n",
        "model_canada.fit(X_train, y_train, epochs = epoch, batch_size = batch_size)"
      ],
      "metadata": {
        "colab": {
          "base_uri": "https://localhost:8080/"
        },
        "id": "4M-_LF3nUUoO",
        "outputId": "db6efdc2-28c5-40ae-d198-3379bdf5051a"
      },
      "execution_count": 71,
      "outputs": [
        {
          "output_type": "stream",
          "name": "stdout",
          "text": [
            "Epoch 1/100\n",
            "7/7 [==============================] - 6s 105ms/step - loss: 0.3161\n",
            "Epoch 2/100\n",
            "7/7 [==============================] - 1s 173ms/step - loss: 0.0771\n",
            "Epoch 3/100\n",
            "7/7 [==============================] - 1s 153ms/step - loss: 0.0458\n",
            "Epoch 4/100\n",
            "7/7 [==============================] - 1s 169ms/step - loss: 0.0337\n",
            "Epoch 5/100\n",
            "7/7 [==============================] - 0s 65ms/step - loss: 0.0286\n",
            "Epoch 6/100\n",
            "7/7 [==============================] - 0s 67ms/step - loss: 0.0280\n",
            "Epoch 7/100\n",
            "7/7 [==============================] - 0s 68ms/step - loss: 0.0273\n",
            "Epoch 8/100\n",
            "7/7 [==============================] - 0s 66ms/step - loss: 0.0249\n",
            "Epoch 9/100\n",
            "7/7 [==============================] - 0s 61ms/step - loss: 0.0248\n",
            "Epoch 10/100\n",
            "7/7 [==============================] - 0s 64ms/step - loss: 0.0228\n",
            "Epoch 11/100\n",
            "7/7 [==============================] - 0s 67ms/step - loss: 0.0262\n",
            "Epoch 12/100\n",
            "7/7 [==============================] - 1s 74ms/step - loss: 0.0268\n",
            "Epoch 13/100\n",
            "7/7 [==============================] - 0s 66ms/step - loss: 0.0239\n",
            "Epoch 14/100\n",
            "7/7 [==============================] - 1s 79ms/step - loss: 0.0250\n",
            "Epoch 15/100\n",
            "7/7 [==============================] - 1s 107ms/step - loss: 0.0238\n",
            "Epoch 16/100\n",
            "7/7 [==============================] - 1s 101ms/step - loss: 0.0266\n",
            "Epoch 17/100\n",
            "7/7 [==============================] - 1s 94ms/step - loss: 0.0253\n",
            "Epoch 18/100\n",
            "7/7 [==============================] - 1s 141ms/step - loss: 0.0258\n",
            "Epoch 19/100\n",
            "7/7 [==============================] - 1s 189ms/step - loss: 0.0224\n",
            "Epoch 20/100\n",
            "7/7 [==============================] - 2s 213ms/step - loss: 0.0238\n",
            "Epoch 21/100\n",
            "7/7 [==============================] - 1s 216ms/step - loss: 0.0264\n",
            "Epoch 22/100\n",
            "7/7 [==============================] - 2s 259ms/step - loss: 0.0287\n",
            "Epoch 23/100\n",
            "7/7 [==============================] - 1s 203ms/step - loss: 0.0278\n",
            "Epoch 24/100\n",
            "7/7 [==============================] - 1s 184ms/step - loss: 0.0248\n",
            "Epoch 25/100\n",
            "7/7 [==============================] - 1s 181ms/step - loss: 0.0256\n",
            "Epoch 26/100\n",
            "7/7 [==============================] - 1s 160ms/step - loss: 0.0279\n",
            "Epoch 27/100\n",
            "7/7 [==============================] - 1s 139ms/step - loss: 0.0284\n",
            "Epoch 28/100\n",
            "7/7 [==============================] - 1s 182ms/step - loss: 0.0265\n",
            "Epoch 29/100\n",
            "7/7 [==============================] - 1s 149ms/step - loss: 0.0259\n",
            "Epoch 30/100\n",
            "7/7 [==============================] - 1s 68ms/step - loss: 0.0263\n",
            "Epoch 31/100\n",
            "7/7 [==============================] - 0s 68ms/step - loss: 0.0241\n",
            "Epoch 32/100\n",
            "7/7 [==============================] - 0s 70ms/step - loss: 0.0247\n",
            "Epoch 33/100\n",
            "7/7 [==============================] - 0s 66ms/step - loss: 0.0224\n",
            "Epoch 34/100\n",
            "7/7 [==============================] - 0s 64ms/step - loss: 0.0240\n",
            "Epoch 35/100\n",
            "7/7 [==============================] - 0s 62ms/step - loss: 0.0259\n",
            "Epoch 36/100\n",
            "7/7 [==============================] - 0s 63ms/step - loss: 0.0244\n",
            "Epoch 37/100\n",
            "7/7 [==============================] - 0s 62ms/step - loss: 0.0260\n",
            "Epoch 38/100\n",
            "7/7 [==============================] - 0s 63ms/step - loss: 0.0262\n",
            "Epoch 39/100\n",
            "7/7 [==============================] - 0s 68ms/step - loss: 0.0259\n",
            "Epoch 40/100\n",
            "7/7 [==============================] - 0s 63ms/step - loss: 0.0261\n",
            "Epoch 41/100\n",
            "7/7 [==============================] - 0s 62ms/step - loss: 0.0258\n",
            "Epoch 42/100\n",
            "7/7 [==============================] - 0s 65ms/step - loss: 0.0256\n",
            "Epoch 43/100\n",
            "7/7 [==============================] - 0s 73ms/step - loss: 0.0261\n",
            "Epoch 44/100\n",
            "7/7 [==============================] - 0s 66ms/step - loss: 0.0257\n",
            "Epoch 45/100\n",
            "7/7 [==============================] - 0s 61ms/step - loss: 0.0244\n",
            "Epoch 46/100\n",
            "7/7 [==============================] - 0s 68ms/step - loss: 0.0214\n",
            "Epoch 47/100\n",
            "7/7 [==============================] - 0s 61ms/step - loss: 0.0244\n",
            "Epoch 48/100\n",
            "7/7 [==============================] - 0s 64ms/step - loss: 0.0220\n",
            "Epoch 49/100\n",
            "7/7 [==============================] - 0s 63ms/step - loss: 0.0261\n",
            "Epoch 50/100\n",
            "7/7 [==============================] - 0s 65ms/step - loss: 0.0253\n",
            "Epoch 51/100\n",
            "7/7 [==============================] - 0s 62ms/step - loss: 0.0246\n",
            "Epoch 52/100\n",
            "7/7 [==============================] - 0s 69ms/step - loss: 0.0246\n",
            "Epoch 53/100\n",
            "7/7 [==============================] - 0s 66ms/step - loss: 0.0238\n",
            "Epoch 54/100\n",
            "7/7 [==============================] - 0s 60ms/step - loss: 0.0263\n",
            "Epoch 55/100\n",
            "7/7 [==============================] - 0s 69ms/step - loss: 0.0248\n",
            "Epoch 56/100\n",
            "7/7 [==============================] - 0s 66ms/step - loss: 0.0264\n",
            "Epoch 57/100\n",
            "7/7 [==============================] - 0s 63ms/step - loss: 0.0255\n",
            "Epoch 58/100\n",
            "7/7 [==============================] - 0s 61ms/step - loss: 0.0245\n",
            "Epoch 59/100\n",
            "7/7 [==============================] - 0s 63ms/step - loss: 0.0268\n",
            "Epoch 60/100\n",
            "7/7 [==============================] - 0s 66ms/step - loss: 0.0231\n",
            "Epoch 61/100\n",
            "7/7 [==============================] - 0s 68ms/step - loss: 0.0263\n",
            "Epoch 62/100\n",
            "7/7 [==============================] - 0s 66ms/step - loss: 0.0233\n",
            "Epoch 63/100\n",
            "7/7 [==============================] - 0s 66ms/step - loss: 0.0249\n",
            "Epoch 64/100\n",
            "7/7 [==============================] - 0s 67ms/step - loss: 0.0242\n",
            "Epoch 65/100\n",
            "7/7 [==============================] - 0s 60ms/step - loss: 0.0261\n",
            "Epoch 66/100\n",
            "7/7 [==============================] - 0s 62ms/step - loss: 0.0261\n",
            "Epoch 67/100\n",
            "7/7 [==============================] - 0s 68ms/step - loss: 0.0243\n",
            "Epoch 68/100\n",
            "7/7 [==============================] - 0s 65ms/step - loss: 0.0241\n",
            "Epoch 69/100\n",
            "7/7 [==============================] - 0s 62ms/step - loss: 0.0260\n",
            "Epoch 70/100\n",
            "7/7 [==============================] - 0s 61ms/step - loss: 0.0250\n",
            "Epoch 71/100\n",
            "7/7 [==============================] - 0s 68ms/step - loss: 0.0246\n",
            "Epoch 72/100\n",
            "7/7 [==============================] - 1s 74ms/step - loss: 0.0250\n",
            "Epoch 73/100\n",
            "7/7 [==============================] - 1s 71ms/step - loss: 0.0306\n",
            "Epoch 74/100\n",
            "7/7 [==============================] - 0s 69ms/step - loss: 0.0256\n",
            "Epoch 75/100\n",
            "7/7 [==============================] - 0s 67ms/step - loss: 0.0238\n",
            "Epoch 76/100\n",
            "7/7 [==============================] - 0s 65ms/step - loss: 0.0258\n",
            "Epoch 77/100\n",
            "7/7 [==============================] - 0s 68ms/step - loss: 0.0248\n",
            "Epoch 78/100\n",
            "7/7 [==============================] - 0s 61ms/step - loss: 0.0242\n",
            "Epoch 79/100\n",
            "7/7 [==============================] - 0s 69ms/step - loss: 0.0232\n",
            "Epoch 80/100\n",
            "7/7 [==============================] - 0s 66ms/step - loss: 0.0249\n",
            "Epoch 81/100\n",
            "7/7 [==============================] - 1s 73ms/step - loss: 0.0265\n",
            "Epoch 82/100\n",
            "7/7 [==============================] - 0s 66ms/step - loss: 0.0240\n",
            "Epoch 83/100\n",
            "7/7 [==============================] - 0s 69ms/step - loss: 0.0252\n",
            "Epoch 84/100\n",
            "7/7 [==============================] - 0s 67ms/step - loss: 0.0232\n",
            "Epoch 85/100\n",
            "7/7 [==============================] - 1s 74ms/step - loss: 0.0247\n",
            "Epoch 86/100\n",
            "7/7 [==============================] - 1s 72ms/step - loss: 0.0240\n",
            "Epoch 87/100\n",
            "7/7 [==============================] - 0s 66ms/step - loss: 0.0243\n",
            "Epoch 88/100\n",
            "7/7 [==============================] - 0s 64ms/step - loss: 0.0240\n",
            "Epoch 89/100\n",
            "7/7 [==============================] - 0s 69ms/step - loss: 0.0241\n",
            "Epoch 90/100\n",
            "7/7 [==============================] - 0s 67ms/step - loss: 0.0244\n",
            "Epoch 91/100\n",
            "7/7 [==============================] - 0s 65ms/step - loss: 0.0256\n",
            "Epoch 92/100\n",
            "7/7 [==============================] - 0s 73ms/step - loss: 0.0233\n",
            "Epoch 93/100\n",
            "7/7 [==============================] - 0s 67ms/step - loss: 0.0244\n",
            "Epoch 94/100\n",
            "7/7 [==============================] - 0s 66ms/step - loss: 0.0227\n",
            "Epoch 95/100\n",
            "7/7 [==============================] - 0s 63ms/step - loss: 0.0245\n",
            "Epoch 96/100\n",
            "7/7 [==============================] - 0s 71ms/step - loss: 0.0236\n",
            "Epoch 97/100\n",
            "7/7 [==============================] - 1s 91ms/step - loss: 0.0243\n",
            "Epoch 98/100\n",
            "7/7 [==============================] - 1s 138ms/step - loss: 0.0266\n",
            "Epoch 99/100\n",
            "7/7 [==============================] - 1s 112ms/step - loss: 0.0278\n",
            "Epoch 100/100\n",
            "7/7 [==============================] - 1s 143ms/step - loss: 0.0265\n"
          ]
        },
        {
          "output_type": "execute_result",
          "data": {
            "text/plain": [
              "<keras.callbacks.History at 0x7feb3daf6350>"
            ]
          },
          "metadata": {},
          "execution_count": 71
        }
      ]
    },
    {
      "cell_type": "code",
      "source": [
        "# membuat data test\n",
        "\n",
        "df_test_canada = df_canada[235:]"
      ],
      "metadata": {
        "id": "W5OAvo3UUUiX"
      },
      "execution_count": 72,
      "outputs": []
    },
    {
      "cell_type": "code",
      "source": [
        "# melihat info\n",
        "\n",
        "df_test_canada.info()"
      ],
      "metadata": {
        "colab": {
          "base_uri": "https://localhost:8080/"
        },
        "id": "48no-Io_UUVC",
        "outputId": "1613c4d0-1ae3-4f73-ea33-15c1f3f3c9ce"
      },
      "execution_count": 73,
      "outputs": [
        {
          "output_type": "stream",
          "name": "stdout",
          "text": [
            "<class 'pandas.core.frame.DataFrame'>\n",
            "RangeIndex: 27 entries, 235 to 261\n",
            "Data columns (total 2 columns):\n",
            " #   Column             Non-Null Count  Dtype         \n",
            "---  ------             --------------  -----         \n",
            " 0   Date               27 non-null     datetime64[ns]\n",
            " 1   PercentOfBaseline  27 non-null     float64       \n",
            "dtypes: datetime64[ns](1), float64(1)\n",
            "memory usage: 564.0 bytes\n"
          ]
        }
      ]
    },
    {
      "cell_type": "code",
      "source": [
        "# memilih kolom yang digunakan\n",
        "\n",
        "testing_set_canada = df_test_canada['PercentOfBaseline']"
      ],
      "metadata": {
        "id": "PAkr5b9gVe95"
      },
      "execution_count": 74,
      "outputs": []
    },
    {
      "cell_type": "code",
      "source": [
        "# membuat dataframe test\n",
        "\n",
        "testing_set_canada = pd.DataFrame(testing_set_canada)"
      ],
      "metadata": {
        "id": "vQHScl5IVe6w"
      },
      "execution_count": 75,
      "outputs": []
    },
    {
      "cell_type": "code",
      "source": [
        "# melihat info\n",
        "\n",
        "testing_set_canada.info()"
      ],
      "metadata": {
        "colab": {
          "base_uri": "https://localhost:8080/"
        },
        "id": "NXdfO4lRVeyR",
        "outputId": "f7c1bb60-f5f1-4e8a-baa7-8810c37ecf01"
      },
      "execution_count": 76,
      "outputs": [
        {
          "output_type": "stream",
          "name": "stdout",
          "text": [
            "<class 'pandas.core.frame.DataFrame'>\n",
            "RangeIndex: 27 entries, 235 to 261\n",
            "Data columns (total 1 columns):\n",
            " #   Column             Non-Null Count  Dtype  \n",
            "---  ------             --------------  -----  \n",
            " 0   PercentOfBaseline  27 non-null     float64\n",
            "dtypes: float64(1)\n",
            "memory usage: 348.0 bytes\n"
          ]
        }
      ]
    },
    {
      "cell_type": "code",
      "source": [
        "# melihat data asli\n",
        "\n",
        "real_percentofbaseline_canada = testing_set_canada.values\n",
        "\n",
        "real_percentofbaseline_canada"
      ],
      "metadata": {
        "colab": {
          "base_uri": "https://localhost:8080/"
        },
        "id": "np5oCq8OVeq1",
        "outputId": "4d8e3d07-eb32-459b-e295-8fd435bfc9bf"
      },
      "execution_count": 77,
      "outputs": [
        {
          "output_type": "execute_result",
          "data": {
            "text/plain": [
              "array([[91.33333333],\n",
              "       [82.77777778],\n",
              "       [70.22222222],\n",
              "       [88.55555556],\n",
              "       [90.55555556],\n",
              "       [72.66666667],\n",
              "       [81.33333333],\n",
              "       [88.22222222],\n",
              "       [80.55555556],\n",
              "       [61.66666667],\n",
              "       [89.22222222],\n",
              "       [90.22222222],\n",
              "       [89.66666667],\n",
              "       [90.11111111],\n",
              "       [86.55555556],\n",
              "       [80.55555556],\n",
              "       [66.22222222],\n",
              "       [93.22222222],\n",
              "       [89.33333333],\n",
              "       [89.        ],\n",
              "       [87.33333333],\n",
              "       [86.33333333],\n",
              "       [83.44444444],\n",
              "       [80.77777778],\n",
              "       [91.11111111],\n",
              "       [91.88888889],\n",
              "       [88.66666667]])"
            ]
          },
          "metadata": {},
          "execution_count": 77
        }
      ]
    },
    {
      "cell_type": "code",
      "source": [
        "# mendapatkan data prediksi\n",
        "\n",
        "dataset_total_canada = pd.concat((df_train_canada['PercentOfBaseline'], df_test_canada['PercentOfBaseline']), axis = 0)\n",
        "\n",
        "inputs_canada = dataset_total_canada[len(dataset_total_canada) - len(df_test_canada) - 30:].values\n",
        "inputs_canada = inputs_canada.reshape(-1, 1)\n",
        "inputs_canada = scale_canada.transform(inputs_canada)\n",
        "\n",
        "X_test = []\n",
        "\n",
        "for i in range(30, 57):\n",
        "    X_test.append(inputs_canada[i-30:i, 0])\n",
        "\n",
        "X_test = np.array(X_test)\n",
        "X_test = np.reshape(X_test, (X_test.shape[0], X_test.shape[1], 1))\n",
        "\n",
        "predicted_percentofbaseline_canada = model_canada.predict(X_test)\n",
        "predicted_percentofbaseline_canada = scale_canada.inverse_transform(predicted_percentofbaseline_canada)"
      ],
      "metadata": {
        "colab": {
          "base_uri": "https://localhost:8080/"
        },
        "id": "n8siGa3-Vw4o",
        "outputId": "94a90018-d236-49fc-acce-65c54fa80a5a"
      },
      "execution_count": 111,
      "outputs": [
        {
          "output_type": "stream",
          "name": "stderr",
          "text": [
            "/usr/local/lib/python3.7/dist-packages/sklearn/base.py:451: UserWarning: X does not have valid feature names, but MinMaxScaler was fitted with feature names\n",
            "  \"X does not have valid feature names, but\"\n"
          ]
        }
      ]
    },
    {
      "cell_type": "code",
      "source": [
        "# melihat X_test\n",
        "\n",
        "X_test.shape"
      ],
      "metadata": {
        "colab": {
          "base_uri": "https://localhost:8080/"
        },
        "id": "H-qP0lCCVwzt",
        "outputId": "1a611eb7-1f31-4a63-85f6-e0d43e811dd0"
      },
      "execution_count": 112,
      "outputs": [
        {
          "output_type": "execute_result",
          "data": {
            "text/plain": [
              "(27, 30, 1)"
            ]
          },
          "metadata": {},
          "execution_count": 112
        }
      ]
    },
    {
      "cell_type": "code",
      "source": [
        "# membuat dataframe prediksi\n",
        "\n",
        "predicted_percentofbaseline_canada = pd.DataFrame(predicted_percentofbaseline_canada)"
      ],
      "metadata": {
        "id": "d5WNK9GNVwvZ"
      },
      "execution_count": 113,
      "outputs": []
    },
    {
      "cell_type": "code",
      "source": [
        "# melihat info\n",
        "\n",
        "predicted_percentofbaseline_canada.info()"
      ],
      "metadata": {
        "colab": {
          "base_uri": "https://localhost:8080/"
        },
        "id": "3J7jeb5OWBi2",
        "outputId": "f850822d-3a02-46a9-ed59-a2923712a1f6"
      },
      "execution_count": 114,
      "outputs": [
        {
          "output_type": "stream",
          "name": "stdout",
          "text": [
            "<class 'pandas.core.frame.DataFrame'>\n",
            "RangeIndex: 27 entries, 0 to 26\n",
            "Data columns (total 1 columns):\n",
            " #   Column  Non-Null Count  Dtype  \n",
            "---  ------  --------------  -----  \n",
            " 0   0       27 non-null     float32\n",
            "dtypes: float32(1)\n",
            "memory usage: 236.0 bytes\n"
          ]
        }
      ]
    },
    {
      "cell_type": "code",
      "source": [
        "# Visualisasi hasil\n",
        "\n",
        "plt.figure(figsize=(22,9))\n",
        "plt.plot(real_percentofbaseline_canada, color = 'blue', label = 'PercentOfBaseline Asli')\n",
        "plt.plot(predicted_percentofbaseline_canada, color = 'green', label = 'PercentOfBaseline Prediksi')\n",
        "plt.title('Prediksi PercentOfBaseline Canada')\n",
        "plt.xlabel('Date')\n",
        "plt.ylabel('PercentOfBaseline')\n",
        "plt.legend(loc=\"lower left\")\n",
        "plt.show()"
      ],
      "metadata": {
        "colab": {
          "base_uri": "https://localhost:8080/",
          "height": 383
        },
        "id": "U2xGQD0OWBbF",
        "outputId": "d02e7a14-5d5e-4fae-db7a-b62a8362ed49"
      },
      "execution_count": 115,
      "outputs": [
        {
          "output_type": "display_data",
          "data": {
            "text/plain": [
              "<Figure size 1584x648 with 1 Axes>"
            ],
            "image/png": "[encoded data removed]"
          },
          "metadata": {}
        }
      ]
    },
    {
      "cell_type": "markdown",
      "source": [
        "#### 4.3 Negara Chile"
      ],
      "metadata": {
        "id": "6NRf9VcWUMOR"
      }
    },
    {
      "cell_type": "code",
      "source": [
        "# dataset Chile\n",
        "\n",
        "df_chile.head()"
      ],
      "metadata": {
        "colab": {
          "base_uri": "https://localhost:8080/",
          "height": 206
        },
        "id": "QVtqO3bhmTwk",
        "outputId": "c11b8f74-1ee4-4c9e-dcf2-501d76b7d538"
      },
      "execution_count": 168,
      "outputs": [
        {
          "output_type": "execute_result",
          "data": {
            "text/plain": [
              "          Date  PercentOfBaseline\n",
              "302 2020-03-16                 96\n",
              "257 2020-03-17                 72\n",
              "393 2020-03-18                 56\n",
              "473 2020-03-19                 52\n",
              "414 2020-03-20                 53"
            ],
            "text/html": [
              "\n",
              "  <div id=\"df-65f20d14-d49a-41b0-a203-f31219f18d9c\">\n",
              "    <div class=\"colab-df-container\">\n",
              "      <div>\n",
              "<style scoped>\n",
              "    .dataframe tbody tr th:only-of-type {\n",
              "        vertical-align: middle;\n",
              "    }\n",
              "\n",
              "    .dataframe tbody tr th {\n",
              "        vertical-align: top;\n",
              "    }\n",
              "\n",
              "    .dataframe thead th {\n",
              "        text-align: right;\n",
              "    }\n",
              "</style>\n",
              "<table border=\"1\" class=\"dataframe\">\n",
              "  <thead>\n",
              "    <tr style=\"text-align: right;\">\n",
              "      <th></th>\n",
              "      <th>Date</th>\n",
              "      <th>PercentOfBaseline</th>\n",
              "    </tr>\n",
              "  </thead>\n",
              "  <tbody>\n",
              "    <tr>\n",
              "      <th>302</th>\n",
              "      <td>2020-03-16</td>\n",
              "      <td>96</td>\n",
              "    </tr>\n",
              "    <tr>\n",
              "      <th>257</th>\n",
              "      <td>2020-03-17</td>\n",
              "      <td>72</td>\n",
              "    </tr>\n",
              "    <tr>\n",
              "      <th>393</th>\n",
              "      <td>2020-03-18</td>\n",
              "      <td>56</td>\n",
              "    </tr>\n",
              "    <tr>\n",
              "      <th>473</th>\n",
              "      <td>2020-03-19</td>\n",
              "      <td>52</td>\n",
              "    </tr>\n",
              "    <tr>\n",
              "      <th>414</th>\n",
              "      <td>2020-03-20</td>\n",
              "      <td>53</td>\n",
              "    </tr>\n",
              "  </tbody>\n",
              "</table>\n",
              "</div>\n",
              "      <button class=\"colab-df-convert\" onclick=\"convertToInteractive('df-65f20d14-d49a-41b0-a203-f31219f18d9c')\"\n",
              "              title=\"Convert this dataframe to an interactive table.\"\n",
              "              style=\"display:none;\">\n",
              "        \n",
              "  <svg xmlns=\"http://www.w3.org/2000/svg\" height=\"24px\"viewBox=\"0 0 24 24\"\n",
              "       width=\"24px\">\n",
              "    <path d=\"M0 0h24v24H0V0z\" fill=\"none\"/>\n",
              "    <path d=\"M18.56 5.44l.94 2.06.94-2.06 2.06-.94-2.06-.94-.94-2.06-.94 2.06-2.06.94zm-11 1L8.5 8.5l.94-2.06 2.06-.94-2.06-.94L8.5 2.5l-.94 2.06-2.06.94zm10 10l.94 2.06.94-2.06 2.06-.94-2.06-.94-.94-2.06-.94 2.06-2.06.94z\"/><path d=\"M17.41 7.96l-1.37-1.37c-.4-.4-.92-.59-1.43-.59-.52 0-1.04.2-1.43.59L10.3 9.45l-7.72 7.72c-.78.78-.78 2.05 0 2.83L4 21.41c.39.39.9.59 1.41.59.51 0 1.02-.2 1.41-.59l7.78-7.78 2.81-2.81c.8-.78.8-2.07 0-2.86zM5.41 20L4 18.59l7.72-7.72 1.47 1.35L5.41 20z\"/>\n",
              "  </svg>\n",
              "      </button>\n",
              "      \n",
              "  <style>\n",
              "    .colab-df-container {\n",
              "      display:flex;\n",
              "      flex-wrap:wrap;\n",
              "      gap: 12px;\n",
              "    }\n",
              "\n",
              "    .colab-df-convert {\n",
              "      background-color: #E8F0FE;\n",
              "      border: none;\n",
              "      border-radius: 50%;\n",
              "      cursor: pointer;\n",
              "      display: none;\n",
              "      fill: #1967D2;\n",
              "      height: 32px;\n",
              "      padding: 0 0 0 0;\n",
              "      width: 32px;\n",
              "    }\n",
              "\n",
              "    .colab-df-convert:hover {\n",
              "      background-color: #E2EBFA;\n",
              "      box-shadow: 0px 1px 2px rgba(60, 64, 67, 0.3), 0px 1px 3px 1px rgba(60, 64, 67, 0.15);\n",
              "      fill: #174EA6;\n",
              "    }\n",
              "\n",
              "    [theme=dark] .colab-df-convert {\n",
              "      background-color: #3B4455;\n",
              "      fill: #D2E3FC;\n",
              "    }\n",
              "\n",
              "    [theme=dark] .colab-df-convert:hover {\n",
              "      background-color: #434B5C;\n",
              "      box-shadow: 0px 1px 3px 1px rgba(0, 0, 0, 0.15);\n",
              "      filter: drop-shadow(0px 1px 2px rgba(0, 0, 0, 0.3));\n",
              "      fill: #FFFFFF;\n",
              "    }\n",
              "  </style>\n",
              "\n",
              "      <script>\n",
              "        const buttonEl =\n",
              "          document.querySelector('#df-65f20d14-d49a-41b0-a203-f31219f18d9c button.colab-df-convert');\n",
              "        buttonEl.style.display =\n",
              "          google.colab.kernel.accessAllowed ? 'block' : 'none';\n",
              "\n",
              "        async function convertToInteractive(key) {\n",
              "          const element = document.querySelector('#df-65f20d14-d49a-41b0-a203-f31219f18d9c');\n",
              "          const dataTable =\n",
              "            await google.colab.kernel.invokeFunction('convertToInteractive',\n",
              "                                                     [key], {});\n",
              "          if (!dataTable) return;\n",
              "\n",
              "          const docLinkHtml = 'Like what you see? Visit the ' +\n",
              "            '<a target=\"_blank\" href=https://colab.research.google.com/notebooks/data_table.ipynb>data table notebook</a>'\n",
              "            + ' to learn more about interactive tables.';\n",
              "          element.innerHTML = '';\n",
              "          dataTable['output_type'] = 'display_data';\n",
              "          await google.colab.output.renderOutput(dataTable, element);\n",
              "          const docLink = document.createElement('div');\n",
              "          docLink.innerHTML = docLinkHtml;\n",
              "          element.appendChild(docLink);\n",
              "        }\n",
              "      </script>\n",
              "    </div>\n",
              "  </div>\n",
              "  "
            ]
          },
          "metadata": {},
          "execution_count": 168
        }
      ]
    },
    {
      "cell_type": "code",
      "source": [
        "# membuat data train \n",
        "\n",
        "df_train_chile = df_chile[:214]"
      ],
      "metadata": {
        "id": "eSgMNHuCmTtg"
      },
      "execution_count": 169,
      "outputs": []
    },
    {
      "cell_type": "code",
      "source": [
        "# melihat info\n",
        "\n",
        "df_train_chile.info()"
      ],
      "metadata": {
        "colab": {
          "base_uri": "https://localhost:8080/"
        },
        "id": "uvReyNOymTqb",
        "outputId": "e0075294-409a-4d06-c5af-7b00805752e4"
      },
      "execution_count": 170,
      "outputs": [
        {
          "output_type": "stream",
          "name": "stdout",
          "text": [
            "<class 'pandas.core.frame.DataFrame'>\n",
            "Int64Index: 214 entries, 302 to 391\n",
            "Data columns (total 2 columns):\n",
            " #   Column             Non-Null Count  Dtype         \n",
            "---  ------             --------------  -----         \n",
            " 0   Date               214 non-null    datetime64[ns]\n",
            " 1   PercentOfBaseline  214 non-null    int64         \n",
            "dtypes: datetime64[ns](1), int64(1)\n",
            "memory usage: 5.0 KB\n"
          ]
        }
      ]
    },
    {
      "cell_type": "code",
      "source": [
        "# memilih kolom yang digunakan\n",
        "\n",
        "training_set_chile = df_train_chile['PercentOfBaseline']"
      ],
      "metadata": {
        "id": "PujgcKy4mTn8"
      },
      "execution_count": 171,
      "outputs": []
    },
    {
      "cell_type": "code",
      "source": [
        "# membuat dataframe train\n",
        "\n",
        "training_set_chile = pd.DataFrame(training_set_chile)"
      ],
      "metadata": {
        "id": "LoJzh5kxmTkv"
      },
      "execution_count": 172,
      "outputs": []
    },
    {
      "cell_type": "code",
      "source": [
        "# standarisasi nilai\n",
        "\n",
        "scale_chile = MinMaxScaler(feature_range = (0, 1))\n",
        "\n",
        "training_set_scaled_chile = scale_chile.fit_transform(training_set_chile)"
      ],
      "metadata": {
        "id": "3EZW3A5KmTe8"
      },
      "execution_count": 173,
      "outputs": []
    },
    {
      "cell_type": "code",
      "source": [
        "# membuat struktur data dengan 30 timesteps dan 1 output\n",
        "\n",
        "X_train = []\n",
        "y_train = []\n",
        "\n",
        "for i in range(30, 214):\n",
        "    X_train.append(training_set_scaled_chile[i-30:i, 0])\n",
        "    y_train.append(training_set_scaled_chile[i, 0])\n",
        "    \n",
        "X_train, y_train = np.array(X_train), np.array(y_train)"
      ],
      "metadata": {
        "id": "lp1KnGcPmTb3"
      },
      "execution_count": 174,
      "outputs": []
    },
    {
      "cell_type": "code",
      "source": [
        "# Reshaping\n",
        "\n",
        "X_train = np.reshape(X_train, (X_train.shape[0], X_train.shape[1], 1))"
      ],
      "metadata": {
        "id": "MD28RQ0_mTYu"
      },
      "execution_count": 175,
      "outputs": []
    },
    {
      "cell_type": "code",
      "source": [
        "# Inisialisasi RNN\n",
        "\n",
        "model_chile = Sequential()"
      ],
      "metadata": {
        "id": "9df4o1COmTWB"
      },
      "execution_count": 176,
      "outputs": []
    },
    {
      "cell_type": "code",
      "source": [
        "# menambahkan layer LSTM pertama dan mengatur Dropout\n",
        "model_chile.add(LSTM(\n",
        "    units = 60,\n",
        "    activation = 'tanh',\n",
        "    return_sequences = True,\n",
        "    input_shape = (X_train.shape[1], 1)\n",
        "))\n",
        "model_chile.add(Dropout(0.2))\n",
        "\n",
        "# menambahkan layer LSTM kedua dan mengatur Dropout\n",
        "model_chile.add(LSTM(\n",
        "    units = 80,\n",
        "    activation = 'relu',\n",
        "    return_sequences = True\n",
        "))\n",
        "model_chile.add(Dropout(0.2))\n",
        "\n",
        "# menambahkan layer LSTM ketiga dan mengatur Dropout\n",
        "model_chile.add(LSTM(\n",
        "    units = 100,\n",
        "    activation = 'tanh',\n",
        "    return_sequences = True\n",
        "))\n",
        "model_chile.add(Dropout(0.2))\n",
        "\n",
        "# menambahkan layer LSTM keempat dan mengatur Dropout\n",
        "model_chile.add(LSTM(\n",
        "    units = 120\n",
        "))\n",
        "model_chile.add(Dropout(0.2))\n",
        "\n",
        "# menambahkan layer output\n",
        "model_chile.add(Dense(\n",
        "    units = 1\n",
        "))\n",
        "\n",
        "# rangkuman\n",
        "model_chile.summary()"
      ],
      "metadata": {
        "colab": {
          "base_uri": "https://localhost:8080/"
        },
        "id": "PD27kta_mTSX",
        "outputId": "fe02e37f-19fc-49e7-d6bc-2c529e3d01c8"
      },
      "execution_count": 177,
      "outputs": [
        {
          "output_type": "stream",
          "name": "stderr",
          "text": [
            "WARNING:tensorflow:Layer lstm_17 will not use cuDNN kernels since it doesn't meet the criteria. It will use a generic GPU kernel as fallback when running on GPU.\n"
          ]
        },
        {
          "output_type": "stream",
          "name": "stdout",
          "text": [
            "Model: \"sequential_4\"\n",
            "_________________________________________________________________\n",
            " Layer (type)                Output Shape              Param #   \n",
            "=================================================================\n",
            " lstm_16 (LSTM)              (None, 30, 60)            14880     \n",
            "                                                                 \n",
            " dropout_16 (Dropout)        (None, 30, 60)            0         \n",
            "                                                                 \n",
            " lstm_17 (LSTM)              (None, 30, 80)            45120     \n",
            "                                                                 \n",
            " dropout_17 (Dropout)        (None, 30, 80)            0         \n",
            "                                                                 \n",
            " lstm_18 (LSTM)              (None, 30, 100)           72400     \n",
            "                                                                 \n",
            " dropout_18 (Dropout)        (None, 30, 100)           0         \n",
            "                                                                 \n",
            " lstm_19 (LSTM)              (None, 120)               106080    \n",
            "                                                                 \n",
            " dropout_19 (Dropout)        (None, 120)               0         \n",
            "                                                                 \n",
            " dense_4 (Dense)             (None, 1)                 121       \n",
            "                                                                 \n",
            "=================================================================\n",
            "Total params: 238,601\n",
            "Trainable params: 238,601\n",
            "Non-trainable params: 0\n",
            "_________________________________________________________________\n"
          ]
        }
      ]
    },
    {
      "cell_type": "code",
      "source": [
        "# Compile RNN\n",
        "\n",
        "model_chile.compile(optimizer = 'adam', loss = 'mean_squared_error')"
      ],
      "metadata": {
        "id": "QgfODvbrmTPd"
      },
      "execution_count": 178,
      "outputs": []
    },
    {
      "cell_type": "code",
      "source": [
        "# menerapkan RNN ke dalam train set\n",
        "\n",
        "epoch = 100 \n",
        "batch_size = 32\n",
        "\n",
        "model_chile.fit(X_train, y_train, epochs = epoch, batch_size = batch_size)"
      ],
      "metadata": {
        "colab": {
          "base_uri": "https://localhost:8080/"
        },
        "id": "lICC83bgmTLm",
        "outputId": "82f60b6d-774b-45ad-987a-83ea1bc00e20"
      },
      "execution_count": 179,
      "outputs": [
        {
          "output_type": "stream",
          "name": "stdout",
          "text": [
            "Epoch 1/100\n",
            "6/6 [==============================] - 6s 71ms/step - loss: 0.0626\n",
            "Epoch 2/100\n",
            "6/6 [==============================] - 0s 73ms/step - loss: 0.0182\n",
            "Epoch 3/100\n",
            "6/6 [==============================] - 0s 67ms/step - loss: 0.0232\n",
            "Epoch 4/100\n",
            "6/6 [==============================] - 0s 67ms/step - loss: 0.0162\n",
            "Epoch 5/100\n",
            "6/6 [==============================] - 0s 71ms/step - loss: 0.0135\n",
            "Epoch 6/100\n",
            "6/6 [==============================] - 0s 65ms/step - loss: 0.0128\n",
            "Epoch 7/100\n",
            "6/6 [==============================] - 0s 65ms/step - loss: 0.0124\n",
            "Epoch 8/100\n",
            "6/6 [==============================] - 0s 65ms/step - loss: 0.0127\n",
            "Epoch 9/100\n",
            "6/6 [==============================] - 0s 69ms/step - loss: 0.0118\n",
            "Epoch 10/100\n",
            "6/6 [==============================] - 0s 76ms/step - loss: 0.0109\n",
            "Epoch 11/100\n",
            "6/6 [==============================] - 0s 69ms/step - loss: 0.0098\n",
            "Epoch 12/100\n",
            "6/6 [==============================] - 0s 71ms/step - loss: 0.0108\n",
            "Epoch 13/100\n",
            "6/6 [==============================] - 0s 69ms/step - loss: 0.0114\n",
            "Epoch 14/100\n",
            "6/6 [==============================] - 0s 74ms/step - loss: 0.0104\n",
            "Epoch 15/100\n",
            "6/6 [==============================] - 0s 70ms/step - loss: 0.0116\n",
            "Epoch 16/100\n",
            "6/6 [==============================] - 0s 64ms/step - loss: 0.0110\n",
            "Epoch 17/100\n",
            "6/6 [==============================] - 0s 71ms/step - loss: 0.0104\n",
            "Epoch 18/100\n",
            "6/6 [==============================] - 0s 66ms/step - loss: 0.0104\n",
            "Epoch 19/100\n",
            "6/6 [==============================] - 0s 64ms/step - loss: 0.0113\n",
            "Epoch 20/100\n",
            "6/6 [==============================] - 0s 72ms/step - loss: 0.0110\n",
            "Epoch 21/100\n",
            "6/6 [==============================] - 0s 68ms/step - loss: 0.0111\n",
            "Epoch 22/100\n",
            "6/6 [==============================] - 0s 82ms/step - loss: 0.0104\n",
            "Epoch 23/100\n",
            "6/6 [==============================] - 0s 71ms/step - loss: 0.0100\n",
            "Epoch 24/100\n",
            "6/6 [==============================] - 0s 75ms/step - loss: 0.0112\n",
            "Epoch 25/100\n",
            "6/6 [==============================] - 0s 74ms/step - loss: 0.0113\n",
            "Epoch 26/100\n",
            "6/6 [==============================] - 0s 71ms/step - loss: 0.0106\n",
            "Epoch 27/100\n",
            "6/6 [==============================] - 0s 65ms/step - loss: 0.0108\n",
            "Epoch 28/100\n",
            "6/6 [==============================] - 0s 71ms/step - loss: 0.0110\n",
            "Epoch 29/100\n",
            "6/6 [==============================] - 0s 74ms/step - loss: 0.0104\n",
            "Epoch 30/100\n",
            "6/6 [==============================] - 0s 74ms/step - loss: 0.0109\n",
            "Epoch 31/100\n",
            "6/6 [==============================] - 0s 73ms/step - loss: 0.0109\n",
            "Epoch 32/100\n",
            "6/6 [==============================] - 0s 69ms/step - loss: 0.0104\n",
            "Epoch 33/100\n",
            "6/6 [==============================] - 0s 77ms/step - loss: 0.0111\n",
            "Epoch 34/100\n",
            "6/6 [==============================] - 0s 76ms/step - loss: 0.0103\n",
            "Epoch 35/100\n",
            "6/6 [==============================] - 0s 78ms/step - loss: 0.0117\n",
            "Epoch 36/100\n",
            "6/6 [==============================] - 0s 82ms/step - loss: 0.0105\n",
            "Epoch 37/100\n",
            "6/6 [==============================] - 0s 78ms/step - loss: 0.0108\n",
            "Epoch 38/100\n",
            "6/6 [==============================] - 0s 78ms/step - loss: 0.0114\n",
            "Epoch 39/100\n",
            "6/6 [==============================] - 0s 68ms/step - loss: 0.0106\n",
            "Epoch 40/100\n",
            "6/6 [==============================] - 0s 83ms/step - loss: 0.0112\n",
            "Epoch 41/100\n",
            "6/6 [==============================] - 0s 66ms/step - loss: 0.0106\n",
            "Epoch 42/100\n",
            "6/6 [==============================] - 0s 72ms/step - loss: 0.0104\n",
            "Epoch 43/100\n",
            "6/6 [==============================] - 0s 74ms/step - loss: 0.0103\n",
            "Epoch 44/100\n",
            "6/6 [==============================] - 0s 76ms/step - loss: 0.0108\n",
            "Epoch 45/100\n",
            "6/6 [==============================] - 0s 71ms/step - loss: 0.0113\n",
            "Epoch 46/100\n",
            "6/6 [==============================] - 0s 78ms/step - loss: 0.0109\n",
            "Epoch 47/100\n",
            "6/6 [==============================] - 0s 84ms/step - loss: 0.0094\n",
            "Epoch 48/100\n",
            "6/6 [==============================] - 0s 81ms/step - loss: 0.0098\n",
            "Epoch 49/100\n",
            "6/6 [==============================] - 0s 76ms/step - loss: 0.0108\n",
            "Epoch 50/100\n",
            "6/6 [==============================] - 0s 73ms/step - loss: 0.0107\n",
            "Epoch 51/100\n",
            "6/6 [==============================] - 0s 71ms/step - loss: 0.0101\n",
            "Epoch 52/100\n",
            "6/6 [==============================] - 0s 66ms/step - loss: 0.0108\n",
            "Epoch 53/100\n",
            "6/6 [==============================] - 0s 74ms/step - loss: 0.0106\n",
            "Epoch 54/100\n",
            "6/6 [==============================] - 0s 79ms/step - loss: 0.0097\n",
            "Epoch 55/100\n",
            "6/6 [==============================] - 0s 70ms/step - loss: 0.0107\n",
            "Epoch 56/100\n",
            "6/6 [==============================] - 0s 69ms/step - loss: 0.0099\n",
            "Epoch 57/100\n",
            "6/6 [==============================] - 0s 70ms/step - loss: 0.0103\n",
            "Epoch 58/100\n",
            "6/6 [==============================] - 0s 69ms/step - loss: 0.0100\n",
            "Epoch 59/100\n",
            "6/6 [==============================] - 0s 68ms/step - loss: 0.0101\n",
            "Epoch 60/100\n",
            "6/6 [==============================] - 0s 68ms/step - loss: 0.0103\n",
            "Epoch 61/100\n",
            "6/6 [==============================] - 0s 74ms/step - loss: 0.0106\n",
            "Epoch 62/100\n",
            "6/6 [==============================] - 0s 74ms/step - loss: 0.0108\n",
            "Epoch 63/100\n",
            "6/6 [==============================] - 0s 66ms/step - loss: 0.0113\n",
            "Epoch 64/100\n",
            "6/6 [==============================] - 0s 72ms/step - loss: 0.0114\n",
            "Epoch 65/100\n",
            "6/6 [==============================] - 1s 179ms/step - loss: 0.0113\n",
            "Epoch 66/100\n",
            "6/6 [==============================] - 0s 65ms/step - loss: 0.0096\n",
            "Epoch 67/100\n",
            "6/6 [==============================] - 0s 66ms/step - loss: 0.0106\n",
            "Epoch 68/100\n",
            "6/6 [==============================] - 0s 71ms/step - loss: 0.0101\n",
            "Epoch 69/100\n",
            "6/6 [==============================] - 0s 67ms/step - loss: 0.0101\n",
            "Epoch 70/100\n",
            "6/6 [==============================] - 0s 75ms/step - loss: 0.0103\n",
            "Epoch 71/100\n",
            "6/6 [==============================] - 0s 70ms/step - loss: 0.0103\n",
            "Epoch 72/100\n",
            "6/6 [==============================] - 0s 73ms/step - loss: 0.0102\n",
            "Epoch 73/100\n",
            "6/6 [==============================] - 0s 69ms/step - loss: 0.0102\n",
            "Epoch 74/100\n",
            "6/6 [==============================] - 0s 67ms/step - loss: 0.0107\n",
            "Epoch 75/100\n",
            "6/6 [==============================] - 0s 72ms/step - loss: 0.0105\n",
            "Epoch 76/100\n",
            "6/6 [==============================] - 0s 62ms/step - loss: 0.0106\n",
            "Epoch 77/100\n",
            "6/6 [==============================] - 0s 66ms/step - loss: 0.0112\n",
            "Epoch 78/100\n",
            "6/6 [==============================] - 0s 72ms/step - loss: 0.0102\n",
            "Epoch 79/100\n",
            "6/6 [==============================] - 0s 66ms/step - loss: 0.0117\n",
            "Epoch 80/100\n",
            "6/6 [==============================] - 0s 64ms/step - loss: 0.0100\n",
            "Epoch 81/100\n",
            "6/6 [==============================] - 0s 67ms/step - loss: 0.0111\n",
            "Epoch 82/100\n",
            "6/6 [==============================] - 0s 67ms/step - loss: 0.0108\n",
            "Epoch 83/100\n",
            "6/6 [==============================] - 0s 71ms/step - loss: 0.0104\n",
            "Epoch 84/100\n",
            "6/6 [==============================] - 0s 76ms/step - loss: 0.0105\n",
            "Epoch 85/100\n",
            "6/6 [==============================] - 0s 66ms/step - loss: 0.0098\n",
            "Epoch 86/100\n",
            "6/6 [==============================] - 0s 66ms/step - loss: 0.0105\n",
            "Epoch 87/100\n",
            "6/6 [==============================] - 0s 76ms/step - loss: 0.0108\n",
            "Epoch 88/100\n",
            "6/6 [==============================] - 0s 73ms/step - loss: 0.0109\n",
            "Epoch 89/100\n",
            "6/6 [==============================] - 1s 132ms/step - loss: 0.0095\n",
            "Epoch 90/100\n",
            "6/6 [==============================] - 1s 151ms/step - loss: 0.0105\n",
            "Epoch 91/100\n",
            "6/6 [==============================] - 1s 129ms/step - loss: 0.0101\n",
            "Epoch 92/100\n",
            "6/6 [==============================] - 1s 141ms/step - loss: 0.0105\n",
            "Epoch 93/100\n",
            "6/6 [==============================] - 1s 82ms/step - loss: 0.0103\n",
            "Epoch 94/100\n",
            "6/6 [==============================] - 0s 72ms/step - loss: 0.0106\n",
            "Epoch 95/100\n",
            "6/6 [==============================] - 0s 66ms/step - loss: 0.0099\n",
            "Epoch 96/100\n",
            "6/6 [==============================] - 0s 65ms/step - loss: 0.0101\n",
            "Epoch 97/100\n",
            "6/6 [==============================] - 0s 69ms/step - loss: 0.0106\n",
            "Epoch 98/100\n",
            "6/6 [==============================] - 0s 63ms/step - loss: 0.0102\n",
            "Epoch 99/100\n",
            "6/6 [==============================] - 0s 72ms/step - loss: 0.0098\n",
            "Epoch 100/100\n",
            "6/6 [==============================] - 0s 73ms/step - loss: 0.0101\n"
          ]
        },
        {
          "output_type": "execute_result",
          "data": {
            "text/plain": [
              "<keras.callbacks.History at 0x7feabd5bda10>"
            ]
          },
          "metadata": {},
          "execution_count": 179
        }
      ]
    },
    {
      "cell_type": "code",
      "source": [
        "# membuat data test\n",
        "\n",
        "df_test_chile = df_chile[214:]"
      ],
      "metadata": {
        "id": "71OBl85QmTIl"
      },
      "execution_count": 180,
      "outputs": []
    },
    {
      "cell_type": "code",
      "source": [
        "# melihat info\n",
        "\n",
        "df_test_chile.info()"
      ],
      "metadata": {
        "colab": {
          "base_uri": "https://localhost:8080/"
        },
        "id": "p0AdgI8ymTFL",
        "outputId": "cfcddd96-5fb8-4616-d92e-66dcdbd3d529"
      },
      "execution_count": 181,
      "outputs": [
        {
          "output_type": "stream",
          "name": "stdout",
          "text": [
            "<class 'pandas.core.frame.DataFrame'>\n",
            "Int64Index: 24 entries, 351 to 338\n",
            "Data columns (total 2 columns):\n",
            " #   Column             Non-Null Count  Dtype         \n",
            "---  ------             --------------  -----         \n",
            " 0   Date               24 non-null     datetime64[ns]\n",
            " 1   PercentOfBaseline  24 non-null     int64         \n",
            "dtypes: datetime64[ns](1), int64(1)\n",
            "memory usage: 576.0 bytes\n"
          ]
        }
      ]
    },
    {
      "cell_type": "code",
      "source": [
        "# memilih kolom yang digunakan\n",
        "\n",
        "testing_set_chile = df_test_chile['PercentOfBaseline']"
      ],
      "metadata": {
        "id": "QW3yDxMOmTBU"
      },
      "execution_count": 182,
      "outputs": []
    },
    {
      "cell_type": "code",
      "source": [
        "# membuat dataframe test\n",
        "\n",
        "testing_set_chile = pd.DataFrame(testing_set_chile)"
      ],
      "metadata": {
        "id": "DGeZp4CqmS-O"
      },
      "execution_count": 183,
      "outputs": []
    },
    {
      "cell_type": "code",
      "source": [
        "# melihat info\n",
        "\n",
        "testing_set_chile.info()"
      ],
      "metadata": {
        "colab": {
          "base_uri": "https://localhost:8080/"
        },
        "id": "S0u4g_eMmS7i",
        "outputId": "ebd7e538-0b6c-4b63-ddde-d37a68a5bb45"
      },
      "execution_count": 184,
      "outputs": [
        {
          "output_type": "stream",
          "name": "stdout",
          "text": [
            "<class 'pandas.core.frame.DataFrame'>\n",
            "Int64Index: 24 entries, 351 to 338\n",
            "Data columns (total 1 columns):\n",
            " #   Column             Non-Null Count  Dtype\n",
            "---  ------             --------------  -----\n",
            " 0   PercentOfBaseline  24 non-null     int64\n",
            "dtypes: int64(1)\n",
            "memory usage: 384.0 bytes\n"
          ]
        }
      ]
    },
    {
      "cell_type": "code",
      "source": [
        "# melihat data asli\n",
        "\n",
        "real_percentofbaseline_chile = testing_set_chile.values\n",
        "\n",
        "real_percentofbaseline_chile"
      ],
      "metadata": {
        "colab": {
          "base_uri": "https://localhost:8080/"
        },
        "id": "FRy329YomS4Q",
        "outputId": "d7b139b7-0d68-4e81-c1b7-371657a731c2"
      },
      "execution_count": 185,
      "outputs": [
        {
          "output_type": "execute_result",
          "data": {
            "text/plain": [
              "array([[57],\n",
              "       [48],\n",
              "       [52],\n",
              "       [52],\n",
              "       [59],\n",
              "       [60],\n",
              "       [63],\n",
              "       [41],\n",
              "       [65],\n",
              "       [62],\n",
              "       [62],\n",
              "       [60],\n",
              "       [64],\n",
              "       [31],\n",
              "       [26],\n",
              "       [58],\n",
              "       [44],\n",
              "       [47],\n",
              "       [50],\n",
              "       [48],\n",
              "       [39],\n",
              "       [65],\n",
              "       [45],\n",
              "       [48]])"
            ]
          },
          "metadata": {},
          "execution_count": 185
        }
      ]
    },
    {
      "cell_type": "code",
      "source": [
        "# mendapatkan data prediksi\n",
        "\n",
        "dataset_total_chile = pd.concat((df_train_chile['PercentOfBaseline'], df_test_chile['PercentOfBaseline']), axis = 0)\n",
        "\n",
        "inputs_chile = dataset_total_chile[len(dataset_total_chile) - len(df_test_chile) - 30:].values\n",
        "inputs_chile = inputs_chile.reshape(-1, 1)\n",
        "inputs_chile = scale_chile.transform(inputs_chile)\n",
        "\n",
        "X_test = []\n",
        "\n",
        "for i in range(30, 54):\n",
        "    X_test.append(inputs_chile[i-30:i, 0])\n",
        "\n",
        "X_test = np.array(X_test)\n",
        "X_test = np.reshape(X_test, (X_test.shape[0], X_test.shape[1], 1))\n",
        "\n",
        "predicted_percentofbaseline_chile = model_chile.predict(X_test)\n",
        "predicted_percentofbaseline_chile = scale_chile.inverse_transform(predicted_percentofbaseline_chile)"
      ],
      "metadata": {
        "colab": {
          "base_uri": "https://localhost:8080/"
        },
        "id": "IsrGbXn_mSrB",
        "outputId": "eacb091b-2dc4-49e3-98b2-2339a20eca8f"
      },
      "execution_count": 186,
      "outputs": [
        {
          "output_type": "stream",
          "name": "stderr",
          "text": [
            "/usr/local/lib/python3.7/dist-packages/sklearn/base.py:451: UserWarning: X does not have valid feature names, but MinMaxScaler was fitted with feature names\n",
            "  \"X does not have valid feature names, but\"\n",
            "WARNING:tensorflow:5 out of the last 7 calls to <function Model.make_predict_function.<locals>.predict_function at 0x7feabb6e3e60> triggered tf.function retracing. Tracing is expensive and the excessive number of tracings could be due to (1) creating @tf.function repeatedly in a loop, (2) passing tensors with different shapes, (3) passing Python objects instead of tensors. For (1), please define your @tf.function outside of the loop. For (2), @tf.function has experimental_relax_shapes=True option that relaxes argument shapes that can avoid unnecessary retracing. For (3), please refer to https://www.tensorflow.org/guide/function#controlling_retracing and https://www.tensorflow.org/api_docs/python/tf/function for  more details.\n"
          ]
        }
      ]
    },
    {
      "cell_type": "code",
      "source": [
        "# melihat X_test\n",
        "\n",
        "X_test.shape"
      ],
      "metadata": {
        "colab": {
          "base_uri": "https://localhost:8080/"
        },
        "id": "ge3W6qM2mSiw",
        "outputId": "2d68ed75-01d1-4de0-842e-1d516c497f5d"
      },
      "execution_count": 187,
      "outputs": [
        {
          "output_type": "execute_result",
          "data": {
            "text/plain": [
              "(24, 30, 1)"
            ]
          },
          "metadata": {},
          "execution_count": 187
        }
      ]
    },
    {
      "cell_type": "code",
      "source": [
        "# membuat dataframe prediksi\n",
        "\n",
        "predicted_percentofbaseline_chile = pd.DataFrame(predicted_percentofbaseline_chile)"
      ],
      "metadata": {
        "id": "zkenA-RwmSbU"
      },
      "execution_count": 188,
      "outputs": []
    },
    {
      "cell_type": "code",
      "source": [
        "# melihat info\n",
        "\n",
        "predicted_percentofbaseline_chile.info()"
      ],
      "metadata": {
        "colab": {
          "base_uri": "https://localhost:8080/"
        },
        "id": "id9rl_CsmSRY",
        "outputId": "0f094d03-fa0b-40db-d1cd-883449e2ee3d"
      },
      "execution_count": 189,
      "outputs": [
        {
          "output_type": "stream",
          "name": "stdout",
          "text": [
            "<class 'pandas.core.frame.DataFrame'>\n",
            "RangeIndex: 24 entries, 0 to 23\n",
            "Data columns (total 1 columns):\n",
            " #   Column  Non-Null Count  Dtype  \n",
            "---  ------  --------------  -----  \n",
            " 0   0       24 non-null     float32\n",
            "dtypes: float32(1)\n",
            "memory usage: 224.0 bytes\n"
          ]
        }
      ]
    },
    {
      "cell_type": "code",
      "source": [
        "# Visualisasi hasil\n",
        "\n",
        "plt.figure(figsize=(22,9))\n",
        "plt.plot(real_percentofbaseline_chile, color = 'blue', label = 'PercentOfBaseline Asli')\n",
        "plt.plot(predicted_percentofbaseline_chile, color = 'green', label = 'PercentOfBaseline Prediksi')\n",
        "plt.title('Prediksi PercentOfBaseline Chile')\n",
        "plt.xlabel('Date')\n",
        "plt.ylabel('PercentOfBaseline')\n",
        "plt.legend(loc=\"lower left\")\n",
        "plt.show()"
      ],
      "metadata": {
        "colab": {
          "base_uri": "https://localhost:8080/",
          "height": 383
        },
        "id": "rZDlijSCtAhb",
        "outputId": "b4a81424-f948-4512-ed07-3fb025f25101"
      },
      "execution_count": 190,
      "outputs": [
        {
          "output_type": "display_data",
          "data": {
            "text/plain": [
              "<Figure size 1584x648 with 1 Axes>"
            ],
            "image/png": "[encoded data removed]"
          },
          "metadata": {}
        }
      ]
    },
    {
      "cell_type": "markdown",
      "source": [
        "#### 4.4 Negara Australia"
      ],
      "metadata": {
        "id": "XCWW3wr5UPXi"
      }
    },
    {
      "cell_type": "code",
      "source": [
        "# dataset Australia\n",
        "\n",
        "df_australia.head()"
      ],
      "metadata": {
        "colab": {
          "base_uri": "https://localhost:8080/",
          "height": 206
        },
        "id": "7QRUnfqV1tnA",
        "outputId": "901679fa-f03b-46fc-e1f0-5f3bd664f09b"
      },
      "execution_count": 191,
      "outputs": [
        {
          "output_type": "execute_result",
          "data": {
            "text/plain": [
              "          Date  PercentOfBaseline\n",
              "171 2020-03-16                 92\n",
              "31  2020-03-17                 90\n",
              "129 2020-03-18                 97\n",
              "84  2020-03-19                 89\n",
              "65  2020-03-20                 85"
            ],
            "text/html": [
              "\n",
              "  <div id=\"df-daef748a-b001-4596-895e-f5d400ce8e04\">\n",
              "    <div class=\"colab-df-container\">\n",
              "      <div>\n",
              "<style scoped>\n",
              "    .dataframe tbody tr th:only-of-type {\n",
              "        vertical-align: middle;\n",
              "    }\n",
              "\n",
              "    .dataframe tbody tr th {\n",
              "        vertical-align: top;\n",
              "    }\n",
              "\n",
              "    .dataframe thead th {\n",
              "        text-align: right;\n",
              "    }\n",
              "</style>\n",
              "<table border=\"1\" class=\"dataframe\">\n",
              "  <thead>\n",
              "    <tr style=\"text-align: right;\">\n",
              "      <th></th>\n",
              "      <th>Date</th>\n",
              "      <th>PercentOfBaseline</th>\n",
              "    </tr>\n",
              "  </thead>\n",
              "  <tbody>\n",
              "    <tr>\n",
              "      <th>171</th>\n",
              "      <td>2020-03-16</td>\n",
              "      <td>92</td>\n",
              "    </tr>\n",
              "    <tr>\n",
              "      <th>31</th>\n",
              "      <td>2020-03-17</td>\n",
              "      <td>90</td>\n",
              "    </tr>\n",
              "    <tr>\n",
              "      <th>129</th>\n",
              "      <td>2020-03-18</td>\n",
              "      <td>97</td>\n",
              "    </tr>\n",
              "    <tr>\n",
              "      <th>84</th>\n",
              "      <td>2020-03-19</td>\n",
              "      <td>89</td>\n",
              "    </tr>\n",
              "    <tr>\n",
              "      <th>65</th>\n",
              "      <td>2020-03-20</td>\n",
              "      <td>85</td>\n",
              "    </tr>\n",
              "  </tbody>\n",
              "</table>\n",
              "</div>\n",
              "      <button class=\"colab-df-convert\" onclick=\"convertToInteractive('df-daef748a-b001-4596-895e-f5d400ce8e04')\"\n",
              "              title=\"Convert this dataframe to an interactive table.\"\n",
              "              style=\"display:none;\">\n",
              "        \n",
              "  <svg xmlns=\"http://www.w3.org/2000/svg\" height=\"24px\"viewBox=\"0 0 24 24\"\n",
              "       width=\"24px\">\n",
              "    <path d=\"M0 0h24v24H0V0z\" fill=\"none\"/>\n",
              "    <path d=\"M18.56 5.44l.94 2.06.94-2.06 2.06-.94-2.06-.94-.94-2.06-.94 2.06-2.06.94zm-11 1L8.5 8.5l.94-2.06 2.06-.94-2.06-.94L8.5 2.5l-.94 2.06-2.06.94zm10 10l.94 2.06.94-2.06 2.06-.94-2.06-.94-.94-2.06-.94 2.06-2.06.94z\"/><path d=\"M17.41 7.96l-1.37-1.37c-.4-.4-.92-.59-1.43-.59-.52 0-1.04.2-1.43.59L10.3 9.45l-7.72 7.72c-.78.78-.78 2.05 0 2.83L4 21.41c.39.39.9.59 1.41.59.51 0 1.02-.2 1.41-.59l7.78-7.78 2.81-2.81c.8-.78.8-2.07 0-2.86zM5.41 20L4 18.59l7.72-7.72 1.47 1.35L5.41 20z\"/>\n",
              "  </svg>\n",
              "      </button>\n",
              "      \n",
              "  <style>\n",
              "    .colab-df-container {\n",
              "      display:flex;\n",
              "      flex-wrap:wrap;\n",
              "      gap: 12px;\n",
              "    }\n",
              "\n",
              "    .colab-df-convert {\n",
              "      background-color: #E8F0FE;\n",
              "      border: none;\n",
              "      border-radius: 50%;\n",
              "      cursor: pointer;\n",
              "      display: none;\n",
              "      fill: #1967D2;\n",
              "      height: 32px;\n",
              "      padding: 0 0 0 0;\n",
              "      width: 32px;\n",
              "    }\n",
              "\n",
              "    .colab-df-convert:hover {\n",
              "      background-color: #E2EBFA;\n",
              "      box-shadow: 0px 1px 2px rgba(60, 64, 67, 0.3), 0px 1px 3px 1px rgba(60, 64, 67, 0.15);\n",
              "      fill: #174EA6;\n",
              "    }\n",
              "\n",
              "    [theme=dark] .colab-df-convert {\n",
              "      background-color: #3B4455;\n",
              "      fill: #D2E3FC;\n",
              "    }\n",
              "\n",
              "    [theme=dark] .colab-df-convert:hover {\n",
              "      background-color: #434B5C;\n",
              "      box-shadow: 0px 1px 3px 1px rgba(0, 0, 0, 0.15);\n",
              "      filter: drop-shadow(0px 1px 2px rgba(0, 0, 0, 0.3));\n",
              "      fill: #FFFFFF;\n",
              "    }\n",
              "  </style>\n",
              "\n",
              "      <script>\n",
              "        const buttonEl =\n",
              "          document.querySelector('#df-daef748a-b001-4596-895e-f5d400ce8e04 button.colab-df-convert');\n",
              "        buttonEl.style.display =\n",
              "          google.colab.kernel.accessAllowed ? 'block' : 'none';\n",
              "\n",
              "        async function convertToInteractive(key) {\n",
              "          const element = document.querySelector('#df-daef748a-b001-4596-895e-f5d400ce8e04');\n",
              "          const dataTable =\n",
              "            await google.colab.kernel.invokeFunction('convertToInteractive',\n",
              "                                                     [key], {});\n",
              "          if (!dataTable) return;\n",
              "\n",
              "          const docLinkHtml = 'Like what you see? Visit the ' +\n",
              "            '<a target=\"_blank\" href=https://colab.research.google.com/notebooks/data_table.ipynb>data table notebook</a>'\n",
              "            + ' to learn more about interactive tables.';\n",
              "          element.innerHTML = '';\n",
              "          dataTable['output_type'] = 'display_data';\n",
              "          await google.colab.output.renderOutput(dataTable, element);\n",
              "          const docLink = document.createElement('div');\n",
              "          docLink.innerHTML = docLinkHtml;\n",
              "          element.appendChild(docLink);\n",
              "        }\n",
              "      </script>\n",
              "    </div>\n",
              "  </div>\n",
              "  "
            ]
          },
          "metadata": {},
          "execution_count": 191
        }
      ]
    },
    {
      "cell_type": "code",
      "source": [
        "# membuat data train \n",
        "\n",
        "df_train_australia = df_australia[:231]"
      ],
      "metadata": {
        "id": "GEAKqHGS1tkb"
      },
      "execution_count": 193,
      "outputs": []
    },
    {
      "cell_type": "code",
      "source": [
        "# melihat info\n",
        "\n",
        "df_train_australia.info()"
      ],
      "metadata": {
        "colab": {
          "base_uri": "https://localhost:8080/"
        },
        "id": "09s3vUsR1thx",
        "outputId": "fe37390b-fa25-4722-c842-8447c30dc835"
      },
      "execution_count": 194,
      "outputs": [
        {
          "output_type": "stream",
          "name": "stdout",
          "text": [
            "<class 'pandas.core.frame.DataFrame'>\n",
            "Int64Index: 231 entries, 171 to 14\n",
            "Data columns (total 2 columns):\n",
            " #   Column             Non-Null Count  Dtype         \n",
            "---  ------             --------------  -----         \n",
            " 0   Date               231 non-null    datetime64[ns]\n",
            " 1   PercentOfBaseline  231 non-null    int64         \n",
            "dtypes: datetime64[ns](1), int64(1)\n",
            "memory usage: 5.4 KB\n"
          ]
        }
      ]
    },
    {
      "cell_type": "code",
      "source": [
        "# memilih kolom yang digunakan\n",
        "\n",
        "training_set_australia = df_train_australia['PercentOfBaseline']"
      ],
      "metadata": {
        "id": "WsP4k9NV1tex"
      },
      "execution_count": 195,
      "outputs": []
    },
    {
      "cell_type": "code",
      "source": [
        "# membuat dataframe train\n",
        "\n",
        "training_set_australia = pd.DataFrame(training_set_australia)"
      ],
      "metadata": {
        "id": "Flj95v2e1tcN"
      },
      "execution_count": 196,
      "outputs": []
    },
    {
      "cell_type": "code",
      "source": [
        "# standarisasi nilai\n",
        "\n",
        "scale_australia = MinMaxScaler(feature_range = (0, 1))\n",
        "\n",
        "training_set_scaled_australia = scale_australia.fit_transform(training_set_australia)"
      ],
      "metadata": {
        "id": "BI3lGptJ1tZS"
      },
      "execution_count": 197,
      "outputs": []
    },
    {
      "cell_type": "code",
      "source": [
        "# membuat struktur data dengan 30 timesteps dan 1 output\n",
        "\n",
        "X_train = []\n",
        "y_train = []\n",
        "\n",
        "for i in range(30, 231):\n",
        "    X_train.append(training_set_scaled_australia[i-30:i, 0])\n",
        "    y_train.append(training_set_scaled_australia[i, 0])\n",
        "    \n",
        "X_train, y_train = np.array(X_train), np.array(y_train)"
      ],
      "metadata": {
        "id": "c2srfXg-1tWn"
      },
      "execution_count": 199,
      "outputs": []
    },
    {
      "cell_type": "code",
      "source": [
        "# Reshaping\n",
        "\n",
        "X_train = np.reshape(X_train, (X_train.shape[0], X_train.shape[1], 1))"
      ],
      "metadata": {
        "id": "98EXG3WR1tUX"
      },
      "execution_count": 200,
      "outputs": []
    },
    {
      "cell_type": "code",
      "source": [
        "# Inisialisasi RNN\n",
        "\n",
        "model_australia = Sequential()"
      ],
      "metadata": {
        "id": "a59tBrnX1tRQ"
      },
      "execution_count": 201,
      "outputs": []
    },
    {
      "cell_type": "code",
      "source": [
        "# menambahkan layer LSTM pertama dan mengatur Dropout\n",
        "model_australia.add(LSTM(\n",
        "    units = 60,\n",
        "    activation = 'tanh',\n",
        "    return_sequences = True,\n",
        "    input_shape = (X_train.shape[1], 1)\n",
        "))\n",
        "model_australia.add(Dropout(0.2))\n",
        "\n",
        "# menambahkan layer LSTM kedua dan mengatur Dropout\n",
        "model_australia.add(LSTM(\n",
        "    units = 80,\n",
        "    activation = 'relu',\n",
        "    return_sequences = True\n",
        "))\n",
        "model_australia.add(Dropout(0.2))\n",
        "\n",
        "# menambahkan layer LSTM ketiga dan mengatur Dropout\n",
        "model_australia.add(LSTM(\n",
        "    units = 100,\n",
        "    activation = 'tanh',\n",
        "    return_sequences = True\n",
        "))\n",
        "model_australia.add(Dropout(0.2))\n",
        "\n",
        "# menambahkan layer LSTM keempat dan mengatur Dropout\n",
        "model_australia.add(LSTM(\n",
        "    units = 120\n",
        "))\n",
        "model_australia.add(Dropout(0.2))\n",
        "\n",
        "# menambahkan layer output\n",
        "model_australia.add(Dense(\n",
        "    units = 1\n",
        "))\n",
        "\n",
        "# rangkuman\n",
        "model_australia.summary()"
      ],
      "metadata": {
        "colab": {
          "base_uri": "https://localhost:8080/"
        },
        "id": "uSPsY8_Q1tOH",
        "outputId": "6a520386-79e5-40bd-edf1-54ed25e2709f"
      },
      "execution_count": 202,
      "outputs": [
        {
          "output_type": "stream",
          "name": "stderr",
          "text": [
            "WARNING:tensorflow:Layer lstm_21 will not use cuDNN kernels since it doesn't meet the criteria. It will use a generic GPU kernel as fallback when running on GPU.\n"
          ]
        },
        {
          "output_type": "stream",
          "name": "stdout",
          "text": [
            "Model: \"sequential_5\"\n",
            "_________________________________________________________________\n",
            " Layer (type)                Output Shape              Param #   \n",
            "=================================================================\n",
            " lstm_20 (LSTM)              (None, 30, 60)            14880     \n",
            "                                                                 \n",
            " dropout_20 (Dropout)        (None, 30, 60)            0         \n",
            "                                                                 \n",
            " lstm_21 (LSTM)              (None, 30, 80)            45120     \n",
            "                                                                 \n",
            " dropout_21 (Dropout)        (None, 30, 80)            0         \n",
            "                                                                 \n",
            " lstm_22 (LSTM)              (None, 30, 100)           72400     \n",
            "                                                                 \n",
            " dropout_22 (Dropout)        (None, 30, 100)           0         \n",
            "                                                                 \n",
            " lstm_23 (LSTM)              (None, 120)               106080    \n",
            "                                                                 \n",
            " dropout_23 (Dropout)        (None, 120)               0         \n",
            "                                                                 \n",
            " dense_5 (Dense)             (None, 1)                 121       \n",
            "                                                                 \n",
            "=================================================================\n",
            "Total params: 238,601\n",
            "Trainable params: 238,601\n",
            "Non-trainable params: 0\n",
            "_________________________________________________________________\n"
          ]
        }
      ]
    },
    {
      "cell_type": "code",
      "source": [
        "# Compile RNN\n",
        "\n",
        "model_australia.compile(optimizer = 'adam', loss = 'mean_squared_error')"
      ],
      "metadata": {
        "id": "mDLtwla_1tK-"
      },
      "execution_count": 203,
      "outputs": []
    },
    {
      "cell_type": "code",
      "source": [
        "# menerapkan RNN ke dalam train set\n",
        "\n",
        "epoch = 100 \n",
        "batch_size = 32\n",
        "\n",
        "model_australia.fit(X_train, y_train, epochs = epoch, batch_size = batch_size)"
      ],
      "metadata": {
        "colab": {
          "base_uri": "https://localhost:8080/"
        },
        "id": "2vWJP9G_1tIQ",
        "outputId": "a4ebfbcd-58e6-4e87-a66b-f5b2ec627d43"
      },
      "execution_count": 204,
      "outputs": [
        {
          "output_type": "stream",
          "name": "stdout",
          "text": [
            "Epoch 1/100\n",
            "7/7 [==============================] - 7s 71ms/step - loss: 0.0700\n",
            "Epoch 2/100\n",
            "7/7 [==============================] - 1s 77ms/step - loss: 0.0332\n",
            "Epoch 3/100\n",
            "7/7 [==============================] - 0s 69ms/step - loss: 0.0227\n",
            "Epoch 4/100\n",
            "7/7 [==============================] - 0s 68ms/step - loss: 0.0175\n",
            "Epoch 5/100\n",
            "7/7 [==============================] - 0s 67ms/step - loss: 0.0155\n",
            "Epoch 6/100\n",
            "7/7 [==============================] - 0s 70ms/step - loss: 0.0167\n",
            "Epoch 7/100\n",
            "7/7 [==============================] - 0s 65ms/step - loss: 0.0188\n",
            "Epoch 8/100\n",
            "7/7 [==============================] - 0s 69ms/step - loss: 0.0200\n",
            "Epoch 9/100\n",
            "7/7 [==============================] - 0s 64ms/step - loss: 0.0186\n",
            "Epoch 10/100\n",
            "7/7 [==============================] - 0s 71ms/step - loss: 0.0148\n",
            "Epoch 11/100\n",
            "7/7 [==============================] - 0s 68ms/step - loss: 0.0151\n",
            "Epoch 12/100\n",
            "7/7 [==============================] - 0s 66ms/step - loss: 0.0136\n",
            "Epoch 13/100\n",
            "7/7 [==============================] - 0s 69ms/step - loss: 0.0139\n",
            "Epoch 14/100\n",
            "7/7 [==============================] - 0s 65ms/step - loss: 0.0145\n",
            "Epoch 15/100\n",
            "7/7 [==============================] - 0s 70ms/step - loss: 0.0148\n",
            "Epoch 16/100\n",
            "7/7 [==============================] - 0s 72ms/step - loss: 0.0148\n",
            "Epoch 17/100\n",
            "7/7 [==============================] - 0s 69ms/step - loss: 0.0135\n",
            "Epoch 18/100\n",
            "7/7 [==============================] - 0s 68ms/step - loss: 0.0125\n",
            "Epoch 19/100\n",
            "7/7 [==============================] - 0s 65ms/step - loss: 0.0143\n",
            "Epoch 20/100\n",
            "7/7 [==============================] - 1s 72ms/step - loss: 0.0126\n",
            "Epoch 21/100\n",
            "7/7 [==============================] - 0s 69ms/step - loss: 0.0147\n",
            "Epoch 22/100\n",
            "7/7 [==============================] - 0s 68ms/step - loss: 0.0131\n",
            "Epoch 23/100\n",
            "7/7 [==============================] - 0s 71ms/step - loss: 0.0132\n",
            "Epoch 24/100\n",
            "7/7 [==============================] - 1s 70ms/step - loss: 0.0134\n",
            "Epoch 25/100\n",
            "7/7 [==============================] - 0s 66ms/step - loss: 0.0137\n",
            "Epoch 26/100\n",
            "7/7 [==============================] - 0s 70ms/step - loss: 0.0134\n",
            "Epoch 27/100\n",
            "7/7 [==============================] - 0s 65ms/step - loss: 0.0129\n",
            "Epoch 28/100\n",
            "7/7 [==============================] - 0s 70ms/step - loss: 0.0135\n",
            "Epoch 29/100\n",
            "7/7 [==============================] - 0s 70ms/step - loss: 0.0137\n",
            "Epoch 30/100\n",
            "7/7 [==============================] - 0s 72ms/step - loss: 0.0133\n",
            "Epoch 31/100\n",
            "7/7 [==============================] - 1s 76ms/step - loss: 0.0127\n",
            "Epoch 32/100\n",
            "7/7 [==============================] - 0s 66ms/step - loss: 0.0127\n",
            "Epoch 33/100\n",
            "7/7 [==============================] - 0s 70ms/step - loss: 0.0133\n",
            "Epoch 34/100\n",
            "7/7 [==============================] - 0s 67ms/step - loss: 0.0142\n",
            "Epoch 35/100\n",
            "7/7 [==============================] - 1s 72ms/step - loss: 0.0125\n",
            "Epoch 36/100\n",
            "7/7 [==============================] - 0s 66ms/step - loss: 0.0140\n",
            "Epoch 37/100\n",
            "7/7 [==============================] - 1s 70ms/step - loss: 0.0124\n",
            "Epoch 38/100\n",
            "7/7 [==============================] - 1s 73ms/step - loss: 0.0150\n",
            "Epoch 39/100\n",
            "7/7 [==============================] - 1s 76ms/step - loss: 0.0166\n",
            "Epoch 40/100\n",
            "7/7 [==============================] - 1s 74ms/step - loss: 0.0134\n",
            "Epoch 41/100\n",
            "7/7 [==============================] - 0s 67ms/step - loss: 0.0119\n",
            "Epoch 42/100\n",
            "7/7 [==============================] - 0s 67ms/step - loss: 0.0130\n",
            "Epoch 43/100\n",
            "7/7 [==============================] - 1s 71ms/step - loss: 0.0138\n",
            "Epoch 44/100\n",
            "7/7 [==============================] - 0s 68ms/step - loss: 0.0130\n",
            "Epoch 45/100\n",
            "7/7 [==============================] - 0s 69ms/step - loss: 0.0147\n",
            "Epoch 46/100\n",
            "7/7 [==============================] - 0s 68ms/step - loss: 0.0134\n",
            "Epoch 47/100\n",
            "7/7 [==============================] - 0s 71ms/step - loss: 0.0130\n",
            "Epoch 48/100\n",
            "7/7 [==============================] - 0s 68ms/step - loss: 0.0179\n",
            "Epoch 49/100\n",
            "7/7 [==============================] - 0s 72ms/step - loss: 0.0179\n",
            "Epoch 50/100\n",
            "7/7 [==============================] - 0s 68ms/step - loss: 0.0141\n",
            "Epoch 51/100\n",
            "7/7 [==============================] - 0s 70ms/step - loss: 0.0124\n",
            "Epoch 52/100\n",
            "7/7 [==============================] - 0s 69ms/step - loss: 0.0120\n",
            "Epoch 53/100\n",
            "7/7 [==============================] - 0s 69ms/step - loss: 0.0114\n",
            "Epoch 54/100\n",
            "7/7 [==============================] - 0s 63ms/step - loss: 0.0121\n",
            "Epoch 55/100\n",
            "7/7 [==============================] - 0s 69ms/step - loss: 0.0129\n",
            "Epoch 56/100\n",
            "7/7 [==============================] - 0s 68ms/step - loss: 0.0132\n",
            "Epoch 57/100\n",
            "7/7 [==============================] - 0s 69ms/step - loss: 0.0120\n",
            "Epoch 58/100\n",
            "7/7 [==============================] - 1s 76ms/step - loss: 0.0123\n",
            "Epoch 59/100\n",
            "7/7 [==============================] - 0s 68ms/step - loss: 0.0123\n",
            "Epoch 60/100\n",
            "7/7 [==============================] - 0s 69ms/step - loss: 0.0118\n",
            "Epoch 61/100\n",
            "7/7 [==============================] - 0s 68ms/step - loss: 0.0120\n",
            "Epoch 62/100\n",
            "7/7 [==============================] - 0s 68ms/step - loss: 0.0119\n",
            "Epoch 63/100\n",
            "7/7 [==============================] - 0s 70ms/step - loss: 0.0121\n",
            "Epoch 64/100\n",
            "7/7 [==============================] - 0s 73ms/step - loss: 0.0114\n",
            "Epoch 65/100\n",
            "7/7 [==============================] - 0s 68ms/step - loss: 0.0117\n",
            "Epoch 66/100\n",
            "7/7 [==============================] - 0s 63ms/step - loss: 0.0119\n",
            "Epoch 67/100\n",
            "7/7 [==============================] - 0s 68ms/step - loss: 0.0127\n",
            "Epoch 68/100\n",
            "7/7 [==============================] - 0s 72ms/step - loss: 0.0120\n",
            "Epoch 69/100\n",
            "7/7 [==============================] - 0s 71ms/step - loss: 0.0110\n",
            "Epoch 70/100\n",
            "7/7 [==============================] - 0s 66ms/step - loss: 0.0120\n",
            "Epoch 71/100\n",
            "7/7 [==============================] - 0s 70ms/step - loss: 0.0120\n",
            "Epoch 72/100\n",
            "7/7 [==============================] - 0s 71ms/step - loss: 0.0119\n",
            "Epoch 73/100\n",
            "7/7 [==============================] - 0s 67ms/step - loss: 0.0117\n",
            "Epoch 74/100\n",
            "7/7 [==============================] - 0s 68ms/step - loss: 0.0115\n",
            "Epoch 75/100\n",
            "7/7 [==============================] - 0s 68ms/step - loss: 0.0117\n",
            "Epoch 76/100\n",
            "7/7 [==============================] - 0s 66ms/step - loss: 0.0128\n",
            "Epoch 77/100\n",
            "7/7 [==============================] - 0s 70ms/step - loss: 0.0110\n",
            "Epoch 78/100\n",
            "7/7 [==============================] - 0s 71ms/step - loss: 0.0114\n",
            "Epoch 79/100\n",
            "7/7 [==============================] - 0s 72ms/step - loss: 0.0115\n",
            "Epoch 80/100\n",
            "7/7 [==============================] - 0s 70ms/step - loss: 0.0104\n",
            "Epoch 81/100\n",
            "7/7 [==============================] - 1s 73ms/step - loss: 0.0115\n",
            "Epoch 82/100\n",
            "7/7 [==============================] - 0s 69ms/step - loss: 0.0109\n",
            "Epoch 83/100\n",
            "7/7 [==============================] - 0s 71ms/step - loss: 0.0110\n",
            "Epoch 84/100\n",
            "7/7 [==============================] - 0s 66ms/step - loss: 0.0113\n",
            "Epoch 85/100\n",
            "7/7 [==============================] - 0s 68ms/step - loss: 0.0110\n",
            "Epoch 86/100\n",
            "7/7 [==============================] - 0s 69ms/step - loss: 0.0116\n",
            "Epoch 87/100\n",
            "7/7 [==============================] - 0s 69ms/step - loss: 0.0119\n",
            "Epoch 88/100\n",
            "7/7 [==============================] - 1s 75ms/step - loss: 0.0106\n",
            "Epoch 89/100\n",
            "7/7 [==============================] - 1s 73ms/step - loss: 0.0104\n",
            "Epoch 90/100\n",
            "7/7 [==============================] - 1s 73ms/step - loss: 0.0115\n",
            "Epoch 91/100\n",
            "7/7 [==============================] - 0s 68ms/step - loss: 0.0113\n",
            "Epoch 92/100\n",
            "7/7 [==============================] - 0s 67ms/step - loss: 0.0109\n",
            "Epoch 93/100\n",
            "7/7 [==============================] - 0s 64ms/step - loss: 0.0115\n",
            "Epoch 94/100\n",
            "7/7 [==============================] - 0s 68ms/step - loss: 0.0109\n",
            "Epoch 95/100\n",
            "7/7 [==============================] - 0s 67ms/step - loss: 0.0115\n",
            "Epoch 96/100\n",
            "7/7 [==============================] - 1s 74ms/step - loss: 0.0105\n",
            "Epoch 97/100\n",
            "7/7 [==============================] - 0s 67ms/step - loss: 0.0101\n",
            "Epoch 98/100\n",
            "7/7 [==============================] - 0s 68ms/step - loss: 0.0106\n",
            "Epoch 99/100\n",
            "7/7 [==============================] - 0s 69ms/step - loss: 0.0111\n",
            "Epoch 100/100\n",
            "7/7 [==============================] - 0s 69ms/step - loss: 0.0114\n"
          ]
        },
        {
          "output_type": "execute_result",
          "data": {
            "text/plain": [
              "<keras.callbacks.History at 0x7feabc0c0710>"
            ]
          },
          "metadata": {},
          "execution_count": 204
        }
      ]
    },
    {
      "cell_type": "code",
      "source": [
        "# membuat data test\n",
        "\n",
        "df_test_australia = df_australia[231:]"
      ],
      "metadata": {
        "id": "VEHob95l1tFV"
      },
      "execution_count": 205,
      "outputs": []
    },
    {
      "cell_type": "code",
      "source": [
        "# melihat info\n",
        "\n",
        "df_test_australia.info()"
      ],
      "metadata": {
        "colab": {
          "base_uri": "https://localhost:8080/"
        },
        "id": "x1oSRv1S1tCg",
        "outputId": "e739ccf8-0bb8-4d41-af6c-ec4ebbdbd773"
      },
      "execution_count": 206,
      "outputs": [
        {
          "output_type": "stream",
          "name": "stdout",
          "text": [
            "<class 'pandas.core.frame.DataFrame'>\n",
            "Int64Index: 26 entries, 158 to 198\n",
            "Data columns (total 2 columns):\n",
            " #   Column             Non-Null Count  Dtype         \n",
            "---  ------             --------------  -----         \n",
            " 0   Date               26 non-null     datetime64[ns]\n",
            " 1   PercentOfBaseline  26 non-null     int64         \n",
            "dtypes: datetime64[ns](1), int64(1)\n",
            "memory usage: 624.0 bytes\n"
          ]
        }
      ]
    },
    {
      "cell_type": "code",
      "source": [
        "# memilih kolom yang digunakan\n",
        "\n",
        "testing_set_australia = df_test_australia['PercentOfBaseline']"
      ],
      "metadata": {
        "id": "MIJ57NRi1s_R"
      },
      "execution_count": 207,
      "outputs": []
    },
    {
      "cell_type": "code",
      "source": [
        "# membuat dataframe test\n",
        "\n",
        "testing_set_australia = pd.DataFrame(testing_set_australia)"
      ],
      "metadata": {
        "id": "EbhYqyaq1s7r"
      },
      "execution_count": 208,
      "outputs": []
    },
    {
      "cell_type": "code",
      "source": [
        "# melihat info\n",
        "\n",
        "testing_set_australia.info()"
      ],
      "metadata": {
        "colab": {
          "base_uri": "https://localhost:8080/"
        },
        "id": "Jjw7hPp61s4t",
        "outputId": "c5a8d98b-3755-4a59-95cf-4816a62ecd32"
      },
      "execution_count": 209,
      "outputs": [
        {
          "output_type": "stream",
          "name": "stdout",
          "text": [
            "<class 'pandas.core.frame.DataFrame'>\n",
            "Int64Index: 26 entries, 158 to 198\n",
            "Data columns (total 1 columns):\n",
            " #   Column             Non-Null Count  Dtype\n",
            "---  ------             --------------  -----\n",
            " 0   PercentOfBaseline  26 non-null     int64\n",
            "dtypes: int64(1)\n",
            "memory usage: 416.0 bytes\n"
          ]
        }
      ]
    },
    {
      "cell_type": "code",
      "source": [
        "# melihat data asli\n",
        "\n",
        "real_percentofbaseline_australia = testing_set_australia.values\n",
        "\n",
        "real_percentofbaseline_australia"
      ],
      "metadata": {
        "colab": {
          "base_uri": "https://localhost:8080/"
        },
        "id": "BGTi-BXJ1s1X",
        "outputId": "33c48e46-af54-4cc3-bc44-8125b14305a8"
      },
      "execution_count": 210,
      "outputs": [
        {
          "output_type": "execute_result",
          "data": {
            "text/plain": [
              "array([[20],\n",
              "       [24],\n",
              "       [21],\n",
              "       [27],\n",
              "       [28],\n",
              "       [20],\n",
              "       [23],\n",
              "       [18],\n",
              "       [26],\n",
              "       [23],\n",
              "       [22],\n",
              "       [25],\n",
              "       [22],\n",
              "       [27],\n",
              "       [33],\n",
              "       [18],\n",
              "       [22],\n",
              "       [25],\n",
              "       [28],\n",
              "       [25],\n",
              "       [18],\n",
              "       [46],\n",
              "       [28],\n",
              "       [29],\n",
              "       [21],\n",
              "       [27]])"
            ]
          },
          "metadata": {},
          "execution_count": 210
        }
      ]
    },
    {
      "cell_type": "code",
      "source": [
        "# mendapatkan data prediksi\n",
        "\n",
        "dataset_total_australia = pd.concat((df_train_australia['PercentOfBaseline'], df_test_australia['PercentOfBaseline']), axis = 0)\n",
        "\n",
        "inputs_australia = dataset_total_australia[len(dataset_total_australia) - len(df_test_australia) - 30:].values\n",
        "inputs_australia = inputs_australia.reshape(-1, 1)\n",
        "inputs_australia = scale_australia.transform(inputs_australia)\n",
        "\n",
        "X_test = []\n",
        "\n",
        "for i in range(30, 56):\n",
        "    X_test.append(inputs_australia[i-30:i, 0])\n",
        "\n",
        "X_test = np.array(X_test)\n",
        "X_test = np.reshape(X_test, (X_test.shape[0], X_test.shape[1], 1))\n",
        "\n",
        "predicted_percentofbaseline_australia = model_australia.predict(X_test)\n",
        "predicted_percentofbaseline_australia = scale_australia.inverse_transform(predicted_percentofbaseline_australia)"
      ],
      "metadata": {
        "colab": {
          "base_uri": "https://localhost:8080/"
        },
        "id": "4ply4icp1sx-",
        "outputId": "950f754f-422c-4a29-ed50-51febd810b30"
      },
      "execution_count": 211,
      "outputs": [
        {
          "output_type": "stream",
          "name": "stderr",
          "text": [
            "/usr/local/lib/python3.7/dist-packages/sklearn/base.py:451: UserWarning: X does not have valid feature names, but MinMaxScaler was fitted with feature names\n",
            "  \"X does not have valid feature names, but\"\n",
            "WARNING:tensorflow:6 out of the last 8 calls to <function Model.make_predict_function.<locals>.predict_function at 0x7feabb6e3a70> triggered tf.function retracing. Tracing is expensive and the excessive number of tracings could be due to (1) creating @tf.function repeatedly in a loop, (2) passing tensors with different shapes, (3) passing Python objects instead of tensors. For (1), please define your @tf.function outside of the loop. For (2), @tf.function has experimental_relax_shapes=True option that relaxes argument shapes that can avoid unnecessary retracing. For (3), please refer to https://www.tensorflow.org/guide/function#controlling_retracing and https://www.tensorflow.org/api_docs/python/tf/function for  more details.\n"
          ]
        }
      ]
    },
    {
      "cell_type": "code",
      "source": [
        "# melihat X_test\n",
        "\n",
        "X_test.shape"
      ],
      "metadata": {
        "colab": {
          "base_uri": "https://localhost:8080/"
        },
        "id": "DTZVNU-51svH",
        "outputId": "3659d16d-5d84-49f8-a7ab-0a2ce863ec50"
      },
      "execution_count": 212,
      "outputs": [
        {
          "output_type": "execute_result",
          "data": {
            "text/plain": [
              "(26, 30, 1)"
            ]
          },
          "metadata": {},
          "execution_count": 212
        }
      ]
    },
    {
      "cell_type": "code",
      "source": [
        "# membuat dataframe prediksi\n",
        "\n",
        "predicted_percentofbaseline_australia = pd.DataFrame(predicted_percentofbaseline_australia)"
      ],
      "metadata": {
        "id": "Wv572A9F1sod"
      },
      "execution_count": 213,
      "outputs": []
    },
    {
      "cell_type": "code",
      "source": [
        "# melihat info\n",
        "\n",
        "predicted_percentofbaseline_australia.info()"
      ],
      "metadata": {
        "colab": {
          "base_uri": "https://localhost:8080/"
        },
        "id": "j6z-S6ah1slI",
        "outputId": "4ee15559-7f96-45d9-f220-4216809d16f9"
      },
      "execution_count": 214,
      "outputs": [
        {
          "output_type": "stream",
          "name": "stdout",
          "text": [
            "<class 'pandas.core.frame.DataFrame'>\n",
            "RangeIndex: 26 entries, 0 to 25\n",
            "Data columns (total 1 columns):\n",
            " #   Column  Non-Null Count  Dtype  \n",
            "---  ------  --------------  -----  \n",
            " 0   0       26 non-null     float32\n",
            "dtypes: float32(1)\n",
            "memory usage: 232.0 bytes\n"
          ]
        }
      ]
    },
    {
      "cell_type": "code",
      "source": [
        "# Visualisasi hasil\n",
        "\n",
        "plt.figure(figsize=(22,9))\n",
        "plt.plot(real_percentofbaseline_australia, color = 'blue', label = 'PercentOfBaseline Asli')\n",
        "plt.plot(predicted_percentofbaseline_australia, color = 'green', label = 'PercentOfBaseline Prediksi')\n",
        "plt.title('Prediksi PercentOfBaseline Australia')\n",
        "plt.xlabel('Date')\n",
        "plt.ylabel('PercentOfBaseline')\n",
        "plt.legend(loc=\"upper left\")\n",
        "plt.show()"
      ],
      "metadata": {
        "colab": {
          "base_uri": "https://localhost:8080/",
          "height": 383
        },
        "id": "0_Htsvx41shs",
        "outputId": "ed6151d5-fd98-45db-d598-22e8b46054fc"
      },
      "execution_count": 216,
      "outputs": [
        {
          "output_type": "display_data",
          "data": {
            "text/plain": [
              "<Figure size 1584x648 with 1 Axes>"
            ],
            "image/png": "[encoded data removed]"
          },
          "metadata": {}
        }
      ]
    }
  ]
}